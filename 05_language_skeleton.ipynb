{
 "cells": [
  {
   "cell_type": "markdown",
   "metadata": {},
   "source": [
    "## 5. Внутренности языка\n",
    "\n",
    "> «Эта стена тянется с юга на север, и в ней есть лишь один проход, скрываемый пылающим пламенем, так что ни один смертный не может туда проникнуть.»  \n",
    ">  \n",
    "> Приключения сэра Джона Мандевиля.  \n",
    "\n",
    "![Language skeleton](https://raw.githubusercontent.com/amaargiru/pycore/main/pics/05_Language_Skeleton.png)  "
   ]
  },
  {
   "cell_type": "markdown",
   "metadata": {},
   "source": [
    "## Сборщик мусора\n",
    "\n",
    "Стандартный интерпретатор Python (CPython) использует для сборки мусора два алгоритма: подсчет ссылок (reference counting, неотключаемый механизм) и garbage collector (стандартный модуль gc из Python, отключаемый). Алгоритм подсчета ссылок не умеет определять циклические ссылки.\n",
    "\n",
    "Циклические ссылки могут находиться только в “контейнерных” объектах, т.е. в объектах, которые могут хранить другие объекты, например в списках, словарях, классах и кортежах. GC не следит за простыми и неизменяемыми типами, за исключением кортежей. Некоторые кортежи и словари также исключаются из списка слежки при выполнении определенных условий. Со всеми остальными объектами гарантированно справляется алгоритм подсчета ссылок.\n",
    "\n",
    "В отличие от алгоритма подсчета ссылок, циклический GC не работает постоянно, а запускается периодически. GC разделяет все объекты на 3 поколения. Новые объекты попадают в первое поколение. Если новый объект выживает процесс сборки мусора, то он перемещается в следующее поколение. Чем выше поколение, тем реже оно сканируется. Так как новые объекты зачастую имеют очень маленький срок жизни (являются временными), то имеет смысл опрашивать их чаще, чем те, которые уже прошли через несколько этапов сборки мусора.  \n",
    "В каждом поколенн есть специальный счетчик и порог срабатывания, при достижении которого начинается процесс сборки мусора. Как только в Python создается какой-либо контейнерный объект, он проверяет эти пороги. Если условия срабатывают, то начинается процесс сборки мусора.  \n",
    "Стандартные пороги срабатывания для поколений установлены на 700, 10 и 10 соответственно, но всегда можно изменить их с помощью функций gc.get_threshold и gc.set_threshold.\n",
    "\n",
    "Алгоритм поиска циклических ссылок: говоря кратко, GC проходит по всем объектам из выбранного поколения и временно удаляет все ссылки от каждого объекта. Все объекты, у которых после этого счетчик ссылок меньше двух, считаются недоступными и могут быть удалены.\n",
    "\n",
    "Ручной отлов циклических ссылок возможен благодаря наличию у GC отладочному флагу DEBUG_SAVEALL, с которым все недоступные объекты будут добавлены в список gc.garbage:\n",
    "```python\n",
    "gc.set_debug(gc.DEBUG_SAVEALL)\n",
    "```\n",
    "Список gc.garbage, в свою очередь, можно визуализировать с помощью objgraph:\n",
    "\n",
    "<img src=\"garbage.svg\" style=\"height:350px\">\n",
    "\n",
    "В других интерпретаторах Python имеются другие механизмы сборки мусора, например, в интерпретаторе PyPy отсутствует алгоритм постоянного подсчета ссылок. Из-за этого, например, содержимое файла может быть обновлено только после прохода GC, а не тогда, когда файл был закрыт в программе."
   ]
  },
  {
   "cell_type": "markdown",
   "metadata": {},
   "source": [
    "### GIL\n",
    "\n",
    "Global Interpreter Lock - собенность интерпретатора, когда одновременно может исполняться только один тред, остальные треды в это время простаивают.  \n",
    "\n",
    "GIL позволяет безопасно согласовывать изменения данных. Без этого, например, если один тред удалит все элемены из списка, а второй начнет итерацию по нему, произойдет ошибка. Аналогично, сборщик мусора может начать некорректно подсчитывать ссылки. Проблему можно решить, установив блокировки на все разделяемые структуры данных, но это привнесло бы дополнительные сложности: оверхед по коду, потерю производительности, возможные deadlocks. GIL позволяет осуществлять простую интеграцию C-библиотек, которые зачастую тоже не потокобезопасны, а также обеспечивает быструю работу однопоточных скриптов.\n",
    "\n",
    "GIL работает так: на каждый тред выделяется некоторый квант времени. Он измеряется в машинных единицах “тиках” и по умолчанию равен 100. Как только на тред было потрачено 100 тиков, интерпретатор бросает этот тред и переключается на второй, тратит 100 тактов на него, затем третий, и так по кругу. Этот алгоритм гаранитрует, что всем тредам будет выделено ресурсов поровну.\n",
    "\n",
    "Проблема в том, что из-за GIL далеко не все задачи могут быть решены в тредах. Напротив, их использование чаще всего снижает быстродействие программы. С использованием тредов требуется следить за доступом к общим ресурсам: словарям, файлам, соединением к БД.\n",
    "\n",
    "Как обойти ограничения, накладываемые GIL?  \n",
    "Вариант 1 - использовать альтернативные интерпретаторы Python, например PyPy.  \n",
    "Вариант 2 - уход от многопоточности в сторону мультипроцессности, используя модуль multiprocessing. Последний вариант подробно разобран ниже."
   ]
  },
  {
   "cell_type": "markdown",
   "metadata": {},
   "source": [
    "\n",
    "### *args, **kwargs\n",
    "\n",
    "Выражения *args и **kwargs объявляют в сигнатуре функции. Они означают, что внутри функции будут доступны переменные с именами args и kwargs (без звездочек). Можно использовать другие имена, но это считается дурным тоном.\n",
    "\n",
    "args – это кортеж, который накапливает позиционные аргументы. kwargs – словарь позиционных аргументов, где ключ – имя параметра, значение – значение параметра.\n",
    "\n",
    "Важно: если в функцию не передано никаких параметров, переменные будут соответственно равны пустому кортежу и пустому словарю, а не None."
   ]
  },
  {
   "cell_type": "markdown",
   "metadata": {},
   "source": [
    "Arguments\n",
    "---------\n",
    "### Inside Function Call\n",
    " \n",
    "<function>(<positional_args>)                  # f(0, 0)\n",
    "<function>(<keyword_args>)                     # f(x=0, y=0)\n",
    "<function>(<positional_args>, <keyword_args>)  # f(0, y=0)\n",
    "\n",
    "### Inside Function Definition\n",
    " \n",
    "def f(<nondefault_args>):                      # def f(x, y):\n",
    "def f(<default_args>):                         # def f(x=0, y=0):\n",
    "def f(<nondefault_args>, <default_args>):      # def f(x, y=0):\n",
    " \n",
    "A function has its default values evaluated when it's first encountered in the scope.\n",
    "Any changes to default values that are mutable will persist between invocations.\n",
    "\n",
    "Splat Operator\n",
    "--------------\n",
    "### Inside Function Call\n",
    "Splat expands a collection into positional arguments, while splatty-splat expands a dictionary into keyword arguments.\n",
    " \n",
    "args   = (1, 2)\n",
    "kwargs = {'x': 3, 'y': 4, 'z': 5}\n",
    "func(*args, **kwargs)\n",
    "\n",
    "#### Is the same as:\n",
    " \n",
    "func(1, 2, x=3, y=4, z=5)\n",
    "\n",
    "### Inside Function Definition\n",
    "Splat combines zero or more positional arguments into a tuple, while splatty-splat combines zero or more keyword arguments into a dictionary.\n",
    " \n",
    "def add(*a):\n",
    "    return sum(a)\n",
    "\n",
    ">>> add(1, 2, 3)\n",
    "6\n",
    "\n",
    "#### Legal argument combinations:\n",
    " \n",
    "def f(*, x, y, z):          # f(x=1, y=2, z=3)\n",
    "def f(x, *, y, z):          # f(x=1, y=2, z=3) | f(1, y=2, z=3)\n",
    "def f(x, y, *, z):          # f(x=1, y=2, z=3) | f(1, y=2, z=3) | f(1, 2, z=3)\n",
    "\n",
    "def f(*args):               # f(1, 2, 3)\n",
    "def f(x, *args):            # f(1, 2, 3)\n",
    "def f(*args, z):            # f(1, 2, z=3)\n",
    "\n",
    "def f(**kwargs):            # f(x=1, y=2, z=3)\n",
    "def f(x, **kwargs):         # f(x=1, y=2, z=3) | f(1, y=2, z=3)\n",
    "def f(*, x, **kwargs):      # f(x=1, y=2, z=3)\n",
    "\n",
    "def f(*args, **kwargs):     # f(x=1, y=2, z=3) | f(1, y=2, z=3) | f(1, 2, z=3) | f(1, 2, 3)\n",
    "def f(x, *args, **kwargs):  # f(x=1, y=2, z=3) | f(1, y=2, z=3) | f(1, 2, z=3) | f(1, 2, 3)\n",
    "def f(*args, y, **kwargs):  # f(x=1, y=2, z=3) | f(1, y=2, z=3)\n",
    "\n",
    "### Other Uses\n",
    " \n",
    "<list>  = [*<collection> [, ...]]\n",
    "<set>   = {*<collection> [, ...]}\n",
    "<tuple> = (*<collection>, [...])\n",
    "<dict>  = {**<dict> [, ...]}\n",
    " \n",
    "head, *body, tail = <collection>\n",
    "\n",
    "Как передаются значения аргументов в функцию или метод?\n",
    "Как передаются аргументы функций в Python (by value or reference)?  "
   ]
  },
  {
   "cell_type": "markdown",
   "metadata": {},
   "source": [
    "### lambda-функции\n",
    "\n",
    "Это анонимные функции. Они не резервируют имени в пространстве имен. Лямбды часто передают в функции map, reduce, filter.\n",
    "\n",
    "Лямбды в Питоне могут состоять только из одного выражения. Используя синтаксис скобок, можно оформить тело лямбды в несколько строк.\n",
    "\n",
    "Допустимы ли следующие выражения?\n",
    "\n",
    "nope = lambda: pass\n",
    "riser = lambda x: raise Exception(x)\n",
    "Нет, при загрузке модуля выскочит исключение SyntaxError. В теле лямбды может быть только выражение. pass и raise являются операторами."
   ]
  },
  {
   "cell_type": "markdown",
   "metadata": {},
   "source": [
    "### Lambda\n",
    " \n",
    "<func> = lambda: <return_value>\n",
    "<func> = lambda <arg_1>, <arg_2>: <return_value>"
   ]
  },
  {
   "cell_type": "markdown",
   "metadata": {},
   "source": [
    "### Conditional Expression\n",
    "```\n",
    "<obj> = <exp_if_true> if <condition> else <exp_if_false>\n",
    " \n",
    ">>> [a if a else 'zero' for a in (0, 1, 2, 3)]\n",
    "['zero', 1, 2, 3]\n",
    "```"
   ]
  },
  {
   "cell_type": "markdown",
   "metadata": {},
   "source": [
    "Closure\n",
    "\n",
    "We have/get a closure in Python when:\n",
    "A nested function references a value of its enclosing function and then\n",
    "the enclosing function returns the nested function.\n",
    "\n",
    "```python\n",
    "def get_multiplier(a):\n",
    "    def out(b):\n",
    "        return a * b\n",
    "    return out\n",
    "```\n",
    "\n",
    "```\n",
    ">>> multiply_by_3 = get_multiplier(3)\n",
    ">>> multiply_by_3(10)\n",
    "30\n",
    "```\n",
    "\n",
    "If multiple nested functions within enclosing function reference the same value, that value gets shared.\n",
    "To dynamically access function's first free variable use `'<function>.__closure__[0].cell_contents'`."
   ]
  },
  {
   "cell_type": "markdown",
   "metadata": {},
   "source": [
    "### Исключения (Exceptions)\n",
    "\n",
    "### Перехват исключений\n",
    "\n",
    "Простой пример:"
   ]
  },
  {
   "cell_type": "code",
   "execution_count": null,
   "metadata": {},
   "outputs": [
    {
     "name": "stdout",
     "output_type": "stream",
     "text": [
      "Error: division by zero\n"
     ]
    }
   ],
   "source": [
    "a: float = 0\n",
    "b: float = 0\n",
    "\n",
    "try:\n",
    "    b: float = 1/a\n",
    "except ZeroDivisionError as e:\n",
    "    print(f\"Error: {e}\")"
   ]
  },
  {
   "cell_type": "markdown",
   "metadata": {},
   "source": [
    "Более сложный пример. Code inside the *else* block will only be executed if *try* block had no exceptions. Code inside the *finally* block will always be executed (unless a signal is received)."
   ]
  },
  {
   "cell_type": "code",
   "execution_count": null,
   "metadata": {},
   "outputs": [
    {
     "name": "stdout",
     "output_type": "stream",
     "text": [
      "Error: division by zero\n",
      "This part is always called\n"
     ]
    }
   ],
   "source": [
    "import traceback\n",
    "\n",
    "a: float = 0\n",
    "b: float = 0\n",
    "\n",
    "try:\n",
    "    b: float = 1/a\n",
    "except ZeroDivisionError as e:\n",
    "    print(f\"Error: {e}\")\n",
    "except ArithmeticError as e:\n",
    "    print(f\"We have a bit more complicated problem: {e}\")\n",
    "except Exception as serious_problem:  # Catch all exceptions\n",
    "    print(f\"I don't really know what is going on: {traceback.print_exception(serious_problem)}\")\n",
    "else:\n",
    "    print(\"No errors!\")\n",
    "finally:\n",
    "    print(\"This part is always called\")"
   ]
  },
  {
   "cell_type": "markdown",
   "metadata": {},
   "source": [
    "### Встроенные исключения\n",
    "```text\n",
    "BaseException\n",
    " +-- SystemExit                   # Raised by the sys.exit() function\n",
    " +-- KeyboardInterrupt            # Raised when the user press the interrupt key (ctrl-c)\n",
    " +-- Exception                    # User-defined exceptions should be derived from this class\n",
    "      +-- ArithmeticError         # Base class for arithmetic errors\n",
    "      |    +-- ZeroDivisionError  # Dividing by zero\n",
    "      +-- AttributeError          # Attribute is missing\n",
    "      +-- EOFError                # Raised by input() when it hits end-of-file condition\n",
    "      +-- LookupError             # Raised when a look-up on a collection fails\n",
    "      |    +-- IndexError         # A sequence index is out of range\n",
    "      |    +-- KeyError           # A dictionary key or set element is missing\n",
    "      +-- NameError               # An object is missing\n",
    "      +-- OSError                 # Errors such as “file not found”\n",
    "      |    +-- FileNotFoundError  # File or directory is requested but doesn't exist\n",
    "      +-- RuntimeError            # Error that don't fall into other categories\n",
    "      |    +-- RecursionError     # Maximum recursion depth is exceeded\n",
    "      +-- StopIteration           # Raised by next() when run on an empty iterator\n",
    "      +-- TypeError               # An argument is of wrong type\n",
    "      +-- ValueError              # When an argument is of right type but inappropriate value\n",
    "           +-- UnicodeError       # Encoding/decoding strings to/from bytes fails\n",
    "```"
   ]
  },
  {
   "cell_type": "markdown",
   "metadata": {},
   "source": [
    "### Вызов исключений"
   ]
  },
  {
   "cell_type": "code",
   "execution_count": null,
   "metadata": {},
   "outputs": [
    {
     "name": "stdout",
     "output_type": "stream",
     "text": [
      "We have ValueError, as a planned!\n"
     ]
    }
   ],
   "source": [
    "from decimal import *\n",
    "\n",
    "def div(a: Decimal, b: Decimal) -> Decimal:\n",
    "    if b == 0:\n",
    "        raise ValueError(\"Second argument must be non-zero\")\n",
    "    return a/b\n",
    "\n",
    "try:\n",
    "    c: Decimal = div(1, 0)\n",
    "except ValueError:\n",
    "    print(\"We have ValueError, as a planned!\")\n",
    "    # raise # We can re-raise exception"
   ]
  },
  {
   "cell_type": "markdown",
   "metadata": {},
   "source": [
    "### Выход из программы при помощи вызова исключения SystemExit"
   ]
  },
  {
   "cell_type": "code",
   "execution_count": null,
   "metadata": {},
   "outputs": [],
   "source": [
    "import sys\n",
    "\n",
    "# sys.exit()  # Exits with exit code 0 (success)\n",
    "# sys.exit(777)  # Exits with passed exit code"
   ]
  },
  {
   "cell_type": "markdown",
   "metadata": {},
   "source": [
    "### Исключения, определяемые пользователем"
   ]
  },
  {
   "cell_type": "code",
   "execution_count": null,
   "metadata": {},
   "outputs": [
    {
     "ename": "MyException",
     "evalue": "My car is broken",
     "output_type": "error",
     "traceback": [
      "\u001b[1;31m---------------------------------------------------------------------------\u001b[0m\n",
      "\n",
      "\u001b[1;31mMyException\u001b[0m                               Traceback (most recent call last)\n",
      "\n",
      "\u001b[1;32mc:\\Works\\amaargiru\\pycore\\01_python.ipynb Ячейка 103\u001b[0m in \u001b[0;36m<cell line: 4>\u001b[1;34m()\u001b[0m\n",
      "\n",
      "\u001b[0;32m      <a href='vscode-notebook-cell:/c%3A/Works/amaargiru/pycore/01_python.ipynb#Y204sZmlsZQ%3D%3D?line=0'>1</a>\u001b[0m \u001b[39mclass\u001b[39;00m \u001b[39mMyException\u001b[39;00m(\u001b[39mException\u001b[39;00m):\n",
      "\n",
      "\u001b[0;32m      <a href='vscode-notebook-cell:/c%3A/Works/amaargiru/pycore/01_python.ipynb#Y204sZmlsZQ%3D%3D?line=1'>2</a>\u001b[0m     \u001b[39mpass\u001b[39;00m\n",
      "\n",
      "\u001b[1;32m----> <a href='vscode-notebook-cell:/c%3A/Works/amaargiru/pycore/01_python.ipynb#Y204sZmlsZQ%3D%3D?line=3'>4</a>\u001b[0m \u001b[39mraise\u001b[39;00m MyException(\u001b[39m\"\u001b[39m\u001b[39mMy car is broken\u001b[39m\u001b[39m\"\u001b[39m)\n",
      "\n",
      "\n",
      "\n",
      "\u001b[1;31mMyException\u001b[0m: My car is broken"
     ]
    }
   ],
   "source": [
    "class MyException(Exception):\n",
    "    pass\n",
    "\n",
    "raise MyException(\"My car is broken\")"
   ]
  },
  {
   "cell_type": "markdown",
   "metadata": {},
   "source": [
    "Exception Object\n",
    "\n",
    "arguments = <name>.args\n",
    "exc_type = <name>.__class__\n",
    "filename = <name>.__traceback__.tb_frame.f_code.co_filename\n",
    "func_name = <name>.__traceback__.tb_frame.f_code.co_name\n",
    "line = linecache.getline(filename, <name>.__traceback__.tb_lineno)\n",
    "error_msg = ''.join(traceback.format_exception(exc_type, <name>, <name>.__traceback__))"
   ]
  },
  {
   "cell_type": "markdown",
   "metadata": {},
   "source": [
    "## PEP8\n",
    "\n",
    "Пробовал flake8 + black, остановился на линтере, встроенном в Pycharm + mypy."
   ]
  },
  {
   "cell_type": "markdown",
   "metadata": {},
   "source": [
    "### Одинарное (_) и двойное (__) подчеркивания. Name mangling.\n",
    "\n",
    "Python не использует спецификаторы доступа, такие как private, public, protected и т. д. Однако, в нем есть имитации поведения переменных путем использования одинарного или двойного подчеркивания в качестве префикса к именам переменных. По умолчанию переменные без подчеркивания являются общедоступными.\n",
    "\n",
    "Поле класса с одним лидирующим подчеркиванием говорит о том, что параметр используется только внутри класса. При этом он доступен для обращения извне.\n",
    "\n",
    "```python\n",
    "class Foo(object):\n",
    "    def __init__(self):\n",
    "        self._bar = 42\n",
    "\n",
    "Foo()._bar\n",
    "42\n",
    "```\n",
    "\n",
    "Современные IDE вроде PyCharm подсвечивают обращение к полю с подчеркиванием, но ошибки в процессе исполнения не будет.\n",
    "\n",
    "Поля с двойным подчеркиванием доступны внутри класса, но извне доступны только при обращении к полю вида _<ClassName>__<fieldName> (name mangling). Значение скрытого поля вне класса получить можно, но это смотрится уродливо.\n",
    "\n",
    "```python\n",
    "class Foo(object):\n",
    "    def __init__(self):\n",
    "        self.__bar = 42\n",
    "\n",
    "Foo().__bar\n",
    "  AttributeError: 'Foo' object has no attribute '__bar'\n",
    "\n",
    "Foo()._Foo__bar\n",
    "42\n",
    "```\n",
    "\n",
    "В целом, джентельменское соглашение пайтон-программистов подразумевает (простое именование для приватных переменных или использование одинарного подчеркивания для переменных, которые **очень** нежелательно вытаскивать за пределы класса) + использование методов для доступа к переменным\n",
    "```python\n",
    "class Stack(object):\n",
    "\n",
    "    def __init__(self):\n",
    "        self._storage = []\n",
    "\n",
    "    def push(self, value):\n",
    "        self._storage.append(value)\n",
    "```\n"
   ]
  },
  {
   "cell_type": "markdown",
   "metadata": {},
   "source": [
    "## Introspection\n",
    "\n",
    "Inspecting code at runtime.\n",
    "\n",
    "### Variables\n",
    "\n",
    "<list> = dir()                             # Names of local variables (incl. functions).\n",
    "<dict> = vars()                            # Dict of local variables. Also locals().\n",
    "<dict> = globals()                         # Dict of global variables.\n",
    "\n",
    "### Attributes\n",
    "\n",
    "<list> = dir(<object>)                     # Names of object's attributes (incl. methods).\n",
    "<dict> = vars(<object>)                    # Dict of writable attributes. Also <obj>.__dict__.\n",
    "<bool> = hasattr(<object>, '<attr_name>')  # Checks if getattr() raises an AttributeError.\n",
    "value  = getattr(<object>, '<attr_name>')  # Raises AttributeError if attribute is missing.\n",
    "setattr(<object>, '<attr_name>', value)    # Only works on objects with '__dict__' attribute.\n",
    "delattr(<object>, '<attr_name>')           # Same. Also `del <object>.<attr_name>`.\n",
    "\n",
    "### Parameters\n",
    "\n",
    "from inspect import signature\n",
    "<Sig>  = signature(<function>)             # Function's Signature object.\n",
    "<dict> = <Sig>.parameters                  # Dict of function's Parameter objects.\n",
    "<str>  = <Param>.name                      # Parameter's name.\n",
    "<memb> = <Param>.kind                      # Member of ParameterKind enum.\n",
    "\n",
    "(использование dir(), dir, hasattr(), getattr())\n",
    "\n",
    "Как получить список атрибутов объекта?\n",
    "\n",
    "Функция dir возвращает список строк – полей объекта. Поле __dict__ содержит словарь вида {поле -> значение}."
   ]
  },
  {
   "cell_type": "markdown",
   "metadata": {},
   "source": [
    "Operator\n",
    "--------\n",
    "Module of functions that provide the functionality of operators.\n",
    "\n",
    "import operator as op\n",
    "<el>      = op.add/sub/mul/truediv/floordiv/mod(<el>, <el>)  # +, -, *, /, //, %\n",
    "<int/set> = op.and_/or_/xor(<int/set>, <int/set>)            # &, |, ^\n",
    "<bool>    = op.eq/ne/lt/le/gt/ge(<sortable>, <sortable>)     # ==, !=, <, <=, >, >=\n",
    "<func>    = op.itemgetter/attrgetter/methodcaller(<obj>)     # [index/key], .name, .name()\n",
    "\n",
    "elementwise_sum  = map(op.add, list_a, list_b)\n",
    "sorted_by_second = sorted(<collection>, key=op.itemgetter(1))\n",
    "sorted_by_both   = sorted(<collection>, key=op.itemgetter(1, 0))\n",
    "product_of_elems = functools.reduce(op.mul, <collection>)\n",
    "union_of_sets    = functools.reduce(op.or_, <coll_of_sets>)\n",
    "first_element    = op.methodcaller('pop', 0)(<list>)\n",
    " \n",
    "Binary operators require objects to have and(), or(), xor() and invert() special methods, unlike logical operators that work on all types of objects.\n",
    "Also: `'<bool> = <bool> &|^ <bool>'` and `'<int> = <bool> &|^ <int>'`."
   ]
  }
 ],
 "metadata": {
  "kernelspec": {
   "display_name": "Python 3.10.0 64-bit",
   "language": "python",
   "name": "python3"
  },
  "language_info": {
   "name": "python",
   "version": "3.10.0"
  },
  "orig_nbformat": 4,
  "vscode": {
   "interpreter": {
    "hash": "26de051ba29f2982a8de78e945f0abaf191376122a1563185a90213a26c5da77"
   }
  }
 },
 "nbformat": 4,
 "nbformat_minor": 2
}
