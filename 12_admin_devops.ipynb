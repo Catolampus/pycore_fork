{
 "cells": [
  {
   "attachments": {},
   "cell_type": "markdown",
   "metadata": {},
   "source": [
    "## 12. Администрирование/DevOps\n",
    "\n",
    "> «О Уннефер, дай этому человеку в твоем Царстве тысячу хлебов, тысячу быков, тысячу сосудов пива».  \n",
    ">  \n",
    "> Обращение к Осирису, перевод М. Э. Матье.  \n",
    "\n",
    "![DevOps](https://raw.githubusercontent.com/amaargiru/pycore/main/pics/12_DevOps.png)  "
   ]
  },
  {
   "cell_type": "markdown",
   "metadata": {},
   "source": [
    "### Работа с git <a name=\"gitflowminimum\"></a>\n",
    "\n",
    "git config --global core.editor \"'C:/Program Files/Notepad++/notepad++.exe' -multiInst -notabbar -nosession -noPlugin\"  \n",
    "\n",
    "Создать новый репозитарий: git init  \n",
    "Добавить файлы: git add --all  \n",
    "\n",
    "git commit  \n",
    "Добавляем в текстовом файле первой строкой англоязычный заголовок коммита, второй и далее строками можно добавить русскоязычное описание. Сохраняем, закрываем.  \n",
    "\n",
    "Список веток: git branch --list  \n",
    "Создаем новую ветку, переключение на ветку не выполняется: git branch small-update  \n",
    "Переключение на вновь созданную ветку: git checkout small-update  \n",
    "Переключение на ветку master: git checkout master  \n",
    "Слияние веток: git merge small-update  \n",
    "git log --graph --full-history --all --color --pretty=format:\"%x1b[31m%h%x09%x1b[32m%d%x1b[0m%x20%s\"  \n",
    "\n",
    "Слияние коммитов:  \n",
    "git rebase  \n",
    "squash  \n",
    "\n",
    "Попытка перенести одиночный коммит из ветки в ветку: cherry pick  \n",
    "Правка истории git с риском затереть чужие коммиты: git push origin master --force-with-lease (форсированный push)  \n",
    "\n",
    "## Precommit check\n",
    "\n",
    "Хуки (скрипты на shell'ах или Python), позволяющие:\n",
    "выполнять проверку отправляемого в репозиторий кода на валидность (PEP8, документация и т. д.);\n",
    "выполнять комплексное тестирование проекта;\n",
    "прерывать операцию commit'а в случае обнаружения ошибок и отображать подробный журнал ошибок.\n",
    "\n",
    "### Базовые знания Linux и работа в консоли\n",
    "\n",
    "Разумеется, администрирование подразумевает работу в консоли. Ничего сложного в этом нет, в конце концов, Анджелина Джоли в «Хакерах» и Кэрри-Энн Мосс в «Матрице» прекрасно справились!\n",
    "\n",
    "CI/CD\n",
    "\n",
    "Continuous testing\n",
    "GitHub Actions\n",
    "Jenkins\n",
    "\n",
    "Containers\n",
    "\n",
    "Docker\n",
    "Kubernetes\n",
    "\n",
    "### Git-flow\n",
    "\n",
    "<img src=\"gitflow.svg\" style=\"height:320px\">\n",
    "\n",
    "В целом, в настоящее время модель git-flow используется сравнительно редко. Эта модель ветвления основана на предсказуемом, долгосрочном цикле релиза новых версий, а не на выпуске нового кода каждые несколько часов. Git-flow сильно усложняет continuous delivery, когда разработчики выпускают частые обновления путем слияния с мастером (фактически, непосредственно в production) и плохо подходит для проектов, разбитых на сервисы.  \n",
    "Единственный вариант, неплохо подходящий под git-flow — большая команда (20+ человек), планомерно выпускающая несколько параллельных релизов или занимающаяся поддержкой нескольких версий приложения параллельно. В таком случае git-flow действительно может помочь навести порядок.  \n",
    "\n",
    "### Магистральная разработка\n",
    "\n",
    "Магистральная разработка (trunk-based development) фактически является обязательной практикой CI/CD и предполагает небольшие частые обновления главной ветки. Подразумевает ежедневные коммиты, многоуровневое автоматическое тестирование и быструю кеширующую сборку."
   ]
  },
  {
   "cell_type": "markdown",
   "metadata": {},
   "source": [
    "### GitHub Actions"
   ]
  },
  {
   "cell_type": "markdown",
   "metadata": {},
   "source": [
    "GitHub Actions — часть CI/CD процесса, позволяющая автоматизировать последовательности рутинных действий при обновлении репозитария на GitHub. К таким действиям можно, в частности, отнести:  \n",
    "- проверку правильности оформления кода линтером;  \n",
    "- проверку правописания;  \n",
    "- сборка проекта;  \n",
    "- проведение тестов;  \n",
    "- перенос новых файлов на продакшн-сервер.\n",
    "\n",
    "GitHub Actions позволяет настроить последовательность действий так, что при непрохождении очередного шага (например, при неверном форматировании кода или при ошибке в прохождении тестов) разработчик не сможет запушить свой коммит.\n",
    "\n",
    "Для запуска запланированных вами действий GitHub временно создает виртуальную машину под управлением выбранной вами операционной системы.\n",
    "\n",
    "Основные концепции GitHub Actions — workflow, jobs, steps, actions (экшены), переменные, контексты и секреты.\n",
    "\n",
    "Workflow — поток выполнения задач; в репозитории может быть несколько workflow, каждый из которых выполняет отдельную большую задачу, например тестирование или развёртывания проекта. Согласно принципу единственной ответственности (SRP, буква S в SOLID), имеет смысл разбивать всё множество операций CI/CD процесса на отдельные сущности (применительно к GitHub Actions — на отдельные workflow), в изменении которых заинтересована только одна группа лиц. Соответственно, workflow процесса тестирования и workflow деплоя могут быть созданы разными специалистами из разных отделов.\n",
    "\n",
    "Job — задача внутри workflow. Часто используют непереведенное значение — джоб.\n",
    "\n",
    "Steps — элементарные шаги, последовательно выполняемые внутри джоба.\n",
    "\n",
    "Экшены — готовые модули, написанные другими пользователями для решения типовых задач. К таким задачам относятся, например, линтеры или модули поиска уязвимостей."
   ]
  },
  {
   "cell_type": "markdown",
   "metadata": {},
   "source": [
    "## Источники  \n",
    "\n",
    "### Python\n",
    "\n",
    "Официальная документация Python [docs.python.org](https://docs.python.org/), включающая [The Python Standard Library](https://docs.python.org/3/library/index.html).  \n",
    "Весьма подробное руководство (совсем уж базовый синтаксис не включен): [Comprehensive Python Cheatsheet](https://github.com/gto76/python-cheatsheet).  \n",
    "Руководство с включением базового синтаксиса: [Python Cheatsheet](https://github.com/wilfredinni/python-cheatsheet). Включает практические Jupiter [Notebooks](https://github.com/wilfredinni/python-cheatsheet/tree/master/jupyter_notebooks).  \n",
    "Сипсок библиотек и фреймворков: [Awesome Python](https://github.com/vinta/awesome-python).  \n",
    "Около-питоновские практические советы (pip, virtualenv, pyInstaller и т. д.): [\"The Hitchhiker’s Guide to Python\"](https://github.com/realpython/python-guide).  \n",
    "Мануал для начинающих дата-сайентистов: [Joel Grus, \"Data Science from Scratch\"](https://github.com/joelgrus/data-science-from-scratch).  \n",
    "Руководство для начинающих: [\"Python Notes for Professionals\"](https://goalkicker.com/PythonBook/).  \n",
    "Руководство для опытных программистов: [\"Python 3 Patterns, Recipes and Idioms\"](https://python-3-patterns-idioms-test.readthedocs.io/en/latest/index.html).  \n",
    "Архитектурные паттерны: [Harry Percival & Bob Gregory, \"Architecture Patterns with Python\"](https://www.cosmicpython.com/book/preface.html).  \n",
    "\n",
    "### Git\n",
    "\n",
    "Статья 2010 года, положившая начало распространения git-flow. Сам автор сделал в 2020 дополнение к статье, где рекомендует командам, придерживающихся continuous delivery, переходить на GitHub flow: [A successful Git branching model](https://nvie.com/posts/a-successful-git-branching-model/).  \n",
    "git-flow (компания Atlassian изменила текст страницы, теперь там размещены рекомендации перехода на магистральную разработку): [git-flow](https://www.atlassian.com/git/tutorials/comparing-workflows/gitflow-workflow).  \n",
    "[Критика](https://habr.com/ru/company/flant/blog/491320/) git-flow.  \n",
    "[GitHub flow](https://docs.github.com/en/get-started/quickstart/github-flow).  \n"
   ]
  },
  {
   "cell_type": "markdown",
   "metadata": {},
   "source": [
    "### Вопросы для собеседования Python программиста по теме «Администрирование/DevOps», отранжированные по вероятности появления."
   ]
  },
  {
   "cell_type": "markdown",
   "metadata": {},
   "source": [
    "__Объясните, как сделать Python-скрипт исполняемым в ОС Linux?__\n",
    "\n",
    "1. Сделать скрипт исполняемым файлом:\n",
    "\n",
    "```bash\n",
    "chmod +x ./script.py\n",
    "```\n",
    "\n",
    "2. В текст скрипта нужно внести т. н. шебанг — строку, которая понятна для Bash, но для интерпретатора Python это просто комментарий:\n",
    "\n",
    "```python\n",
    "#!/usr/bin/env python3.12\n",
    "```\n",
    "\n",
    "3. Запустить скрипт, предварив имя файла точкой и слэшем:\n",
    "```bash\n",
    "./script.py\n",
    "```"
   ]
  }
 ],
 "metadata": {
  "language_info": {
   "name": "python"
  },
  "orig_nbformat": 4
 },
 "nbformat": 4,
 "nbformat_minor": 2
}
