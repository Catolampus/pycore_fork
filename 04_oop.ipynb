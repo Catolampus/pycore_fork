{
 "cells": [
  {
   "attachments": {},
   "cell_type": "markdown",
   "metadata": {},
   "source": [
    "## 4. ООП\n",
    "\n",
    "> «Место то несказанно прекрасно видом: всякое дерево благоцветно, и всякий плод зрел, и всевозможные яства изобилуют, всякое дуновение благовонно».  \n",
    "> \n",
    "> «Славянская книга Еноха».  \n",
    "\n",
    "![OOP](https://raw.githubusercontent.com/amaargiru/pycore/main/pics/04_OOP.png)  "
   ]
  },
  {
   "attachments": {},
   "cell_type": "markdown",
   "metadata": {},
   "source": [
    "### Классы и объекты\n",
    "\n",
    "Тут, конечно, было бы к месту кратенькое, минут на сорок, введеньице в тему классов и объектов, но в наш текущий формат такая мощная врезка не совсем укладывается. Объясню максимально просто, на доступных примерах из киновселенной «Чужих»:  \n",
    "объект — это один конкретный ксеноморф;  \n",
    "класс — это Королева ксеноморфов. Класс либо рожает ксеноморфа, либо может вступить в бой сам (@staticmethod);  \n",
    "метапрограммирование — это такая Супер-Королева, размером с «Сулако», которая рожает других Королев;  \n",
    "наследование — это ксеноморф из «Воскрешения», помните, миленький такой, взявший лучшее и от собственной генетической программы и от генов Рипли.  \n",
    "\n",
    "Мы попробуем вернуться к теме объектов с чуть более серьезным настроением позже, в главе «Архитектура», но, вообще, в объектно-ориентированном программировании нет ничего особо сложного; просто до него лучше дойти, предварительно немного погрязнув в поддержке обычного процедурного подхода, когда зачастую стоит выбор — попробовать подлечить этот кусок кода или уже усыпить и переписать всё по новой? Когда-то давно, когда я писал относительно несложные программы на ассемблере для микроконтроллеров, то читая Страуструпа, слегка недоумевал — зачем всё это? Чтобы осознать потребность в обуви, надо походить босиком."
   ]
  },
  {
   "attachments": {},
   "cell_type": "markdown",
   "metadata": {},
   "source": [
    "\n",
    "### Магические методы\n",
    "\n",
    "Специальные (называемые также magic или dunder) методы класса - перегрузка, позволяющая классам определять собственное поведение по отношению к операторам языка.  \n",
    "Магические они потому, что почти никогда не вызываются явно. Их вызывают встроенные функции или синтаксические конструкции. Например, функция len() вызывает метод \\_\\_len\\_\\_() переданного объекта. Метод \\_\\_add\\_\\_(self, other) вызывается автоматически при сложении оператором +.\n",
    "\n",
    "Примеры магических методы:\n",
    "\n",
    "\\_\\_init\\_\\_: конструктор класса  \n",
    "\\_\\_add\\_\\_: сложение с другим объектом  \n",
    "\\_\\_eq\\_\\_: проверка на равенство с другим объектом  \n",
    "\\_\\_cmp\\_\\_: сравнение (больше, меньше, равно)  \n",
    "\\_\\_iter\\_\\_: при подстановке объекта в цикл  "
   ]
  },
  {
   "cell_type": "code",
   "execution_count": 3,
   "metadata": {},
   "outputs": [
    {
     "name": "stdout",
     "output_type": "stream",
     "text": [
      "['__abs__', '__add__', '__and__', '__bool__', '__ceil__', '__class__', '__delattr__', '__dir__', '__divmod__', '__doc__', '__eq__', '__float__', '__floor__', '__floordiv__', '__format__', '__ge__', '__getattribute__', '__getnewargs__', '__gt__', '__hash__', '__index__', '__init__', '__init_subclass__', '__int__', '__invert__', '__le__', '__lshift__', '__lt__', '__mod__', '__mul__', '__ne__', '__neg__', '__new__', '__or__', '__pos__', '__pow__', '__radd__', '__rand__', '__rdivmod__', '__reduce__', '__reduce_ex__', '__repr__', '__rfloordiv__', '__rlshift__', '__rmod__', '__rmul__', '__ror__', '__round__', '__rpow__', '__rrshift__', '__rshift__', '__rsub__', '__rtruediv__', '__rxor__', '__setattr__', '__sizeof__', '__str__', '__sub__', '__subclasshook__', '__truediv__', '__trunc__', '__xor__', 'as_integer_ratio', 'bit_count', 'bit_length', 'conjugate', 'denominator', 'from_bytes', 'imag', 'numerator', 'real', 'to_bytes'] \n",
      "\n",
      "['__class__', '__delattr__', '__dict__', '__dir__', '__doc__', '__eq__', '__format__', '__ge__', '__getattribute__', '__gt__', '__hash__', '__init__', '__init_subclass__', '__le__', '__lt__', '__module__', '__ne__', '__new__', '__reduce__', '__reduce_ex__', '__repr__', '__setattr__', '__sizeof__', '__str__', '__subclasshook__', '__weakref__'] \n",
      "\n",
      "<__main__.A object at 0x000001A1FFF3AF20> \n",
      "\n",
      "<__main__.A object at 0x000001A1FFF3AF20>\n"
     ]
    }
   ],
   "source": [
    "print(dir(int), \"\\n\")\n",
    "\n",
    "\n",
    "class A:  # An empty class\n",
    "    ...\n",
    "\n",
    "\n",
    "a = A()\n",
    "print(dir(a), \"\\n\")\n",
    "print(repr(a), \"\\n\")\n",
    "print(str(a))"
   ]
  },
  {
   "attachments": {},
   "cell_type": "markdown",
   "metadata": {},
   "source": [
    "Особенностью метода \\_\\_init\\_\\_ является то, что он не должен ничего возвращать. При попытке возврата данных будет сгенерировано исключение.  \n",
    "\\_\\_repr\\_\\_ (representation) возвращает более-менее машино-читаемое представление объекта, полезное для отладки.  \n",
    "*Иногда* repr может содержать достаточно информации для восстановления объекта.  \n",
    "\\_\\_str\\_\\_ возвращает человеко-читаемое сообщение. Если \\_\\_str\\_\\_ не определён, то str использует repr.  "
   ]
  },
  {
   "cell_type": "code",
   "execution_count": 4,
   "metadata": {},
   "outputs": [
    {
     "name": "stdout",
     "output_type": "stream",
     "text": [
      "Hi, my name is Charlie\n",
      "Person 'Charlie'\n",
      "Charlie\n"
     ]
    }
   ],
   "source": [
    "class Person:  # A simple class with init, repr and str methods\n",
    "    def __init__(self, name: str):\n",
    "        self.name: str = name\n",
    "\n",
    "    def __repr__(self):\n",
    "        return f\"Person '{self.name}'\"\n",
    "\n",
    "    def __str__(self):\n",
    "        return f\"{self.name}\"\n",
    "\n",
    "    def say_hi(self):\n",
    "        print(\"Hi, my name is\", self.name)\n",
    "\n",
    "\n",
    "p = Person(\"Charlie\")\n",
    "p.say_hi()\n",
    "print(repr(p))\n",
    "print(str(p))"
   ]
  },
  {
   "attachments": {},
   "cell_type": "markdown",
   "metadata": {},
   "source": [
    "### @property\n",
    "\n",
    "Декоратор [@property](https://docs.python.org/3/library/functions.html?highlight=property#property) используется для определения методов, доступных как поля. Таким образом операции чтения/записи поля можно обрамить дополнительной логикой, например, проверкой допустимых значений входного аргумента."
   ]
  },
  {
   "cell_type": "code",
   "execution_count": 5,
   "metadata": {},
   "outputs": [
    {
     "name": "stdout",
     "output_type": "stream",
     "text": [
      "125.66370614359172\n"
     ]
    }
   ],
   "source": [
    "import math\n",
    "\n",
    "class Circle:\n",
    "    def __init__(self, radius, max_radius):\n",
    "        self._radius = radius\n",
    "        self.max_radius = max_radius\n",
    "\n",
    "    @property\n",
    "    def radius(self):\n",
    "        return self._radius\n",
    "\n",
    "    @radius.setter\n",
    "    def radius(self, value):\n",
    "        if value <= self.max_radius:\n",
    "            self._radius = value\n",
    "        else:\n",
    "            raise ValueError\n",
    "\n",
    "    @property\n",
    "    def area(self):\n",
    "        return 2 * self.radius * math.pi\n",
    "\n",
    "\n",
    "circle = Circle(10, 100)\n",
    "circle.radius = 20  # OK\n",
    "# circle.radius = 101  # Raises ValueError\n",
    "print(circle.area)"
   ]
  },
  {
   "attachments": {},
   "cell_type": "markdown",
   "metadata": {},
   "source": [
    "### @staticmethod\n",
    "\n",
    "Обычный метод (т. е. не помеченный декораторами @staticmethod или @classmethod) имеет доступ к свойствам конкретного экземпляра класса.  \n",
    "\n",
    "@staticmethod — метод, принадлежащий классу, а не экземпляру класса. Можно вызывать без создания экземпляра, т. к. метод не имеет доступа к свойствам экземпляра. При помощи @staticmethod помечают функционал, логически связанный с классом, но не требующий доступа к свойствам экземпляра.\n",
    "\n",
    "### @classmethod, cls, self  \n",
    "\n",
    "Если метод не должен иметь доступа к свойствам конкретного экземпляра класса (как @staticmethod), но должен иметь доступ к другим методам и переменным класса, то следует использовать @classmethod."
   ]
  },
  {
   "cell_type": "code",
   "execution_count": 7,
   "metadata": {},
   "outputs": [
    {
     "name": "stdout",
     "output_type": "stream",
     "text": [
      "Run foo(<__main__.B object at 0x000001A1FFF3A980>, 1)\n",
      "Run class_foo(<class '__main__.B'>, 1)\n",
      "Run static_foo(1)\n"
     ]
    }
   ],
   "source": [
    "class B(object):\n",
    "    def foo(self, x):\n",
    "        print(f\"Run foo({self}, {x})\")\n",
    "\n",
    "    @classmethod\n",
    "    def class_foo(cls, x):\n",
    "        print(f\"Run class_foo({cls}, {x})\")\n",
    "\n",
    "    @staticmethod\n",
    "    def static_foo(x):\n",
    "        print(f\"Run static_foo({x})\")\n",
    "\n",
    "\n",
    "b = B()\n",
    "b.foo(1)\n",
    "b.class_foo(1)\n",
    "b.static_foo(1)"
   ]
  },
  {
   "attachments": {},
   "cell_type": "markdown",
   "metadata": {},
   "source": [
    "У @classmethod первым параметром должен быть cls (класс), а у обычного метода - self (экземпляр класса).  \n",
    "Для @staticmethod не требуется ни cls, ни self."
   ]
  },
  {
   "attachments": {},
   "cell_type": "markdown",
   "metadata": {},
   "source": [
    "### \\_\\_dict\\_\\_\n",
    "\n",
    "Каждый класс и каждый объект имеет атрибут \\_\\_dict\\_\\_. Это «системный», определённый интерпретатором атрибут, его не нужно создавать вручную. \\_\\_dict\\_\\_ — словарь, который хранит пользовательские атрибуты, и в котором ключом является _имя атрибута_, значением, соответственно, _значение атрибута_."
   ]
  },
  {
   "cell_type": "code",
   "execution_count": 10,
   "metadata": {},
   "outputs": [
    {
     "name": "stdout",
     "output_type": "stream",
     "text": [
      "{'__module__': '__main__', 'publisher': 'DC Comics', '__dict__': <attribute '__dict__' of 'Supercriminal' objects>, '__weakref__': <attribute '__weakref__' of 'Supercriminal' objects>, '__doc__': None}\n",
      "{}\n",
      "{'name': 'Edward Nygma'}\n",
      "DC Comics\n"
     ]
    }
   ],
   "source": [
    "class Supercriminal:\n",
    "    publisher = 'DC Comics'\n",
    "\n",
    "Riddler = Supercriminal()\n",
    "print(Supercriminal.__dict__)\n",
    "print(Riddler.__dict__)\n",
    "\n",
    "Riddler.name = 'Edward Nygma'\n",
    "print(Riddler.__dict__)  # Values from object __dict__\n",
    "\n",
    "print(Riddler.publisher)  # Value from class __dict__"
   ]
  },
  {
   "attachments": {},
   "cell_type": "markdown",
   "metadata": {},
   "source": [
    "Каждый раз при запросе пользовательского атрибута Python последовательно обыскивает сам объект, класс объекта и классы, от которых унасаледован класс объекта."
   ]
  },
  {
   "attachments": {},
   "cell_type": "markdown",
   "metadata": {},
   "source": [
    "\n",
    "### \\_\\_slots\\_\\_, \\_\\_weakref\\_\\_\n",
    "\n",
    "Если вы припомните разницу между списком и кортежем, а также между множеством и иимутабельным множеством, то заметите, что создатели Python пытаются предоставлять разработчикам выбор между удобством и скоростью (тут Си с ассемблерными вставками слегка напрягается, но потом опадает, как будто хотел что-то сказать, но благоразумно передумал). К списку таких же особенностей языка, заточенных на увеличение производительности и уменьшение занимаемой памяти, относится и \\_\\_slots\\_\\_.\n",
    "\n",
    "Вот [официальная документация](https://docs.python.org/3/reference/datamodel.html?highlight=slots#object.__slots__) по \\_\\_slots\\_\\_, а вот [дополнительные разъяснения](https://stackoverflow.com/questions/472000/usage-of-slots/28059785#28059785) от одного из разработчиков официальной документации. При выборе «slots или не slots» не забывайте также про существование [PEP 412 – Key-Sharing Dictionary](https://peps.python.org/pep-0412/), который внёс некоторый раздрай в некогда однозначное отношение к \\_\\_slots\\_\\_.\n",
    "\n",
    "\\_\\_dict\\_\\_, рассмотренный чуть выше – изменяемая структура, и вы можете на лету добавлять и удалять поля из класса, что удобно, но порой медленно. Вы можете разменять удобство на скорость и размер занимаемой памяти, создав \\_\\_slots\\_\\_ — жестко заданный список атрибутов, резервирующий память, создание которого _запрещает дальнейшее создание \\_\\_dict\\_\\_ и \\_\\_weakref\\_\\__ (про__weakref__ мы поговорим чуть ниже). Слоты используются, когда у класса может быть очень много полей, например, в ORM, либо когда критична производительность, потому что доступ к списку работает быстрее, чем поиск в словаре."
   ]
  },
  {
   "cell_type": "code",
   "execution_count": 9,
   "metadata": {},
   "outputs": [],
   "source": [
    "class Clan:\n",
    "    __slots__ = [\"first\", \"second\"]\n",
    "\n",
    "clan = Clan()\n",
    "clan.first = \"Joker\"\n",
    "clan.second = \"Lex Luthor\"\n",
    "# clan.third = \"Green Goblin\"  # Raises AttributeError\n",
    "# print(clan.__dict__)  # Raises AttributeError"
   ]
  },
  {
   "attachments": {},
   "cell_type": "markdown",
   "metadata": {},
   "source": [
    "Слоты используются, например в библиотеках requests (например, \\_\\_slots\\_\\_ = [\"url\", \"netloc\", \"simple_url\", \"pypi_url\", \"file_storage_domain\"]) или ORM peewee (\\_\\_slots\\_\\_ = ('stack', '_sql', '_values', 'alias_manager', 'state')).\n",
    "\n",
    "https://habr.com/ru/post/686220/\n",
    "\n",
    "https://docs.python.org/3/library/dataclasses.html#module-contents"
   ]
  },
  {
   "attachments": {},
   "cell_type": "markdown",
   "metadata": {},
   "source": [
    "### Утиная типизация\n",
    "\n",
    "[Утиная типизация](https://en.wikipedia.org/wiki/Duck_typing) (duck types) - постулирование реализации интерфейса классом не через явное объявление, а через реализацию методов интерфейса. Так, каждый класс, реализующий методы \\_\\_next\\_\\_() и \\_\\_iter\\_\\_(), автоматически становится итератором, несмотря на отсутствие явного объявления (что-нибудь вроде @iterator) или, скажем, наследования от класса Iterator.\n",
    "\n",
    "### Iterator\n",
    "\n",
    "Итератор - класс, реализующий методы \\_\\_next\\_\\_() и \\_\\_iter\\_\\_().  \n",
    "Метод \\_\\_next\\_\\_() должен возвращать следующее значение итератора или выкидывать исключение StopIteration, чтобы сигнализировать о том, что итератор исчерпал доступные значения.\n",
    "Метод \\_\\_iter\\_\\_() должен возвращать \"self\"."
   ]
  },
  {
   "cell_type": "code",
   "execution_count": 8,
   "metadata": {},
   "outputs": [
    {
     "name": "stdout",
     "output_type": "stream",
     "text": [
      "1\n",
      "2\n"
     ]
    }
   ],
   "source": [
    "class LimitCounter:\n",
    "    def __init__(self, max_value: int):\n",
    "        self.count = 0\n",
    "        self.max_value = max_value\n",
    "\n",
    "    def __next__(self):\n",
    "        self.count += 1\n",
    "\n",
    "        if self.count <= self.max_value:\n",
    "            return self.count\n",
    "        else:\n",
    "            raise StopIteration\n",
    "\n",
    "    def __iter__(self):\n",
    "        return self\n",
    "\n",
    "\n",
    "limit_counter = LimitCounter(2)\n",
    "print(next(limit_counter))\n",
    "print(next(limit_counter))\n",
    "\n",
    "\n",
    "# print(next(limit_counter))  # Raises StopIteration"
   ]
  },
  {
   "attachments": {},
   "cell_type": "markdown",
   "metadata": {},
   "source": [
    "### Comparable\n",
    "\n",
    "Начиная с Python 3.4, для того, чтобы экземпляры метода можно было сравнивать между собой, достаточно определить методы \\_\\_lt\\_\\_ (меньше) и \\_\\_eq\\_\\_ (равно), а также задействовать декоратор @functools.total_ordering."
   ]
  },
  {
   "cell_type": "code",
   "execution_count": 9,
   "metadata": {},
   "outputs": [
    {
     "name": "stdout",
     "output_type": "stream",
     "text": [
      "True\n"
     ]
    }
   ],
   "source": [
    "from functools import total_ordering\n",
    "\n",
    "@total_ordering\n",
    "class Person:\n",
    "    def __init__(self, firstname: str, lastname: str):\n",
    "        self.firstname: str = firstname\n",
    "        self.lastname: str = lastname\n",
    "\n",
    "    def _is_valid_operand(self, other):\n",
    "        return hasattr(other, \"lastname\") and hasattr(other, \"firstname\")\n",
    "\n",
    "    def __eq__(self, other):\n",
    "        if not self._is_valid_operand(other):\n",
    "            return NotImplemented\n",
    "        return (self.lastname, self.firstname) == (other.lastname, other.firstname)\n",
    "\n",
    "    def __lt__(self, other):\n",
    "        if not self._is_valid_operand(other):\n",
    "            return NotImplemented\n",
    "        return (self.lastname, self.firstname) < (other.lastname, other.firstname)\n",
    "\n",
    "\n",
    "Finn = Person(\"Finn\", \"the Human\")\n",
    "Jake = Person(\"Jake\", \"the Dog\")\n",
    "\n",
    "print(Finn != Jake)"
   ]
  },
  {
   "attachments": {},
   "cell_type": "markdown",
   "metadata": {},
   "source": [
    "### Hashable\n",
    "\n",
    "Хешируемые объекты должны реализовывать методы \\_\\_hash\\_\\_() и \\_\\_eq\\_\\_(). Хеш объекта должен быть неизменен в течении всего жизненного цикла. Хешируемые объекты можно использовать как ключи в словарях и как элементы множеств, так как эти структуры используют хеш-таблицу для внутреннего представления данных.\n",
    "\n",
    "Hashable objects that compare equal must have the same hash value, meaning default hash() that returns `'id(self)'` will not do. That is why Python automatically makes classes unhashable if you only implement eq()."
   ]
  },
  {
   "cell_type": "code",
   "execution_count": 13,
   "metadata": {},
   "outputs": [
    {
     "name": "stdout",
     "output_type": "stream",
     "text": [
      "-8707075988359731747\n",
      "-2276052447712954388\n"
     ]
    }
   ],
   "source": [
    "class Hero:\n",
    "    def __init__(self, name: str, level: int):\n",
    "        self.name: str = name\n",
    "        self.level: int = level\n",
    "\n",
    "    def _is_valid_operand(self, other):\n",
    "        return hasattr(other, \"name\") and hasattr(other, \"level\")\n",
    "\n",
    "    def __eq__(self, other):\n",
    "        if not self._is_valid_operand(other):\n",
    "            return NotImplemented\n",
    "        return (self.name, self.level) == (other.name, other.level)\n",
    "\n",
    "    def __hash__(self):\n",
    "        return hash((self.name, self.level))\n",
    "\n",
    "\n",
    "Finn = Hero(\"Finn the Human\", 10_000)\n",
    "Jake = Hero(\"Jake the Dog\", 10_000)\n",
    "\n",
    "print(hash(Finn))\n",
    "print(hash(Jake))"
   ]
  },
  {
   "attachments": {},
   "cell_type": "markdown",
   "metadata": {},
   "source": [
    "### Sortable\n",
    "\n",
    "Для возможности применения к последовательностям объектов таких методов как sort() или max() необходимо, как и в случае Comparable, определить методы \\_\\_lt\\_\\_ (меньше) и \\_\\_eq\\_\\_ (равно), а также задействовать декоратор @functools.total_ordering.\n",
    "\n",
    "Для более предсказумого поведения объекта в условиях различного контекста вы можете определить полное множество функций сравнения (\\_\\_lt()\\_\\_, \\_\\_gt()\\_\\_, \\_\\_le\\_\\_() и \\_\\_ge\\_\\_()).\n",
    "\n",
    "Для примера создадим класс студентов, которых можно будет сортировать не по имени, а по среднему баллу."
   ]
  },
  {
   "cell_type": "code",
   "execution_count": 14,
   "metadata": {},
   "outputs": [
    {
     "name": "stdout",
     "output_type": "stream",
     "text": [
      "['Just Joe 4.8', 'Melissa Andrew 4', 'Peter Shining Jr. 3.6']\n"
     ]
    }
   ],
   "source": [
    "from functools import total_ordering\n",
    "from statistics import mean\n",
    "\n",
    "\n",
    "@total_ordering\n",
    "class Student:\n",
    "    def __init__(self, name: str, grades: list[int]):\n",
    "        self.name: str = name\n",
    "        self.grades: list[int] = grades\n",
    "\n",
    "    def _is_valid_operand(self, other):\n",
    "        return hasattr(other, \"name\") and hasattr(other, \"grades\")\n",
    "\n",
    "    def __eq__(self, other):\n",
    "        if not self._is_valid_operand(other):\n",
    "            return NotImplemented\n",
    "        return mean(self.grades) == mean(other.grades)\n",
    "\n",
    "    def __lt__(self, other):\n",
    "        if not self._is_valid_operand(other):\n",
    "            return NotImplemented\n",
    "        return mean(self.grades) < mean(other.grades)\n",
    "\n",
    "    # определим str для человеко-читаемой репрезентации объекта\n",
    "    def __str__(self):\n",
    "        return self.name + \" \" + str(mean(self.grades))\n",
    "\n",
    "\n",
    "Melissa = Student(\"Melissa Andrew\", [4, 3, 4, 5, 4])\n",
    "Peter = Student(\"Peter Shining Jr.\", [3, 3, 4, 5, 3])\n",
    "Joe = Student(\"Just Joe\", [5, 5, 4, 5, 5])\n",
    "\n",
    "print([str(stud) for stud in sorted([Peter, Melissa, Joe], reverse=True)])"
   ]
  },
  {
   "attachments": {},
   "cell_type": "markdown",
   "metadata": {},
   "source": [
    "### Callable\n",
    "All functions and classes have a call() method, hence are callable.\n",
    "When this cheatsheet uses `'<function>'` as an argument, it actually means `'<callable>'`.\n",
    " \n",
    "class Counter:\n",
    "    def __init__(self):\n",
    "        self.i = 0\n",
    "    def __call__(self):\n",
    "        self.i += 1\n",
    "        return self.i\n",
    " \n",
    ">>> counter = Counter()\n",
    ">>> counter(), counter(), counter()\n",
    "(1, 2, 3)\n",
    "\n"
   ]
  },
  {
   "attachments": {},
   "cell_type": "markdown",
   "metadata": {},
   "source": [
    "Контекстные менеджеры, описанные в предыдущей главе, тоже, как мы теперь видим, определяются через утиную типизацию при помощи методов \\_\\_enter\\_\\_ и \\_\\_exit\\_\\_."
   ]
  },
  {
   "attachments": {},
   "cell_type": "markdown",
   "metadata": {},
   "source": [
    "### Утиная типизация итерируемых объектов\n",
    "\n",
    "### Iterable\n",
    "\n",
    "[Iterable](https://docs.python.org/3/library/collections.abc.html#collections.abc.Iterable) — объект, который для предоставления возможности поочерёдного прохода по всем своим элементам должен реализовывать метод \\_\\_iter\\_\\_(), возвращающий итератор. У каждого объекта с методом \\_\\_iter\\_\\_() автоматически начинает работать метод \\_\\_contains\\_\\_()."
   ]
  },
  {
   "cell_type": "code",
   "execution_count": 15,
   "metadata": {},
   "outputs": [
    {
     "name": "stdout",
     "output_type": "stream",
     "text": [
      "[1, 2, 3, 4]\n",
      "True\n"
     ]
    }
   ],
   "source": [
    "class MyIterable:\n",
    "    def __init__(self, *args):\n",
    "        self.a = list(args)\n",
    "\n",
    "    def __iter__(self):\n",
    "        return iter(self.a)\n",
    "\n",
    "\n",
    "mi = MyIterable(1, 2, 3, 4)\n",
    "print([el for el in mi])\n",
    "print(1 in mi)  # __contains__()"
   ]
  },
  {
   "attachments": {},
   "cell_type": "markdown",
   "metadata": {},
   "source": [
    "### Collection\n",
    "\n",
    "[Collection](https://docs.python.org/3/library/collections.abc.html#collections.abc.Collection) — объект, предоставляющий возможность поочерёдного прохода по всем своим элементам и обладающий конечным размером.  \n",
    "В дополнение к iter() должен быть реализован метод len(), возвращающий размер коллекции."
   ]
  },
  {
   "cell_type": "code",
   "execution_count": 16,
   "metadata": {},
   "outputs": [
    {
     "name": "stdout",
     "output_type": "stream",
     "text": [
      "[1, 2, 3, 4]\n",
      "True\n",
      "4\n"
     ]
    }
   ],
   "source": [
    "class MyCollection:\n",
    "    def __init__(self, *args):\n",
    "        self.a = list(args)\n",
    "\n",
    "    def __iter__(self):\n",
    "        return iter(self.a)\n",
    "\n",
    "    def __len__(self):\n",
    "        return len(self.a)\n",
    "\n",
    "\n",
    "mc = MyCollection(1, 2, 3, 4)\n",
    "print([el for el in mc])\n",
    "print(1 in mc)\n",
    "print(len(mc))"
   ]
  },
  {
   "cell_type": "markdown",
   "metadata": {},
   "source": [
    "### Sequence\n",
    "Only required methods are len() and getitem().\n",
    "Getitem() should return an item at the passed index or raise IndexError.\n",
    "Iter() and contains() automatically work on any object that has getitem() defined.\n",
    "Reversed() automatically works on any object that has len() and getitem() defined."
   ]
  },
  {
   "cell_type": "code",
   "execution_count": null,
   "metadata": {},
   "outputs": [],
   "source": [
    "class MySequence:\n",
    "    def __init__(self, a):\n",
    "        self.a = a\n",
    "    def __iter__(self):\n",
    "        return iter(self.a)\n",
    "    def __contains__(self, el):\n",
    "        return el in self.a\n",
    "    def __len__(self):\n",
    "        return len(self.a)\n",
    "    def __getitem__(self, i):\n",
    "        return self.a[i]\n",
    "    def __reversed__(self):\n",
    "        return reversed(self.a)"
   ]
  },
  {
   "cell_type": "markdown",
   "metadata": {},
   "source": [
    "### ABC Sequence\n",
    "It's a richer interface than the basic sequence.\n",
    "Extending it generates iter(), contains(), reversed(), index() and count().\n",
    "Unlike `'abc.Iterable'` and `'abc.Collection'`, it is not a duck type. That is why `'issubclass(MySequence, abc.Sequence)'` would return False even if MySequence had all the methods defined.\n"
   ]
  },
  {
   "cell_type": "code",
   "execution_count": null,
   "metadata": {},
   "outputs": [],
   "source": [
    "from collections import abc\n",
    "\n",
    "class MyAbcSequence(abc.Sequence):\n",
    "    def __init__(self, a):\n",
    "        self.a = a\n",
    "    def __len__(self):\n",
    "        return len(self.a)\n",
    "    def __getitem__(self, i):\n",
    "        return self.a[i]"
   ]
  },
  {
   "cell_type": "markdown",
   "metadata": {},
   "source": [
    "#### Table of required and automatically available special methods:\n",
    "```text\n",
    "+------------+------------+------------+------------+--------------+\n",
    "|            |  Iterable  | Collection |  Sequence  | abc.Sequence |\n",
    "+------------+------------+------------+------------+--------------+\n",
    "| iter()     |    REQ     |    REQ     |    Yes     |     Yes      |\n",
    "| contains() |    Yes     |    Yes     |    Yes     |     Yes      |\n",
    "| len()      |            |    REQ     |    REQ     |     REQ      |\n",
    "| getitem()  |            |            |    REQ     |     REQ      |\n",
    "| reversed() |            |            |    Yes     |     Yes      |\n",
    "| index()    |            |            |            |     Yes      |\n",
    "| count()    |            |            |            |     Yes      |\n",
    "+------------+------------+------------+------------+--------------+\n",
    "```\n",
    "\n",
    "Other ABCs that generate missing methods are: MutableSequence, Set, MutableSet, Mapping and MutableMapping.\n",
    "Names of their required methods are stored in `'<abc>.__abstractmethods__'`.\n",
    "\n",
    "#### Discrepancies between glossary definitions and abstract base classes:\n",
    "Glossary defines iterable as any object with iter() or getitem() and sequence as any object with len() and getitem(). It does not define collection.\n",
    "Passing ABC Iterable to isinstance() or issubclass() checks whether object/class has iter(), while ABC Collection checks for iter(), contains() and len()."
   ]
  },
  {
   "attachments": {},
   "cell_type": "markdown",
   "metadata": {},
   "source": [
    "### Копирование объектов\n",
    "\n",
    "В Python оператор присваивания (=) не копирует объекты. Вместо этого он создает связь между существующим объектом и именем целевой переменной. Чтобы создать копии объекта в Python, необходимо использовать модуль copy. Более того, существует два способа создания копий для данного объекта с помощью модуля copy.\n",
    "\n",
    "Shallow Copy – это побитовая копия объекта. Созданный скопированный объект имеет точную копию значений в исходном объекте. Если одно из значений является ссылкой на другие объекты, копируются только адреса ссылок на них.\n",
    "\n",
    "Deep Copy – рекурсивно копирует все значения от исходного объекта к целевому, т. е. дублирует даже объекты, на которые ссылается исходный объект."
   ]
  },
  {
   "cell_type": "code",
   "execution_count": 17,
   "metadata": {},
   "outputs": [
    {
     "name": "stdout",
     "output_type": "stream",
     "text": [
      "['t', 'w', 'o'] ['t', 'w', 'o'] ['t', 'h', 'r', 'e', 'e'] ['f', 'o', 'u', 'r']\n",
      "1795295519472 1795295519472 1793149281968 1793149273808\n",
      "1795217224688 1795217321264\n"
     ]
    }
   ],
   "source": [
    "from copy import copy, deepcopy\n",
    "\n",
    "\n",
    "class A:\n",
    "    def __init__(self, val: list):\n",
    "        self.val = val\n",
    "\n",
    "    def change_val(self, val: list):\n",
    "        self.val = val\n",
    "\n",
    "\n",
    "a = A(list(\"one\"))\n",
    "\n",
    "# Просто копирование ссылки на объект\n",
    "b = a  # Assignment\n",
    "\n",
    "# Создание нового объекта и копирование ссылок на объекты, найденные в изначальном объекте\n",
    "c = copy(a)  # Shallow copy\n",
    "\n",
    "# Создание нового объекта с последующим рекурсивным копированием содержащихся внутри объектов\n",
    "d = deepcopy(a)  # Deep Copy\n",
    "\n",
    "b.change_val(list(\"two\"))\n",
    "c.change_val(list(\"three\"))\n",
    "d.change_val(list(\"four\"))\n",
    "\n",
    "print(a.val, b.val, c.val, d.val)\n",
    "print(id(a), id(b), id(c), id(d))\n",
    "print(id(a.val[1]), id(c.val[1]))"
   ]
  },
  {
   "attachments": {},
   "cell_type": "markdown",
   "metadata": {},
   "source": [
    "### Наследование"
   ]
  },
  {
   "cell_type": "code",
   "execution_count": 1,
   "metadata": {},
   "outputs": [],
   "source": [
    "class Person:\n",
    "    def __init__(self, name, age):\n",
    "        self.name = name\n",
    "        self.age = age\n",
    "\n",
    "\n",
    "class Employee(Person):\n",
    "    def __init__(self, name, age, staff_num, email):\n",
    "        super().__init__(name, age)\n",
    "        self.staff_num = staff_num\n",
    "        self.email = email"
   ]
  },
  {
   "attachments": {},
   "cell_type": "markdown",
   "metadata": {},
   "source": [
    "### Множественное наследование\n",
    "\n",
    "При множественном наследовании порядок разрешения методов (method resolution order, MRO) позволяет Питону выяснить, из какого класса-предка нужно вызывать метод, если он не обнаружен непосредственно в классе-потомке."
   ]
  },
  {
   "cell_type": "code",
   "execution_count": 3,
   "metadata": {},
   "outputs": [
    {
     "name": "stdout",
     "output_type": "stream",
     "text": [
      "[<class '__main__.StaffData'>, <class '__main__.PrivateStaffData'>, <class '__main__.PublicStaffData'>, <class 'object'>]\n"
     ]
    }
   ],
   "source": [
    "class PrivateStaffData:\n",
    "    def __init__(self, private_email):\n",
    "        self.private_email = private_email\n",
    "\n",
    "\n",
    "class PublicStaffData:\n",
    "    def __init__(self, work_email):\n",
    "        self.work_email = work_email\n",
    "\n",
    "\n",
    "class StaffData(PrivateStaffData, PublicStaffData):\n",
    "    def __init__(self, private_email, work_email):\n",
    "        super().__init__()\n",
    "\n",
    "print(StaffData.mro())"
   ]
  },
  {
   "attachments": {},
   "cell_type": "markdown",
   "metadata": {},
   "source": [
    "MRO строит иерархию наследования таким образом, чтобы более специфичные методы класса-потомка перекрывали менее специфичные методы  класса-предка. MRO строит упорядоченный список классов, в которых будет производиться поиск метода слева направо (линеаризация класса).  \n",
    "\n",
    "Для решения проблемы ромбовидной структуры (которая неявно присутствует даже в простейшем случае, так как все классы наследуются от object) линеаризация должна быть монотонной. Монотонность — свойство, которое требует соблюдения в линеаризации класса-потомка того же порядка следования классов-прародителей, что и в линеаризации класса-родителя.  Линеаризация по сути является [топологической сортировкой](https://en.wikipedia.org/wiki/Topological_sorting). В ранних версиях Python использовался алгоритм DLR, сейчас в ходу [C3-линеаризация](https://en.wikipedia.org/wiki/C3_linearization).  \n",
    "\n",
    "Если после удовлетворения свойства монотонности остаётся больше одного варианта линеаризации, то применяется порядок локального старшинства (local precedence ordering), т. е. порядок соблюдения для классов-родителей в линеаризации класса-потомка того же порядка, что и при его объявлении. Например, если класс объявлен как D(A, B, C), то в линеаризации D класс A должен стоять раньше B, а класс B — раньше C.  \n",
    "\n",
    "Если разрешение всех конфликтов при линеаризации невозможно, то остается три пути:  \n",
    "1 - переменой мест классов-предков в объявлении класса-потомка (но это помогает далеко не всегда);  \n",
    "2 - пересмотр иерархии наследования;  \n",
    "3 - определение своей собственной линеаризации через метаклассы при помощи метода mro(cls). Но при данном подходе надо быть готовым к тому, что будет использован менее специфичный метод класса-родителя вместо более специфичного метода класса-потомка.  \n",
    "\n",
    "При задании своей собственной линеаризации Python отключает встроенные проверки.  "
   ]
  },
  {
   "attachments": {},
   "cell_type": "markdown",
   "metadata": {},
   "source": [
    "### @abstractmethod\n",
    "\n",
    "Абстрактный класс в Python - аналог интерфейса в других языках (например, в C#) - класс, содержащий только сигнатуры методов, без реализации. Реализация методов переложена на классы-потомки. Задача абстрактного класса соответствует задаче интерфейса - *обязать* классы-потомки реализовывать *все* методы, заложенные в классе-родителе."
   ]
  },
  {
   "cell_type": "code",
   "execution_count": 4,
   "metadata": {},
   "outputs": [
    {
     "name": "stdout",
     "output_type": "stream",
     "text": [
      "42\n"
     ]
    }
   ],
   "source": [
    "import abc\n",
    "\n",
    "\n",
    "class AbstractClass(metaclass=abc.ABCMeta):\n",
    "\n",
    "    @abc.abstractmethod\n",
    "    def return_anything(self):\n",
    "        return\n",
    "\n",
    "\n",
    "class ConcreteClass(AbstractClass):\n",
    "\n",
    "    def return_anything(self):\n",
    "        return 42\n",
    "\n",
    "\n",
    "c = ConcreteClass()\n",
    "print(c.return_anything())"
   ]
  },
  {
   "attachments": {},
   "cell_type": "markdown",
   "metadata": {},
   "source": [
    "Если не специфицировать return_anything() в ConcreteClass, при попытке вызвать c.return_anything() будет выброшено исключение TypeError: Can't instantiate abstract class ConcreteClass with abstract method return_anything."
   ]
  },
  {
   "attachments": {},
   "cell_type": "markdown",
   "metadata": {},
   "source": [
    "### Abstract Base Classes\n",
    "Each abstract base class specifies a set of virtual subclasses. These classes are then recognized by isinstance() and issubclass() as subclasses of the ABC, although they are really not. ABC can also manually decide whether or not a specific class is its virtual subclass, usually based on which methods the class has implemented. For instance, Iterable ABC looks for method iter() while Collection ABC looks for methods iter(), contains() and len().\n",
    "\n",
    "Class\n",
    "-----\n",
    " \n",
    "class <name>:\n",
    "    def __init__(self, a):\n",
    "        self.a = a\n",
    "    def __repr__(self):\n",
    "        class_name = self.__class__.__name__\n",
    "        return f'{class_name}({self.a!r})'\n",
    "    def __str__(self):\n",
    "        return str(self.a)\n",
    "\n",
    "    @classmethod\n",
    "    def get_class_name(cls):\n",
    "        return cls.__name__\n",
    " \n",
    "Return value of repr() should be unambiguous and of str() readable.\n",
    "If only repr() is defined, it will also be used for str().\n",
    "\n",
    "#### Str() use cases:\n",
    " \n",
    "print(<el>)\n",
    "f'{<el>}'\n",
    "logging.warning(<el>)\n",
    "csv.writer(<file>).writerow([<el>])\n",
    "raise Exception(<el>)\n",
    " \n",
    "\n",
    "#### Repr() use cases:\n",
    " \n",
    "print/str/repr([<el>])\n",
    "f'{<el>!r}'\n",
    "Z = dataclasses.make_dataclass('Z', ['a']); print/str/repr(Z(<el>))\n",
    ">>> <el>\n",
    " \n",
    "\n",
    "### Constructor Overloading\n",
    " \n",
    "class <name>:\n",
    "    def __init__(self, a=None):\n",
    "        self.a = a\n",
    "\n",
    "### Property\n",
    "Pythonic way of implementing getters and setters.\n",
    " \n",
    "class Person:\n",
    "    @property\n",
    "    def name(self):\n",
    "        return ' '.join(self._name)\n",
    "\n",
    "    @name.setter\n",
    "    def name(self, value):\n",
    "        self._name = value.split()\n",
    "\n",
    ">>> person = Person()\n",
    ">>> person.name = '\\t Guido  van Rossum \\n'\n",
    ">>> person.name\n",
    "'Guido van Rossum'\n",
    "\n",
    "#### Inline:\n",
    " \n",
    "from dataclasses import make_dataclass\n",
    "<class> = make_dataclass('<class_name>', <coll_of_attribute_names>)\n",
    "<class> = make_dataclass('<class_name>', <coll_of_tuples>)\n",
    "<tuple> = ('<attr_name>', <type> [, <default_value>])\n",
    "\n",
    "#### Rest of type annotations (CPython interpreter ignores them all):\n",
    " \n",
    "def func(<arg_name>: <type> [= <obj>]) -> <type>:\n",
    "<var_name>: typing.List/Set/Iterable/Sequence/Optional[<type>]\n",
    "<var_name>: typing.Dict/Tuple/Union[<type>, ...]\n",
    "\n",
    "### Iterator\n",
    "Any object that has methods next() and iter() is an iterator.\n",
    "Next() should return next item or raise StopIteration.\n",
    "Iter() should return 'self'.\n",
    " \n",
    "class Counter:\n",
    "    def __init__(self):\n",
    "        self.i = 0\n",
    "    def __next__(self):\n",
    "        self.i += 1\n",
    "        return self.i\n",
    "    def __iter__(self):\n",
    "        return self\n",
    "\n",
    ">>> counter = Counter()\n",
    ">>> next(counter), next(counter), next(counter)\n",
    "(1, 2, 3)\n",
    "\n",
    "#### Python has many different iterator objects:\n",
    "Sequence iterators returned by the [iter()](#iterator) function, such as list\\_iterator and set\\_iterator.\n",
    "Objects returned by the [itertools](#itertools) module, such as count, repeat and cycle.\n",
    "Generators returned by the [generator functions](#generator) and [generator expressions](#comprehensions).\n",
    "File objects returned by the [open()](#open) function, etc.\n",
    "\n",
    "https://ru.stackoverflow.com/questions/1025914/%D0%A7%D0%B5%D0%BC-%D0%BE%D1%82%D0%BB%D0%B8%D1%87%D0%B0%D1%8E%D1%82%D1%81%D1%8F-%D0%BF%D0%BE%D0%BD%D1%8F%D1%82%D0%B8%D1%8F-iterable-%D0%B8-sequence"
   ]
  },
  {
   "cell_type": "markdown",
   "metadata": {},
   "source": [
    "### Метапрограммирование\n",
    "\n",
    "Code that generates code.\n",
    "\n",
    "### Type\n",
    "Type is the root class. If only passed an object it returns its type (class). Otherwise it creates a new class.\n",
    "\n",
    "```\n",
    "<class> = type('<class_name>', <tuple_of_parents>, <dict_of_class_attributes>)\n",
    "```\n",
    "\n",
    "```\n",
    ">>> Z = type('Z', (), {'a': 'abcde', 'b': 12345})\n",
    ">>> z = Z()\n",
    "```\n",
    "\n",
    "Singleton через метаклассы"
   ]
  },
  {
   "attachments": {},
   "cell_type": "markdown",
   "metadata": {},
   "source": [
    "Какие задачи решали с помощью метаклассов?\n",
    "\n",
    "### Meta Class\n",
    "A class that creates classes.\n",
    "\n",
    " \n",
    "def my_meta_class(name, parents, attrs):\n",
    "    attrs['a'] = 'abcde'\n",
    "    return type(name, parents, attrs)\n",
    " \n",
    "\n",
    "#### Or:\n",
    "```python\n",
    "class MyMetaClass(type):\n",
    "    def __new__(cls, name, parents, attrs):\n",
    "        attrs['a'] = 'abcde'\n",
    "        return type.__new__(cls, name, parents, attrs)\n",
    "```\n",
    " \n",
    "New() is a class method that gets called before init(). If it returns an instance of its class, then that instance gets passed to init() as a 'self' argument.\n",
    "It receives the same arguments as init(), except for the first one that specifies the desired type of the returned instance (MyMetaClass in our case).\n",
    "Like in our case, new() can also be called directly, usually from a new() method of a child class (`def __new__(cls): return super().__new__(cls)`).\n",
    "The only difference between the examples above is that my\\_meta\\_class() returns a class of type type, while MyMetaClass() returns a class of type MyMetaClass.\n",
    "\n",
    "### Metaclass Attribute\n",
    "Right before a class is created it checks if it has the 'metaclass' attribute defined. If not, it recursively checks if any of his parents has it defined and eventually comes to type().\n",
    "\n",
    " \n",
    "class MyClass(metaclass=MyMetaClass):\n",
    "    b = 12345\n",
    " \n",
    "\n",
    " \n",
    ">>> MyClass.a, MyClass.b\n",
    "('abcde', 12345)\n",
    " \n",
    "\n",
    "### Type Diagram\n",
    " \n",
    "type(MyClass)     == MyMetaClass     # MyClass is an instance of MyMetaClass.\n",
    "type(MyMetaClass) == type            # MyMetaClass is an instance of type.\n",
    " \n",
    "\n",
    " text\n",
    "+-------------+-------------+\n",
    "|   Classes   | Metaclasses |\n",
    "+-------------+-------------|\n",
    "|   MyClass --> MyMetaClass |\n",
    "|             |     v       |\n",
    "|    object -----> type <+  |\n",
    "|             |     ^ +--+  |\n",
    "|     str ----------+       |\n",
    "+-------------+-------------+\n",
    " \n",
    "\n",
    "### Inheritance Diagram\n",
    " \n",
    "MyClass.__base__     == object       # MyClass is a subclass of object.\n",
    "MyMetaClass.__base__ == type         # MyMetaClass is a subclass of type.\n",
    " \n",
    "\n",
    " text\n",
    "+-------------+-------------+\n",
    "|   Classes   | Metaclasses |\n",
    "+-------------+-------------|\n",
    "|   MyClass   | MyMetaClass |\n",
    "|      v      |     v       |\n",
    "|    object <----- type     |\n",
    "|      ^      |             |\n",
    "|     str     |             |\n",
    "+-------------+-------------+\n",
    " \n",
    "\n",
    " Как в классе сослаться на родительский класс?\n",
    "\n",
    "Функция super принимает класс и экземпляр:\n",
    "\n",
    "```python\n",
    "class NextClass(FirstClass):\n",
    "    def __init__(self, x):\n",
    "        super(NextClass, self).__init__()\n",
    "        self.x = x\n",
    "```\n",
    "\n",
    "\n",
    "https://proglib.io/p/metaclasses-in-python  \n",
    "https://habr.com/ru/post/145835/  "
   ]
  }
 ],
 "metadata": {
  "kernelspec": {
   "display_name": "Python 3.10.0 64-bit",
   "language": "python",
   "name": "python3"
  },
  "language_info": {
   "codemirror_mode": {
    "name": "ipython",
    "version": 3
   },
   "file_extension": ".py",
   "mimetype": "text/x-python",
   "name": "python",
   "nbconvert_exporter": "python",
   "pygments_lexer": "ipython3",
   "version": "3.10.9"
  },
  "orig_nbformat": 4,
  "vscode": {
   "interpreter": {
    "hash": "26de051ba29f2982a8de78e945f0abaf191376122a1563185a90213a26c5da77"
   }
  }
 },
 "nbformat": 4,
 "nbformat_minor": 2
}
