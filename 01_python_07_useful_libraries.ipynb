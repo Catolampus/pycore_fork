{
 "cells": [
  {
   "cell_type": "markdown",
   "metadata": {},
   "source": [
    "## 7. Популярные библиотеки"
   ]
  },
  {
   "cell_type": "markdown",
   "metadata": {},
   "source": [
    "## Profiling\n",
    "\n",
    "### Stopwatch"
   ]
  },
  {
   "cell_type": "code",
   "execution_count": null,
   "metadata": {},
   "outputs": [
    {
     "name": "stdout",
     "output_type": "stream",
     "text": [
      "2.2923033237457275 seconds\n"
     ]
    }
   ],
   "source": [
    "from time import time\n",
    "start_time = time()\n",
    "\n",
    "j: int = 0\n",
    "for i in range(10_000_000):  # Long operation\n",
    "    j = i ** 2\n",
    "\n",
    "duration = time() - start_time\n",
    "print(f\"{duration} seconds\")"
   ]
  },
  {
   "cell_type": "markdown",
   "metadata": {},
   "source": [
    "### High performance"
   ]
  },
  {
   "cell_type": "code",
   "execution_count": null,
   "metadata": {},
   "outputs": [
    {
     "name": "stdout",
     "output_type": "stream",
     "text": [
      "2.3540456001646817 seconds\n"
     ]
    }
   ],
   "source": [
    "from time import perf_counter\n",
    "start_time = perf_counter()\n",
    "\n",
    "j: int = 0\n",
    "for i in range(10_000_000):  # Long operation\n",
    "    j = i ** 2\n",
    "\n",
    "duration = perf_counter() - start_time\n",
    "print(f\"{duration} seconds\")"
   ]
  },
  {
   "cell_type": "markdown",
   "metadata": {},
   "source": [
    "### timeit\n",
    "\n",
    "Try to avoid a number of common traps for measuring execution times"
   ]
  },
  {
   "cell_type": "code",
   "execution_count": null,
   "metadata": {},
   "outputs": [
    {
     "data": {
      "text/plain": [
       "1.8552540000528097"
      ]
     },
     "metadata": {},
     "output_type": "display_data"
    }
   ],
   "source": [
    "from timeit import timeit\n",
    "\n",
    "def long_pow():\n",
    "    j: int = 0\n",
    "    for i in range(1000_000):  # Long operation\n",
    "        j = i ** 2\n",
    "\n",
    "timeit(\"long_pow()\", number=10, globals=globals(), setup='pass')"
   ]
  },
  {
   "cell_type": "markdown",
   "metadata": {},
   "source": [
    "### Call Graph\n",
    "\n",
    "Создает PNG изображение графа вызовов с подсвеченными узкими местами"
   ]
  },
  {
   "cell_type": "code",
   "execution_count": null,
   "metadata": {},
   "outputs": [],
   "source": [
    "from pycallgraph3 import PyCallGraph\n",
    "from pycallgraph3.output import GraphvizOutput\n",
    "\n",
    "def long_pow():\n",
    "    j: int = 0\n",
    "    for i in range(1000_000):  # Long operation\n",
    "        j = i ** 2\n",
    "\n",
    "def short_pow():\n",
    "    j: int = 0\n",
    "    for i in range(1000):  # Short operation\n",
    "        j = i ** 2\n",
    "\n",
    "with PyCallGraph(output=GraphvizOutput()):\n",
    "    # Code to be profiled\n",
    "    long_pow()\n",
    "    short_pow()\n",
    "    # This will generate a file called pycallgraph3.png"
   ]
  },
  {
   "cell_type": "markdown",
   "metadata": {},
   "source": [
    "<img src=\"pycallgraph3.png\" style=\"height:400px\">"
   ]
  },
  {
   "cell_type": "markdown",
   "metadata": {},
   "source": [
    "## Random"
   ]
  },
  {
   "cell_type": "code",
   "execution_count": null,
   "metadata": {},
   "outputs": [
    {
     "name": "stdout",
     "output_type": "stream",
     "text": [
      "Single float random: 0.9024807633898538\n",
      "Single int random: 7\n",
      "Random bytes: b'>\\xe0^\\x16PX\\xf8E\\xf8\\x98'\n",
      "Random choice: Bob\n",
      "Random list without duplicates: [5, 10, 3, 6, 1]\n",
      "List before shuffle: [1, 2, 3, 4, 5, 6, 7, 8, 9, 10]\n",
      "List after shuffle: [10, 4, 6, 5, 1, 8, 3, 9, 7, 2]\n"
     ]
    }
   ],
   "source": [
    "import random\n",
    "\n",
    "rf: float = random.random()  # A float inside [0, 1)\n",
    "print(f\"Single float random: {rf}\")\n",
    "\n",
    "ri: int = random.randint(1, 10)  # An int inside [from, to]\n",
    "print(f\"Single int random: {ri}\")\n",
    "\n",
    "rb = random.randbytes(10)\n",
    "print(f\"Random bytes: {rb}\")\n",
    "\n",
    "rc: str = random.choice([\"Alice\", \"Bob\", \"Maggie\", \"Madhuri Dixit\"])\n",
    "print(f\"Random choice: {rc}\")\n",
    "\n",
    "rs: str = random.sample([1, 2, 3, 4, 5, 6, 7, 8, 9, 10], 5)\n",
    "print(f\"Random list without duplicates: {rs}\")\n",
    "\n",
    "a = [1, 2, 3, 4, 5, 6, 7, 8, 9, 10]\n",
    "print(f\"List before shuffle: {a}\")\n",
    "random.shuffle(a)\n",
    "print(f\"List after shuffle: {a}\")\n"
   ]
  },
  {
   "cell_type": "markdown",
   "metadata": {},
   "source": [
    "Input\n",
    "-----\n",
    "Reads a line from user input or pipe if present.\n",
    "\n",
    "<str> = input(prompt=None)\n",
    " \n",
    "Trailing newline gets stripped.\n",
    "Prompt string is printed to the standard output before reading input.\n",
    "Raises EOFError when user hits EOF (ctrl-d/ctrl-z⏎) or input stream gets exhausted.\n",
    "\n",
    "Command Line Arguments\n",
    "----------------------\n",
    "\n",
    "import sys\n",
    "scripts_path = sys.argv[0]\n",
    "arguments    = sys.argv[1:]\n",
    "\n",
    "### Argument Parser\n",
    " \n",
    "from argparse import ArgumentParser, FileType\n",
    "p = ArgumentParser(description=<str>)\n",
    "p.add_argument('-<short_name>', '--<name>', action='store_true')  # Flag.\n",
    "p.add_argument('-<short_name>', '--<name>', type=<type>)          # Option.\n",
    "p.add_argument('<name>', type=<type>, nargs=1)                    # First argument.\n",
    "p.add_argument('<name>', type=<type>, nargs='+')                  # Remaining arguments.\n",
    "p.add_argument('<name>', type=<type>, nargs='*')                  # Optional arguments.\n",
    "args  = p.parse_args()                                            # Exits on error.\n",
    "value = args.<name>\n",
    "\n",
    "Use `'help=<str>'` to set argument description.\n",
    "Use `'default=<el>'` to set the default value.\n",
    "Use `'type=FileType(<mode>)'` for files."
   ]
  },
  {
   "cell_type": "markdown",
   "metadata": {},
   "source": [
    "Print\n",
    "-----\n",
    " \n",
    "print(<el_1>, ..., sep=' ', end='\\n', file=sys.stdout, flush=False)\n",
    " \n",
    "Use `'file=sys.stderr'` for messages about errors.\n",
    "Use `'flush=True'` to forcibly flush the stream."
   ]
  },
  {
   "cell_type": "markdown",
   "metadata": {},
   "source": [
    "### Pretty Print\n",
    " \n",
    "from pprint import pprint\n",
    "pprint(<collection>, width=80, depth=None, compact=False, sort_dicts=True)\n",
    " \n",
    "Levels deeper than 'depth' get replaced by '...'."
   ]
  },
  {
   "cell_type": "markdown",
   "metadata": {},
   "source": [
    "OS Commands\n",
    "-----------\n",
    "import os, shutil, subprocess\n",
    "\n",
    "### Files and Directories\n",
    "Paths can be either strings, Paths or DirEntry objects.\n",
    "Functions report OS related errors by raising either OSError or one of its [subclasses](#exceptions-1).\n",
    " \n",
    "os.chdir(<path>)                    # Changes the current working directory.\n",
    "os.mkdir(<path>, mode=0o777)        # Creates a directory. Mode is in octal.\n",
    "os.makedirs(<path>, mode=0o777)     # Creates all directories in the path.\n",
    "\n",
    "shutil.copy(from, to)               # Copies the file. 'to' can exist or be a dir.\n",
    "shutil.copytree(from, to)           # Copies the directory. 'to' must not exist.\n",
    "\n",
    "os.rename(from, to)                 # Renames/moves the file or directory.\n",
    "os.replace(from, to)                # Same, but overwrites 'to' if it exists.\n",
    "\n",
    "os.remove(<path>)                   # Deletes the file.\n",
    "os.rmdir(<path>)                    # Deletes the empty directory.\n",
    "shutil.rmtree(<path>)               # Deletes the directory."
   ]
  },
  {
   "cell_type": "markdown",
   "metadata": {},
   "source": [
    "Разница между is и ==?  \n",
    "Как создается объект в Python, разница между __init __() и __new __()?  \n",
    "В чем разница между потоками и процессами?  \n",
    "Какие есть виды импорта?  \n",
    "Что такое класс, итератор, генератор?  \n",
    "В чем разница между итераторами и генераторами?  \n",
    "В чем разница между staticmethod и classmethod?  \n",
    "Как работают dict comprehension, list comprehension и set comprehension?  \n"
   ]
  },
  {
   "cell_type": "markdown",
   "metadata": {},
   "source": [
    "Как работает thread locals?  \n",
    "Что такое type annotation?  \n",
    "Что такое @property?  \n",
    "Каким образом можно запустить код на Python параллельно?  \n",
    "Как работать с stdlib?  \n",
    "Что такое дескрипторы?  \n",
    "\n",
    "Какой будет результат операции -12 % 10?  \n",
    "Какой будет результат операции -12 // 10?  \n",
    "Какая последовательность вызова операторов в выражении a * b * c?  \n",
    "Что делает функция id()?  \n",
    "Для чего зарезервировано ключевое слово yield?  \n",
    "В чем разница между __iter__ и __next__?\n",
    "Что такое синхронный код? А асинхронный? Как написать асинхронное приложение?\n",
    "Что такое проверка типов? Какие есть типы в Python?\n",
    "\n",
    "Как можно расширить зону видимости глобальных переменных на другие модули?\n",
    "Как создать класс без инструкции class?\n",
    "\n",
    "Как внедрить в программу расширения, написанные на языках C или C++? Что позволяет использовать библиотеки C-языков, что дает возможность управления ресурсами на более низком уровне? Конечно же, кандидат должен знать, что за такое отвечает интерпретатор CPython.\n"
   ]
  },
  {
   "cell_type": "markdown",
   "metadata": {},
   "source": [
    "\n",
    "Почему def foo(bar=[]): плохо? Приведите пример плохого случая. Как исправить?\n",
    "Почему нельзя сделать пустой список аргументом по умолчанию?  \n",
    "\n",
    "Функция создается однажды при загрузке модуля. Именованные параметры и их дефолтные значения тоже создаются один раз и хранятся в одном из полей объекта-функции.\n",
    "\n",
    "В нашем примере bar равен пустому списку. Список – изменяемая коллекция, поэтому значение bar может изменяться от вызова к вызову. Пример:\n",
    "\n",
    "def foo(bar=[]):\n",
    "    bar.append(1)\n",
    "    return bar\n",
    "foo()\n",
    "[1]\n",
    "foo()\n",
    "[1, 1]\n",
    "foo()\n",
    "[1, 1, 1]\n",
    "Хорошим тоном считается указывать параметру пустое неизменяемое значение, например 0, None, '', False. В теле функции проверять на заполненность и создавать новую коллекцию:\n",
    "\n",
    "def foo(bar=None):\n",
    "    if bar is None:\n",
    "        bar = []\n",
    "    bar.append(1)\n",
    "    return bar\n",
    "foo()\n",
    "[1]\n",
    "foo()\n",
    "[1]\n",
    "foo()\n",
    "[1]\n"
   ]
  },
  {
   "cell_type": "markdown",
   "metadata": {},
   "source": [
    "## Источники  \n",
    "Официальная документация Python [docs.python.org](https://docs.python.org/), включающая [The Python Standard Library](https://docs.python.org/3/library/index.html).  \n",
    "Весьма подробное руководство (совсем уж базовый синтаксис не включен): [Comprehensive Python Cheatsheet](https://github.com/gto76/python-cheatsheet).  \n",
    "Руководство с включением базового синтаксиса: [Python Cheatsheet](https://github.com/wilfredinni/python-cheatsheet). Включает практические Jupiter [Notebooks](https://github.com/wilfredinni/python-cheatsheet/tree/master/jupyter_notebooks).  \n",
    "Сипсок библиотек и фреймворков: [Awesome Python](https://github.com/vinta/awesome-python).  \n",
    "Около-питоновские практические советы (pip, virtualenv, pyInstaller и т. д.): [\"The Hitchhiker’s Guide to Python\"](https://github.com/realpython/python-guide).  \n",
    "Мануал для начинающих дата-сайентистов: [Joel Grus, \"Data Science from Scratch\"](https://github.com/joelgrus/data-science-from-scratch).  \n",
    "Руководство для начинающих: [\"Python Notes for Professionals\"](https://goalkicker.com/PythonBook/).  \n",
    "Руководство для опытных программистов: [\"Python 3 Patterns, Recipes and Idioms\"](https://python-3-patterns-idioms-test.readthedocs.io/en/latest/index.html).  "
   ]
  }
 ],
 "metadata": {
  "kernelspec": {
   "display_name": "Python 3.10.0 64-bit",
   "language": "python",
   "name": "python3"
  },
  "language_info": {
   "name": "python",
   "version": "3.10.0"
  },
  "orig_nbformat": 4,
  "vscode": {
   "interpreter": {
    "hash": "26de051ba29f2982a8de78e945f0abaf191376122a1563185a90213a26c5da77"
   }
  }
 },
 "nbformat": 4,
 "nbformat_minor": 2
}
