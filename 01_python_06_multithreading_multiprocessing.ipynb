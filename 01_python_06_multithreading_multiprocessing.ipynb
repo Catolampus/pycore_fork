{
 "cells": [
  {
   "cell_type": "markdown",
   "metadata": {},
   "source": [
    "## 6. Многопоточность и многозадачность"
   ]
  },
  {
   "cell_type": "markdown",
   "metadata": {},
   "source": [
    "Threading\n",
    "---------\n",
    "CPython interpreter can only run a single thread at a time.\n",
    "That is why using multiple threads won't result in a faster execution, unless at least one of the threads contains an I/O operation.\n",
    " \n",
    "from threading import Thread, RLock, Semaphore, Event, Barrier\n",
    "from concurrent.futures import ThreadPoolExecutor\n",
    " \n",
    "\n",
    "### Thread\n",
    " \n",
    "<Thread> = Thread(target=<function>)           # Use `args=<collection>` to set the arguments.\n",
    "<Thread>.start()                               # Starts the thread.\n",
    "<bool> = <Thread>.is_alive()                   # Checks if the thread has finished executing.\n",
    "<Thread>.join()                                # Waits for the thread to finish.\n",
    " \n",
    "Use `'kwargs=<dict>'` to pass keyword arguments to the function.\n",
    "Use `'daemon=True'`, or the program will not be able to exit while the thread is alive.**\n",
    "\n",
    "### Lock\n",
    " \n",
    "<lock> = RLock()                               # Lock that can only be released by the owner.\n",
    "<lock>.acquire()                               # Waits for the lock to be available.\n",
    "<lock>.release()                               # Makes the lock available again.\n",
    " \n",
    "\n",
    "#### Or:\n",
    " \n",
    "with <lock>:                                   # Enters the block by calling acquire(),\n",
    "    ...                                        # and exits it with release().\n",
    " \n",
    "\n",
    "### Semaphore, Event, Barrier\n",
    " \n",
    "<Semaphore> = Semaphore(value=1)               # Lock that can be acquired by 'value' threads.\n",
    "<Event>     = Event()                          # Method wait() blocks until set() is called.\n",
    "<Barrier>   = Barrier(n_times)                 # Wait() blocks until it's called n_times.\n",
    " \n",
    "\n",
    "### Thread Pool Executor\n",
    "Object that manages thread execution.\n",
    "An object with the same interface called ProcessPoolExecutor provides true parallelism by running a separate interpreter in each process. All arguments must be [pickable](#pickle).\n",
    "\n",
    " \n",
    "<Exec> = ThreadPoolExecutor(max_workers=None)  # Or: `with ThreadPoolExecutor() as <name>: …`\n",
    "<Exec>.shutdown(wait=True)                     # Blocks until all threads finish executing.\n",
    " \n",
    "\n",
    " \n",
    "<iter> = <Exec>.map(<func>, <args_1>, ...)     # A multithreaded and non-lazy map().\n",
    "<Futr> = <Exec>.submit(<func>, <arg_1>, ...)   # Starts a thread and returns its Future object.\n",
    "<bool> = <Futr>.done()                         # Checks if the thread has finished executing.\n",
    "<obj>  = <Futr>.result()                       # Waits for thread to finish and returns result."
   ]
  },
  {
   "cell_type": "markdown",
   "metadata": {},
   "source": [
    "\n",
    "### Многопоточность\n",
    "\n",
    "Многопоточность достигается модулем Threading. Это нативные Posix-треды, такие треды исполняются операционной системой, а не виртуальной машиной.\n",
    "\n",
    "В чем отличие тредов от мультипроцессинга?\n",
    "\n",
    "Главное отличие в разделении памяти. Процессы независимы друг от друга, имеют раздельные адресные пространства, идентификаторы, ресурсы. Треды исполняются в совместном адресном пространстве, имеют общий доступ к памяти, переменным, загруженным модулям.\n",
    "\n",
    "Какие задачи хорошо параллелятся, какие плохо?\n",
    "\n",
    "Те задачи, которые порождают долгий IO. Когда тред упирается в ожидание сокета или диска, интерпретатор бросает этот тред и стартует следующий. Это значит, не будет простоя из-за ожидания. Наоборот, если ходить в сеть в одном треде (в цикле), то каждый раз придется ждать ответа.\n",
    "\n",
    "Однако, если затем в треде обрабатывает полученные данные, то выполнятся будет только он один. Это не только не даст прироста в скорости, но и замедлит программу из-за переключения на другие треды.\n",
    "\n",
    "Короткий ответ: хорошо ложатся на треды задачи по работе с сетью. Например, выкачать сто урлов. Полученные данные обрабатывайте вне тредов.\n",
    "\n",
    "Нужно посчитать 100 уравнений. Делать это в тредах или нет?\n",
    "\n",
    "Нет, потому что в этой задаче нет ввода-вывода. Интерпретатор только будет тратить лишнее время на переключение тредов. Сложные математические задачи лучше выносить в отдельные процессы, либо использовать фреймворк для распределенных задач Celery, либо подключать как C-библиотеки.\n",
    "\n",
    "Понимание что такое heap dump и thread dump.\n",
    "\n",
    "понимание многопоточности, способов ей управлять и проблем, с этим связанных (синхронизации, локи, race condition и т.д.);"
   ]
  },
  {
   "cell_type": "code",
   "execution_count": null,
   "metadata": {},
   "outputs": [
    {
     "name": "stdout",
     "output_type": "stream",
     "text": [
      "Count time 3.81453800201416\n"
     ]
    }
   ],
   "source": [
    "# Однопоточное приложение\n",
    "import time\n",
    "\n",
    "COUNT = 100_000_000\n",
    "\n",
    "def countdown(n):\n",
    "    while n > 0:\n",
    "        n -= 1\n",
    "\n",
    "start = time.time()\n",
    "countdown(COUNT)\n",
    "end = time.time()\n",
    "\n",
    "print(\"Count time\", end - start)"
   ]
  },
  {
   "cell_type": "code",
   "execution_count": null,
   "metadata": {},
   "outputs": [
    {
     "name": "stdout",
     "output_type": "stream",
     "text": [
      "Count time 3.8378489017486572\n"
     ]
    }
   ],
   "source": [
    "# Многопоточное приложение, время выполнения будет больше, чем у однопоточного, т. к. добавятся временные затраты на переключение потоков\n",
    "import time\n",
    "from threading import Thread\n",
    "\n",
    "COUNT = 100_000_000\n",
    "\n",
    "def countdown(n):\n",
    "    while n > 0:\n",
    "        n -= 1\n",
    "\n",
    "t1 = Thread(target=countdown, args=(COUNT//2,))\n",
    "t2 = Thread(target=countdown, args=(COUNT//2,))\n",
    "\n",
    "start = time.time()\n",
    "t1.start()\n",
    "t2.start()\n",
    "t1.join()\n",
    "t2.join()\n",
    "end = time.time()\n",
    "\n",
    "print(\"Count time\", end - start)"
   ]
  },
  {
   "cell_type": "code",
   "execution_count": null,
   "metadata": {},
   "outputs": [],
   "source": [
    "# Многопроцессорное приложение\n",
    "import time\n",
    "import multiprocessing as mp\n",
    "\n",
    "COUNT = 100_000_000\n",
    "\n",
    "\n",
    "def countdown(n):\n",
    "    while n > 0:\n",
    "        n -= 1\n",
    "\n",
    "if __name__ ==  '__main__':\n",
    "    pool = mp.Pool()\n",
    "    start = time.time()\n",
    "    pool.apply_async(countdown, args=(COUNT // 2,))\n",
    "    pool.apply_async(countdown, args=(COUNT // 2,))\n",
    "    pool.close()\n",
    "    pool.join()\n",
    "    end = time.time()\n",
    "    print(\"Count time\", end - start)"
   ]
  },
  {
   "cell_type": "markdown",
   "metadata": {},
   "source": [
    "## asyncio!!!"
   ]
  },
  {
   "cell_type": "markdown",
   "metadata": {},
   "source": [
    "В JavaScript async / await сделаны жадными как Promise. При вызове async функции автоматически создается задача и отправляется в очередь на исполнение в event loop. await, в свою очередь, просто ждёт результат.\n",
    "\n",
    "В питоне асинхронщину задизайнили иначе - лениво.\n",
    "\n",
    "Вызов async функции возвращает объект - корутину, - которая ни чего не делает.\n",
    "\n",
    "asyncio.run() создаёт event loop, запускает (корневую) корутину и блокирует поток до получения результата.\n",
    "\n",
    "await запускает корутину изнутри другой корутины в текущем event loop и ждёт результат.\n",
    "\n",
    "Для запуска корутины без ожидания (как это делает Promise) используется asyncio.create_task(coro). Либо asyncio.gather(*aws), если надо запустить сразу несколько. Нужно только следить, чтобы ссылка на возвращаемое значение сохранялась до конца вычисления, иначе его пожрет GC и все оборвется на самом интересном месте (промис бы отработал до конца не смотря ни на что).\n",
    "\n",
    "В JS только один event loop, поэтому было вполне разумно закопать его внутрь promise / async / await как деталь реализации, упростив работу прикладному программисту. В питоне отзеркалили более ранний вариант корутин на генераторах, дали возможность использовать разные event loop и выставили все кишки наружу."
   ]
  },
  {
   "cell_type": "markdown",
   "metadata": {},
   "source": [
    "Count time 2.0029137134552"
   ]
  }
 ],
 "metadata": {
  "kernelspec": {
   "display_name": "Python 3.10.0 64-bit",
   "language": "python",
   "name": "python3"
  },
  "language_info": {
   "name": "python",
   "version": "3.10.0"
  },
  "orig_nbformat": 4,
  "vscode": {
   "interpreter": {
    "hash": "26de051ba29f2982a8de78e945f0abaf191376122a1563185a90213a26c5da77"
   }
  }
 },
 "nbformat": 4,
 "nbformat_minor": 2
}
