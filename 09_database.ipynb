{
 "cells": [
  {
   "attachments": {},
   "cell_type": "markdown",
   "metadata": {},
   "source": [
    "## 9. Базы данных\n",
    "\n",
    "> «Здесь был большой трапезный стол, на котором стояли золотые сосуды, весьма дорогие. В сосудах этих находились овощи разных сортов, от которых исходили чудные благоухания».  \n",
    ">  \n",
    "> «Видение Григория».  \n",
    "\n",
    "![Database](https://raw.githubusercontent.com/amaargiru/pycore/main/pics/09_Database.png)  "
   ]
  },
  {
   "attachments": {},
   "cell_type": "markdown",
   "metadata": {},
   "source": [
    "### Реляционная модель данных\n",
    "\n",
    "[Реляционная модель данных](https://en.wikipedia.org/wiki/Relational_model) (РМД) основана на математическом понятии отношение (relation), которое неформально можно толковать как \"таблица\". Соответственно, реляционную модель данных можно упрощенно воспринимать как \"табличную модель данных\", т. е. построенную на основе двумерных таблиц, состоящих из строк и столбцов.  \n",
    "Работая с реляционной БД, программисту не нужно заботиться о низкоуровневом доступе к данным, достаточно описать, *что* нужно получить, а *как* именно — описывать не нужно, эту работу берет на себя БД."
   ]
  },
  {
   "cell_type": "markdown",
   "metadata": {},
   "source": [
    "\n",
    "### Транзакция\n",
    "\n",
    "[Транзакция](https://en.wikipedia.org/wiki/Database_transaction) — неделимая последовательность действий, обеспечивает выполнение либо всех действий из последовательности, либо ни одного. Если в ходе выполнения транзакции произошел сбой, состояние системы должно быть возвращено к исходному, уже выполненные действия должны быть отменены.\n",
    "Канонический пример — списывание денег с одного счета и зачисление на другой, для чего необходимы два процесса проведения изменений, которые гарантированно должны выполниться или не выполниться вместе."
   ]
  },
  {
   "cell_type": "markdown",
   "metadata": {},
   "source": [
    "\n",
    "### Проблемы параллельного доступа с использованием транзакций\n",
    "\n",
    "Фантомное чтение (phantom reads) — одна транзакция в ходе своего выполнения несколько раз выбирает множество строк по одним и тем же критериям. Другая транзакция в интервалах между этими выборками добавляет строки или изменяет столбцы некоторых строк, используемых в критериях выборки первой транзакции, и успешно заканчивается. В результате получится, что одни и те же выборки в первой транзакции дают разные множества строк.\n",
    "\n",
    "Неповторяющееся чтение (non-repeatable read) — при повторном чтении в рамках одной транзакции ранее прочитанные данные оказываются изменёнными.\n",
    "\n",
    "«Грязное» чтение (dirty read) — чтение данных, добавленных или изменённых транзакцией, которая впоследствии не подтвердится (откатится);\n",
    "\n",
    "Потерянное обновление (lost update) — при одновременном изменении одного блока данных разными транзакциями теряются все изменения, кроме последнего."
   ]
  },
  {
   "attachments": {},
   "cell_type": "markdown",
   "metadata": {},
   "source": [
    "### Уровни изоляции транзакций\n",
    "\n",
    "Выбор [уровня изоляции транзакций](https://en.wikipedia.org/wiki/Isolation_(database_systems)) - фактически, выбор между скоростью работы и обеспечением согласованности данных, т. к. при выполнении параллельных транзакций в СУБД всегда допускается получение несогласованных данных, и разработчик должен найти баланс между количеством параллельных транзакций и согласованностью данных.\n",
    "\n",
    "Стандарт SQL-92 определяет шкалу из четырёх уровней изоляции: Read uncommitted, Read committed, Repeatable read, Serializable. Первый из них является самым слабым, последний — самым сильным, каждый последующий включает в себя все предыдущие.\n",
    "\n",
    "**Read uncommitted (чтение незафиксированных данных)**\n",
    "\n",
    "Низший (первый) уровень изоляции. Если несколько параллельных транзакций пытаются изменять одну и ту же строку таблицы, то в окончательном варианте строка будет иметь значение, определенное всем набором успешно выполненных транзакций. При этом возможно считывание не только логически несогласованных данных, но и данных, изменения которых ещё не зафиксированы, т. к. транзакции, выполняющие только чтение, при данном уровне изоляции никогда не блокируются. Данные блокируются на время выполнения команды записи, что гарантирует, что команды изменения одних и тех же строк, запущенные параллельно, фактически выполнятся последовательно, и ни одно из изменений не потеряется.\n",
    "\n",
    "**Read committed (чтение фиксированных данных)**\n",
    "\n",
    "Большинство СУБД, в частности, Microsoft SQL Server, PostgreSQL и Oracle, по умолчанию используют именно этот уровень. На этом уровне обеспечивается защита от чтения промежуточных данных, тем не менее, в процессе работы одной транзакции другая может быть успешно завершена и сделанные ею изменения зафиксированы. В итоге первая транзакция будет работать с другим набором данных.  \n",
    "Метод read committed реализуется либо при помощи блокировки данных на чтение во время записи (теряем время), либо на хранении копии данных, снятой до начала записи (теряем ОЗУ).\n",
    "\n",
    "**Repeatable read (повторяющееся чтение)**\n",
    "\n",
    "Уровень, при котором читающая транзакция блокирует изменения данных, прочитанных ею ранее. При этом никакая другая транзакция не может изменять данные, читаемые текущей транзакцией, пока та не окончена.\n",
    "\n",
    "**Serializable (упорядочивание)**\n",
    "\n",
    "Самый высокий уровень изолированности; транзакции полностью изолируются друг от друга, каждая выполняется так, как будто параллельных транзакций не существует. Только на этом уровне параллельные транзакции не подвержены эффекту «фантомного чтения».\n",
    "\n",
    "<style>\n",
    "table th:first-of-type {\n",
    "    width: 20%;\n",
    "}\n",
    "table th:nth-of-type(2) {\n",
    "    width: 20%;\n",
    "}\n",
    "table th:nth-of-type(3) {\n",
    "    width: 20%;\n",
    "}\n",
    "table th:nth-of-type(4) {\n",
    "    width: 20%;\n",
    "}\n",
    "table th:nth-of-type(5) {\n",
    "    width: 20%;\n",
    "}\n",
    "</style>\n",
    "\n",
    "| Уровень изоляции | Фантомное чтение| Неповторяющееся чтение | «Грязное» чтение | Потерянное обновление |\n",
    "| :- | :-: | :-: | :-: | :-: |\n",
    "| Отсутствие изоляции | + | + | + | + |\n",
    "| Read uncommitted | + | + | + | - |\n",
    "| Read committed | + | + | - | - |\n",
    "| Repeatable read | + | - | - | - |\n",
    "| Serializable | - | - | - | - |"
   ]
  },
  {
   "attachments": {},
   "cell_type": "markdown",
   "metadata": {},
   "source": [
    "### Проблема N + 1"
   ]
  },
  {
   "attachments": {},
   "cell_type": "markdown",
   "metadata": {},
   "source": [
    "### SQL-инъекции"
   ]
  },
  {
   "cell_type": "markdown",
   "metadata": {},
   "source": [
    "[NoSQL](https://en.wikipedia.org/wiki/NoSQL)"
   ]
  },
  {
   "attachments": {},
   "cell_type": "markdown",
   "metadata": {},
   "source": [
    "### Язык SQL\n",
    "\n",
    "SQL - декларативный (описательный, непроцедурный) язык, стандарт для работы с данными во всех реляционных СУБД.  \n",
    "Операторы SQL традиционно делят на:  \n",
    "операторы определения данных (data definition language, DDL),  \n",
    "операторы манипулирования данными (data manipulation language, DML),  \n",
    "операторы управления привилегиями доступа (data control language, DCL) и  \n",
    "операторы управления транзакциями (transaction control language, TCL).\n",
    "\n",
    "The key thing is you're manipulating SETS & elements of sets; and relating different sets (and corresponding elements) together. That's really the heart of it, imho. That's why every table should have a primary key; why you see set operators in the language; and why set operators like UNION won't (by defualt) return duplicate rows.  \n",
    "Of course in practice, the rules of sets are bent or broken but it's not that hard to see when this is necessary (otherwise, SQL would be TOO limited). Imho, just crack open your discrete math book and reacquaint yourself with some set exercises.\n",
    "\n",
    "Best advice I can give you is that every time you think about processing something row-by-row, that you stop and ask yourself if there is a set-based way to do this.\n",
    "\n",
    "Joe Celko's Thinking in Sets:\n",
    "I have been telling students that you need about one year of full-time SQL programming before you have an epiphany and start thinking in SQL."
   ]
  },
  {
   "attachments": {},
   "cell_type": "markdown",
   "metadata": {},
   "source": [
    "### DDL"
   ]
  },
  {
   "attachments": {},
   "cell_type": "markdown",
   "metadata": {},
   "source": [
    "### CREATE, создание новой таблицы"
   ]
  },
  {
   "attachments": {},
   "cell_type": "markdown",
   "metadata": {},
   "source": [
    "### Constraints (ограничения)\n",
    "\n",
    "Constraints указываются при создании или изменении таблицы. Эти правила ограничивают тип данных, которые могут храниться в таблице. При нарушении ограничений действия с данными выполнены не будут.\n",
    "\n",
    "```\n",
    "UNIQUE — гарантирует уникальность значений в столбце;\n",
    "NOT NULL — значение не может быть NULL;\n",
    "INDEX — создаёт индексы в таблице для быстрого поиска/запросов;\n",
    "CHECK — значения столбца должны соответствовать заданным условиям;\n",
    "DEFAULT — назначает столбцу значение по умолчанию.\n",
    "```"
   ]
  },
  {
   "attachments": {},
   "cell_type": "markdown",
   "metadata": {},
   "source": [
    "### ALTER, изменение структуры таблицы"
   ]
  },
  {
   "attachments": {},
   "cell_type": "markdown",
   "metadata": {},
   "source": [
    "#### RENAME"
   ]
  },
  {
   "attachments": {},
   "cell_type": "markdown",
   "metadata": {},
   "source": [
    "### DROP, удаление таблицы"
   ]
  },
  {
   "attachments": {},
   "cell_type": "markdown",
   "metadata": {},
   "source": [
    "### PRIMARY KEY, первичный ключ\n",
    "\n",
    "Первичный ключ предназначен для однозначной идентификации каждой записи в таблице и является строго уникальным, две записи таблицы не могут иметь одинаковые значения первичного ключа. Нулевые значения (NULL) в PRIMARY KEY не допускаются. Если в качестве PRIMARY KEY используется несколько полей, их называют составным ключом.\n",
    "\n",
    "```\n",
    "CREATE TABLE USERS (\n",
    "  id INT NOT NULL,\n",
    "  name VARCHAR (40) NOT NULL,\n",
    "  PRIMARY KEY (id)\n",
    ");\n",
    "```"
   ]
  },
  {
   "attachments": {},
   "cell_type": "markdown",
   "metadata": {},
   "source": [
    "### FOREIGN KEY, внешний ключ"
   ]
  },
  {
   "attachments": {},
   "cell_type": "markdown",
   "metadata": {},
   "source": [
    "TRUNCATE"
   ]
  },
  {
   "attachments": {},
   "cell_type": "markdown",
   "metadata": {},
   "source": [
    "### DML"
   ]
  },
  {
   "attachments": {},
   "cell_type": "markdown",
   "metadata": {},
   "source": [
    "WHERE и HAVING могут использоваться в одном запросе, при этом необходимо учитывать порядок исполнения SQL запроса:  \n",
    "1. FROM  \n",
    "2. ON  \n",
    "3. JOIN  \n",
    "4. WHERE  \n",
    "5. GROUP BY  \n",
    "6. WITH CUBE / WITH ROLLUP  \n",
    "7. HAVING  \n",
    "8. Оконные функции  \n",
    "9. SELECT  \n",
    "10. DISTINCT  \n",
    "11. UNION / UNION ALL / INTERSECT / EXCEPT  \n",
    "12. ORDER BY  \n",
    "13. TOP / LIMIT / OFFSET  \n",
    "\n",
    "Сначала определяется таблица, из которой выбираются данные (FROM); затем из этой таблицы отбираются записи в соответствии с условием WHERE; выбранные данные агрегируются (GROUP BY); из агрегированных записей выбираются те, которые удовлетворяют условию после HAVING. Только потом формируются данные результирующей выборки, как это указано после SELECT (вычисляются выражения, присваиваются имена и пр.). Результирующая выборка сортируется в соответствии с условием, указанным после ORDER BY.  \n",
    "\n",
    "Знание порядка исполнения SQL запроса важно для того, чтобы понять, почему, например, внутри WHERE невозможно использовать имена выражений из SELECT; просто SELECT выполняется компилятором позже, чем WHERE, поэтому ему неизвестно, какое выражение там описано."
   ]
  },
  {
   "attachments": {},
   "cell_type": "markdown",
   "metadata": {},
   "source": [
    "### SELECT, FROM, WHERE\n",
    "\n",
    "Команда SELECT получает записи из базы данных по определенному условию, которое задается с помощью команды WHERE.\n",
    "\n",
    "Синтаксис:  \n",
    "SELECT * FROM имя_таблицы;  \n",
    "SELECT * FROM имя_таблицы WHERE условие;  \n",
    "SELECT поле1, поле2... FROM имя_таблицы WHERE условие;  \n",
    "\n",
    "Полный синтаксис команды SELECT:  \n",
    "SELECT  \n",
    "    [STRAIGHT_JOIN] [SQL_SMALL_RESULT] [SQL_BIG_RESULT] [SQL_BUFFER_RESULT]  \n",
    "    [SQL_CACHE | SQL_NO_CACHE] [SQL_CALC_FOUND_ROWS] [HIGH_PRIORITY]  \n",
    "    [DISTINCT | DISTINCTROW | ALL]  \n",
    "select_expression,...  \n",
    "[INTO {OUTFILE | DUMPFILE} 'file_name' export_options]  \n",
    "[FROM table_references  \n",
    "[WHERE where_definition]  \n",
    "[GROUP BY {unsigned_integer | col_name | formula} [ASC | DESC], ...]  \n",
    "[HAVING where_definition]  \n",
    "[ORDER BY {unsigned_integer | col_name | formula} [ASC | DESC], ...]  \n",
    "[LIMIT [offset,] rows | rows OFFSET offset]  \n",
    "[PROCEDURE procedure_name(argument_list)]  \n",
    "[FOR UPDATE | LOCK IN SHARE MODE]]  "
   ]
  },
  {
   "attachments": {},
   "cell_type": "markdown",
   "metadata": {},
   "source": [
    "### LIKE"
   ]
  },
  {
   "attachments": {},
   "cell_type": "markdown",
   "metadata": {},
   "source": [
    "### ORDER BY\n",
    "\n",
    "Сортировка данных в порядке возрастания (ASC) или убывания (DESC).\n",
    "\n",
    "```\n",
    "SELECT * FROM user ORDER BY name DESC;\n",
    "```"
   ]
  },
  {
   "attachments": {},
   "cell_type": "markdown",
   "metadata": {},
   "source": [
    "### COUNT, SUM, AVG, MAX, MIN, агрегирующие функции"
   ]
  },
  {
   "attachments": {},
   "cell_type": "markdown",
   "metadata": {},
   "source": [
    "### GROUP BY, HAVING, группировка и фильтрация данных"
   ]
  },
  {
   "attachments": {},
   "cell_type": "markdown",
   "metadata": {},
   "source": [
    "### JOIN, объединение данных из нескольких таблиц"
   ]
  },
  {
   "attachments": {},
   "cell_type": "markdown",
   "metadata": {},
   "source": [
    "#### INNER JOIN\n",
    "\n",
    "Если совсем кратко, то INNER JOIN не пересечение множеств, как нарисовано, а, скорее, перемножение с условием."
   ]
  },
  {
   "attachments": {},
   "cell_type": "markdown",
   "metadata": {},
   "source": [
    "#### FULL OUTER JOIN"
   ]
  },
  {
   "attachments": {},
   "cell_type": "markdown",
   "metadata": {},
   "source": [
    "#### LEFT JOIN"
   ]
  },
  {
   "attachments": {},
   "cell_type": "markdown",
   "metadata": {},
   "source": [
    "#### RIGHT JOIN"
   ]
  },
  {
   "attachments": {},
   "cell_type": "markdown",
   "metadata": {},
   "source": [
    "#### CROSS JOIN, перекрестное соединение\n",
    "\n",
    "Создает набор строк, где каждая строка из одной таблицы соединяется с каждой строкой из второй таблицы."
   ]
  },
  {
   "attachments": {},
   "cell_type": "markdown",
   "metadata": {},
   "source": [
    "Self join\n",
    "\n",
    "Такой вопрос тоже может прозвучать на собеседовании по SQL. Это выражение используется для того, чтобы таблица объединилась сама с собой, словно это две разные таблицы. Чтобы такое реализовать, одна из таких «таблиц» временно переименовывается.\n",
    "\n",
    "Например, следующий SQL-запрос объединяет клиентов из одного города:\n",
    "\n",
    "```\n",
    "SELECT A.CustomerName AS CustomerName1, B.CustomerName AS CustomerName2, A.City\n",
    "FROM Customers A, Customers B\n",
    "WHERE A.CustomerID <> B.CustomerID\n",
    "AND A.City = B.City\n",
    "ORDER BY A.City;\n",
    "```"
   ]
  },
  {
   "attachments": {},
   "cell_type": "markdown",
   "metadata": {},
   "source": [
    "### INSERT, добавление новых строк"
   ]
  },
  {
   "attachments": {},
   "cell_type": "markdown",
   "metadata": {},
   "source": [
    "### UPDATE, изменение существующих строк"
   ]
  },
  {
   "attachments": {},
   "cell_type": "markdown",
   "metadata": {},
   "source": [
    "### DELETE, удаление строк"
   ]
  },
  {
   "attachments": {},
   "cell_type": "markdown",
   "metadata": {},
   "source": [
    "Операция, которая удаляет записи из таблицы, соответствующие заданному условию. При этом создаются логи удаления, то есть операцию можно отменить.\n",
    "\n",
    "```\n",
    "DELETE FROM table_name WHERE condition;\n",
    "```"
   ]
  },
  {
   "attachments": {},
   "cell_type": "markdown",
   "metadata": {},
   "source": [
    "### FROM"
   ]
  },
  {
   "attachments": {},
   "cell_type": "markdown",
   "metadata": {},
   "source": [
    "### SET"
   ]
  },
  {
   "attachments": {},
   "cell_type": "markdown",
   "metadata": {},
   "source": [
    "### Вложенные запросы\n",
    "\n",
    "SQL позволяет создавать вложенные запросы. Вложенный запрос – это запрос, размещенный внутри другого запроса SQL.\n",
    "\n",
    "Вложенный запрос используется для выборки данных, которые будут использоваться в условии отбора записей основного запроса. Его применяют для:  \n",
    "сравнения выражения с результатом вложенного запроса;  \n",
    "определения того, включено ли выражение в результаты вложенного запроса;  \n",
    "проверки того, выбирает ли запрос определенные строки.  \n",
    "\n",
    "Вложенный запрос имеет следующие компоненты:  \n",
    "ключевое слово SELECT, после которого указываются имена столбцов или выражения (чаще всего список содержит один элемент),  \n",
    "ключевое слово FROM и имя таблицы, из которой выбираются данные,  \n",
    "необязательное предложение WHERE,  \n",
    "необязательное предложение GROUP BY,  \n",
    "необязательное предложение HAVING."
   ]
  },
  {
   "attachments": {},
   "cell_type": "markdown",
   "metadata": {},
   "source": [
    "Работа с индексами и ограничениями  \n",
    "Изучение индексов для ускорения поиска данных в таблице  \n",
    "Изучение ограничений для защиты данных и обеспечения целостности таблицы\n",
    "\n",
    "Работа с представлениями и хранимыми процедурами  \n",
    "Изучение представлений для создания виртуальных таблиц на основе запросов  \n",
    "Изучение хранимых процедур для создания пользовательских функций и процессов"
   ]
  },
  {
   "attachments": {},
   "cell_type": "markdown",
   "metadata": {},
   "source": [
    "Продвинутые SQL скиллы:  \n",
    "Оптимизация запросов - знание структуры таблиц и индексов, а также понимания того, как оптимизировать запросы для улучшения производительности.  \n",
    "Работа с большими объемами данных - управление партиционированием, кластеризацией и другими методами для обработки и анализа больших объемов данных.  \n",
    "Использование аналитических функций - использование функций, таких как RANK, ROW_NUMBER, LAG и LEAD, для выполнения сложных аналитических запросов.  \n",
    "Работа с временными рядами данных - использование функций временных рядов, таких как DATE_TRUNC, DATE_PART и WINDOW функций, для анализа и управления временными рядами данных.  \n",
    "Работа с географическими данными - использование специальных функций, таких как ST_Distance, ST_Within и ST_Intersection, для анализа и управления географическими данными.  \n",
    "Работа с хранилищами данных - использование функций ETL (Extract, Transform, Load) для извлечения, преобразования и загрузки данных в хранилища данных.  \n",
    "Работа с процедурами и триггерами - создание и управление процедурами и триггерами для автоматизации задач и обеспечения целостности данных.  \n",
    "Работа с реляционной алгеброй - использование различных операторов, таких как JOIN, UNION, INTERSECT и EXCEPT, для выполнения сложных запросов.  \n",
    "Работа с индексами - создание и управление индексами для улучшения производительности запросов.  \n",
    "Работа с безопасностью данных - управление доступом к данным и защиту данных от несанкционированного доступа.  "
   ]
  },
  {
   "attachments": {},
   "cell_type": "markdown",
   "metadata": {},
   "source": [
    "Оконные функции"
   ]
  },
  {
   "attachments": {},
   "cell_type": "markdown",
   "metadata": {},
   "source": [
    "SQLite\n",
    "\n",
    "Small. Fast. Reliable. Choose any three.  \n",
    "\n",
    "https://sqlite.org/index.html  \n",
    "https://github.com/sqlite/sqlite  \n",
    "https://habr.com/ru/post/149356/  \n",
    "https://github.com/sqlitebrowser/sqlitebrowser  \n",
    "\n",
    "Syntax Diagrams https://www.sqlite.org/syntaxdiagrams.html  \n",
    "\n",
    "**Server-less database engine that stores each database into a separate file.**\n",
    "\n",
    "```text\n",
    "### Connect\n",
    "**Opens a connection to the database file. Creates a new file if path doesn't exist.**\n",
    " \n",
    "import sqlite3\n",
    "<conn> = sqlite3.connect(<path>)                # Also ':memory:'.\n",
    "<conn>.close()                                  # Closes the connection.\n",
    "\n",
    "### Read\n",
    "**Returned values can be of type str, int, float, bytes or None.**\n",
    " \n",
    "<cursor> = <conn>.execute('<query>')            # Can raise a subclass of sqlite3.Error.\n",
    "<tuple>  = <cursor>.fetchone()                  # Returns next row. Also next(<cursor>).\n",
    "<list>   = <cursor>.fetchall()                  # Returns remaining rows. Also list(<cursor>).\n",
    " \n",
    "### Write\n",
    " \n",
    "<conn>.execute('<query>')                       # Can raise a subclass of sqlite3.Error.\n",
    "<conn>.commit()                                 # Saves all changes since the last commit.\n",
    "<conn>.rollback()                               # Discards all changes since the last commit.\n",
    "\n",
    "#### Or:\n",
    " \n",
    "with <conn>:                                    # Exits the block with commit() or rollback(),\n",
    "    <conn>.execute('<query>')                   # depending on whether any exception occurred.\n",
    " \n",
    "### Placeholders\n",
    "* **Passed values can be of type str, int, float, bytes, None, bool, datetime.date or datetime.datetime.**\n",
    "* **Bools will be stored and returned as ints and dates as [ISO formatted strings](#encode).**\n",
    " \n",
    "<conn>.execute('<query>', <list/tuple>)         # Replaces '?'s in query with values.\n",
    "<conn>.execute('<query>', <dict/namedtuple>)    # Replaces ':<key>'s with values.\n",
    "<conn>.executemany('<query>', <coll_of_above>)  # Runs execute() multiple times.\n",
    " \n",
    "### Example\n",
    "**Values are not actually saved in this example because `'conn.commit()'` is omitted!**\n",
    " \n",
    ">>> conn = sqlite3.connect('test.db')\n",
    ">>> conn.execute('CREATE TABLE person (person_id INTEGER PRIMARY KEY, name, height)')\n",
    ">>> conn.execute('INSERT INTO person VALUES (NULL, ?, ?)', ('Jean-Luc', 187)).lastrowid\n",
    "1\n",
    ">>> conn.execute('SELECT * FROM person').fetchall()\n",
    "[(1, 'Jean-Luc', 187)]\n",
    "```\n"
   ]
  },
  {
   "attachments": {},
   "cell_type": "markdown",
   "metadata": {},
   "source": [
    "### MySQL\n",
    "Has a very similar interface, with differences listed below.  \n",
    "\n",
    "```text \n",
    "# $ pip3 install mysql-connector\n",
    "from mysql import connector\n",
    "<conn>   = connector.connect(host=<str>, …)     # `user=<str>, password=<str>, database=<str>`.\n",
    "<cursor> = <conn>.cursor()                      # Only cursor has execute() method.\n",
    "<cursor>.execute('<query>')                     # Can raise a subclass of connector.Error.\n",
    "<cursor>.execute('<query>', <list/tuple>)       # Replaces '%s's in query with values.\n",
    "<cursor>.execute('<query>', <dict/namedtuple>)  # Replaces '%(<key>)s's with values.\n",
    "\n",
    "Memory View\n",
    "-----------\n",
    "* **A sequence object that points to the memory of another object.**\n",
    "* **Each element can reference a single or multiple consecutive bytes, depending on format.**\n",
    "* **Order and number of elements can be changed with slicing.**\n",
    "* **Casting only works between char and other types and uses system's sizes and byte order.**\n",
    "\n",
    " \n",
    "<mview> = memoryview(<bytes/bytearray/array>)  # Immutable if bytes, else mutable.\n",
    "<real>  = <mview>[<index>]                     # Returns an int or a float.\n",
    "<mview> = <mview>[<slice>]                     # Mview with rearranged elements.\n",
    "<mview> = <mview>.cast('<typecode>')           # Casts memoryview to the new format.\n",
    "<mview>.release()                              # Releases the object's memory buffer.\n",
    "```"
   ]
  },
  {
   "cell_type": "markdown",
   "metadata": {},
   "source": [
    "### PostgreSQL"
   ]
  },
  {
   "attachments": {},
   "cell_type": "markdown",
   "metadata": {},
   "source": [
    "\n",
    "### Возможности PostgreSQL, отсутствующие в других БД\n",
    "\n",
    "Каскадные триггеры. Если триггерная функция выполняет команды SQL, эти команды могут заново запускать триггеры.\n",
    "\n",
    "hstore. Возможность создавать и манипулировать данными с функциональностью словаря (dictionary).\n",
    "\n",
    "[JSONB](https://www.postgresql.org/docs/current/datatype-json.html). Парсинг JSON осуществляется однократно, во время записи. Более медленная однократная запись, но более быстрые многократные чтения. По умолчанию рекомендуется использовать JSONB, а не JSON.\n",
    "\n",
    "[Range Types](https://www.postgresql.org/docs/current/rangetypes.html). Никаких больше колонок planned_worktime_start и planned_worktime_end и пляски с операторами сравнения для нахождения других строк, у которых интервал, задаваемый этими колонками пересекается с этой строкой.\n",
    "\n",
    "Прочие нативные типы: interval, cidr и другие, со встроенными методами работы с ними.\n",
    "\n",
    "[Массивы](https://www.postgresql.org/docs/current/arrays.html) — нарушение 1-й нормальной формы, но когда всё, что необходимо — это сохранить несколько строчек, то горождение отдельной таблицы с перспективой JOIN'а с ней выглядит совсем непривлекательно.\n",
    "\n",
    "У PostgreSQL полностью транзакционный DDL, т.е. можно в транзакциях менять схему данных, и эти изменения буду транзакционными. Соответственно, возможны миграции без остановки записи.\n",
    "\n",
    "[PostGIS](https://postgis.net/). Бесплатное расширение для PostgreSQL с открытым исходным кодом для работы с географическими объектами, дополняющее встроенные возможности БД (point, gist). Работает с точками, ломаными линиями, полигонами, растрами, а также использует их для разных операций, например, поиска.\n",
    "\n",
    "PL/pgSQL. Процедурный язык для PostgreSQL. Функции PL/pgSQL могут использоваться везде, где допустимы встроенные функции. Например, можно создать функции со сложными вычислениями и условной логикой, а затем использовать их при определении операторов или в индексных выражениях.\n",
    "\n",
    "Полная SQL-совместимость."
   ]
  },
  {
   "cell_type": "markdown",
   "metadata": {},
   "source": [
    "\n",
    "### Вложенные транзакции\n",
    "\n",
    "Механизм, который неявно задействован при создании точек сохранения и при обработке исключений."
   ]
  },
  {
   "cell_type": "markdown",
   "metadata": {},
   "source": [
    "Что такое курсор и зачем он нужен?  \n",
    "Что делает оператор JOIN, какие виды бывают?  \n",
    "Что делает оператор HAVING, примеры?  \n",
    "В каких случаях вы бы предпочли нереляционную БД?  \n",
    "Что такое функциональный индекс?  "
   ]
  },
  {
   "cell_type": "markdown",
   "metadata": {},
   "source": [
    "### VACUUM\n",
    "\n",
    "Команда VACUUM высвобождает пространство, занимаемое «мертвыми» кортежами, что актуально для часто используемых таблиц. При обычных операциях в Postgres кортежи, удаленные или устаревшие в результаты обновления, физически не удаляются, а сохраняются в таблице до очистки."
   ]
  },
  {
   "cell_type": "markdown",
   "metadata": {},
   "source": [
    "### EXPLAIN, EXPLAIN ANALYZE\n",
    "\n",
    "EXPLAIN ANALYZE – в отличие от просто EXPLAIN не только показывает план выполнения запроса, но и непосредственно выполняет запрос и показывает реальное время выполнения."
   ]
  },
  {
   "cell_type": "markdown",
   "metadata": {},
   "source": [
    "### Server side cursor\n",
    "\n",
    "Способ работы с результатом запроса в базу данных, который позволяет не загружать весь объем данных в память, позволяет работать с большими объемами данных. Дополнительно углубленно можно поговорить про особенности работы в связке с pgbouncer."
   ]
  },
  {
   "cell_type": "markdown",
   "metadata": {},
   "source": [
    "### Источники\n",
    "\n",
    "Е. П. Моргунов. [PostgreSQL. Основы языка SQL](https://edu.postgrespro.ru/sql_primer.pdf).  \n"
   ]
  }
 ],
 "metadata": {
  "interpreter": {
   "hash": "26de051ba29f2982a8de78e945f0abaf191376122a1563185a90213a26c5da77"
  },
  "kernelspec": {
   "display_name": "Python 3.10.0 64-bit",
   "language": "python",
   "name": "python3"
  },
  "language_info": {
   "codemirror_mode": {
    "name": "ipython",
    "version": 3
   },
   "file_extension": ".py",
   "mimetype": "text/x-python",
   "name": "python",
   "nbconvert_exporter": "python",
   "pygments_lexer": "ipython3",
   "version": "3.10.9"
  },
  "orig_nbformat": 4
 },
 "nbformat": 4,
 "nbformat_minor": 2
}
