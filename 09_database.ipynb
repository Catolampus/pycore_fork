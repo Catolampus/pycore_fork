{
 "cells": [
  {
   "attachments": {},
   "cell_type": "markdown",
   "metadata": {},
   "source": [
    "## 9. Базы данных\n",
    "\n",
    "> «Здесь был большой трапезный стол, на котором стояли стояли золотые сосуды, весьма дорогие. В сосудах этих находились овощи разных сортов, от которых исходили чудные благоухания».  \n",
    ">  \n",
    "> «Видение Григория».  \n",
    "\n",
    "![Database](https://raw.githubusercontent.com/amaargiru/pycore/main/pics/09_Database.png)  "
   ]
  },
  {
   "attachments": {},
   "cell_type": "markdown",
   "metadata": {},
   "source": [
    "### Реляционная модель данных\n",
    "\n",
    "[Реляционная модель данных](https://en.wikipedia.org/wiki/Relational_model) (РМД) основана на математическом понятии отношение (relation), которое неформально можно толковать как \"таблица\". Соответственно, реляционную модель данных можно упрощенно воспринимать как \"табличную модель данных\", т. е. построенную на основе двумерных таблиц, состоящих из строк и столбцов.  \n",
    "Работая с реляционной БД, программисту не нужно заботиться о низкоуровневом доступе к данным, достаточно описать, *что* нужно получить, а *как* именно — описывать не нужно, эту работу берет на себя БД."
   ]
  },
  {
   "cell_type": "markdown",
   "metadata": {},
   "source": [
    "\n",
    "### Транзакция\n",
    "\n",
    "[Транзакция](https://en.wikipedia.org/wiki/Database_transaction) — неделимая последовательность действий, обеспечивает выполнение либо всех действий из последовательности, либо ни одного. Если в ходе выполнения транзакции произошел сбой, состояние системы должно быть возвращено к исходному, уже выполненные действия должны быть отменены.\n",
    "Канонический пример — списывание денег с одного счета и зачисление на другой, для чего необходимы два процесса проведения изменений, которые гарантированно должны выполниться или не выполниться вместе."
   ]
  },
  {
   "cell_type": "markdown",
   "metadata": {},
   "source": [
    "\n",
    "### Проблемы параллельного доступа с использованием транзакций\n",
    "\n",
    "Фантомное чтение (phantom reads) — одна транзакция в ходе своего выполнения несколько раз выбирает множество строк по одним и тем же критериям. Другая транзакция в интервалах между этими выборками добавляет строки или изменяет столбцы некоторых строк, используемых в критериях выборки первой транзакции, и успешно заканчивается. В результате получится, что одни и те же выборки в первой транзакции дают разные множества строк.\n",
    "\n",
    "Неповторяющееся чтение (non-repeatable read) — при повторном чтении в рамках одной транзакции ранее прочитанные данные оказываются изменёнными.\n",
    "\n",
    "«Грязное» чтение (dirty read) — чтение данных, добавленных или изменённых транзакцией, которая впоследствии не подтвердится (откатится);\n",
    "\n",
    "Потерянное обновление (lost update) — при одновременном изменении одного блока данных разными транзакциями теряются все изменения, кроме последнего."
   ]
  },
  {
   "cell_type": "markdown",
   "metadata": {},
   "source": [
    "\n",
    "### Уровни изоляции транзакций\n",
    "\n",
    "Выбор [уровня изоляции транзакций](https://ru.wikipedia.org/wiki/%D0%A3%D1%80%D0%BE%D0%B2%D0%B5%D0%BD%D1%8C_%D0%B8%D0%B7%D0%BE%D0%BB%D0%B8%D1%80%D0%BE%D0%B2%D0%B0%D0%BD%D0%BD%D0%BE%D1%81%D1%82%D0%B8_%D1%82%D1%80%D0%B0%D0%BD%D0%B7%D0%B0%D0%BA%D1%86%D0%B8%D0%B9) - фактически, выбор между скоростью работы и обеспечением согласованности данных, т. к. при выполнении параллельных транзакций в СУБД всегда допускается получение несогласованных данных, и разработчик должен найти баланс между количеством параллельных транзакций и согласованностью данных.\n",
    "\n",
    "Стандарт SQL-92 определяет шкалу из четырёх уровней изоляции: Read uncommitted, Read committed, Repeatable read, Serializable. Первый из них является самым слабым, последний — самым сильным, каждый последующий включает в себя все предыдущие.\n",
    "\n",
    "Read uncommitted (чтение незафиксированных данных)\n",
    "\n",
    "Низший (первый) уровень изоляции. Если несколько параллельных транзакций пытаются изменять одну и ту же строку таблицы, то в окончательном варианте строка будет иметь значение, определенное всем набором успешно выполненных транзакций. При этом возможно считывание не только логически несогласованных данных, но и данных, изменения которых ещё не зафиксированы, т. к. транзакции, выполняющие только чтение, при данном уровне изоляции никогда не блокируются. Данные блокируются на время выполнения команды записи, что гарантирует, что команды изменения одних и тех же строк, запущенные параллельно, фактически выполнятся последовательно, и ни одно из изменений не потеряется.\n",
    "\n",
    "Read committed (чтение фиксированных данных)  \n",
    "\n",
    "Большинство СУБД, в частности, Microsoft SQL Server, PostgreSQL и Oracle, по умолчанию используют именно этот уровень. На этом уровне обеспечивается защита от чтения промежуточных данных, тем не менее, в процессе работы одной транзакции другая может быть успешно завершена и сделанные ею изменения зафиксированы. В итоге первая транзакция будет работать с другим набором данных.  \n",
    "Метод read committed реализуется либо при помощи блокировки данных на чтение во время записи (теряем время), либо на хранении копии данных, снятой до начала записи (теряем ОЗУ).\n",
    "\n",
    "Repeatable read (повторяющееся чтение)  \n",
    "\n",
    "Уровень, при котором читающая транзакция блокирует изменения данных, которые были ею ранее прочитаны. При этом никакая другая транзакция не может изменять данные, читаемые текущей транзакцией, пока та не окончена.\n",
    "\n",
    "Serializable (упорядочивание)  \n",
    "\n",
    "Самый высокий уровень изолированности; транзакции полностью изолируются друг от друга, каждая выполняется так, как будто параллельных транзакций не существует. Только на этом уровне параллельные транзакции не подвержены эффекту «фантомного чтения».\n",
    "\n",
    "<style>\n",
    "table th:first-of-type {\n",
    "    width: 20%;\n",
    "}\n",
    "table th:nth-of-type(2) {\n",
    "    width: 20%;\n",
    "}\n",
    "table th:nth-of-type(3) {\n",
    "    width: 20%;\n",
    "}\n",
    "table th:nth-of-type(4) {\n",
    "    width: 20%;\n",
    "}\n",
    "table th:nth-of-type(5) {\n",
    "    width: 20%;\n",
    "}\n",
    "</style>\n",
    "\n",
    "| Уровень изоляции | Фантомное чтение| Неповторяющееся чтение | «Грязное» чтение | Потерянное обновление |\n",
    "| :- | :-: | :-: | :-: | :-: |\n",
    "| Отсутствие изоляции | + | + | + | + |\n",
    "| Read uncommitted | + | + | + | - |\n",
    "| Read committed | + | + | - | - |\n",
    "| Repeatable read | + | - | - | - |\n",
    "| Serializable | - | - | - | - |"
   ]
  },
  {
   "cell_type": "markdown",
   "metadata": {},
   "source": [
    "проблема N + 1"
   ]
  },
  {
   "cell_type": "markdown",
   "metadata": {},
   "source": [
    "SQL-инъекции"
   ]
  },
  {
   "cell_type": "markdown",
   "metadata": {},
   "source": [
    "[NoSQL](https://en.wikipedia.org/wiki/NoSQL)"
   ]
  },
  {
   "cell_type": "markdown",
   "metadata": {},
   "source": [
    "### Язык SQL\n",
    "\n",
    "SQL - декларативный (описательный, непроцедурный) язык, стандарт для работы с данными во всех реляционных СУБД.  \n",
    "Операторы SQL традиционно делят на:  \n",
    "операторы определения данных (data definition language, DDL),  \n",
    "операторы манипулирования данными (data manipulation language, DML) и  \n",
    "операторы управления привилегиями доступа (data control language, DCL)."
   ]
  },
  {
   "cell_type": "markdown",
   "metadata": {},
   "source": [
    "SQLite\n",
    "\n",
    "**Server-less database engine that stores each database into a separate file.**\n",
    "\n",
    "### Connect\n",
    "**Opens a connection to the database file. Creates a new file if path doesn't exist.**\n",
    " \n",
    "import sqlite3\n",
    "<conn> = sqlite3.connect(<path>)                # Also ':memory:'.\n",
    "<conn>.close()                                  # Closes the connection.\n",
    "\n",
    "### Read\n",
    "**Returned values can be of type str, int, float, bytes or None.**\n",
    " \n",
    "<cursor> = <conn>.execute('<query>')            # Can raise a subclass of sqlite3.Error.\n",
    "<tuple>  = <cursor>.fetchone()                  # Returns next row. Also next(<cursor>).\n",
    "<list>   = <cursor>.fetchall()                  # Returns remaining rows. Also list(<cursor>).\n",
    " \n",
    "\n",
    "### Write\n",
    " \n",
    "<conn>.execute('<query>')                       # Can raise a subclass of sqlite3.Error.\n",
    "<conn>.commit()                                 # Saves all changes since the last commit.\n",
    "<conn>.rollback()                               # Discards all changes since the last commit.\n",
    " \n",
    "\n",
    "#### Or:\n",
    " \n",
    "with <conn>:                                    # Exits the block with commit() or rollback(),\n",
    "    <conn>.execute('<query>')                   # depending on whether any exception occurred.\n",
    " \n",
    "\n",
    "### Placeholders\n",
    "* **Passed values can be of type str, int, float, bytes, None, bool, datetime.date or datetime.datetime.**\n",
    "* **Bools will be stored and returned as ints and dates as [ISO formatted strings](#encode).**\n",
    " \n",
    "<conn>.execute('<query>', <list/tuple>)         # Replaces '?'s in query with values.\n",
    "<conn>.execute('<query>', <dict/namedtuple>)    # Replaces ':<key>'s with values.\n",
    "<conn>.executemany('<query>', <coll_of_above>)  # Runs execute() multiple times.\n",
    " \n",
    "\n",
    "### Example\n",
    "**Values are not actually saved in this example because `'conn.commit()'` is omitted!**\n",
    " \n",
    ">>> conn = sqlite3.connect('test.db')\n",
    ">>> conn.execute('CREATE TABLE person (person_id INTEGER PRIMARY KEY, name, height)')\n",
    ">>> conn.execute('INSERT INTO person VALUES (NULL, ?, ?)', ('Jean-Luc', 187)).lastrowid\n",
    "1\n",
    ">>> conn.execute('SELECT * FROM person').fetchall()\n",
    "[(1, 'Jean-Luc', 187)]\n"
   ]
  },
  {
   "cell_type": "markdown",
   "metadata": {},
   "source": [
    "SQLite \n",
    "Small. Fast. Reliable. Choose any three.\n",
    "\n",
    "https://sqlite.org/index.html\n",
    "https://github.com/sqlite/sqlite\n",
    "https://habr.com/ru/post/149356/\n",
    "https://github.com/sqlitebrowser/sqlitebrowser\n",
    "\n",
    "Syntax Diagrams https://www.sqlite.org/syntaxdiagrams.html\n",
    "\n",
    "### MySQL\n",
    "**Has a very similar interface, with differences listed below.**\n",
    " \n",
    "# $ pip3 install mysql-connector\n",
    "from mysql import connector\n",
    "<conn>   = connector.connect(host=<str>, …)     # `user=<str>, password=<str>, database=<str>`.\n",
    "<cursor> = <conn>.cursor()                      # Only cursor has execute() method.\n",
    "<cursor>.execute('<query>')                     # Can raise a subclass of connector.Error.\n",
    "<cursor>.execute('<query>', <list/tuple>)       # Replaces '%s's in query with values.\n",
    "<cursor>.execute('<query>', <dict/namedtuple>)  # Replaces '%(<key>)s's with values.\n",
    "\n",
    "Memory View\n",
    "-----------\n",
    "* **A sequence object that points to the memory of another object.**\n",
    "* **Each element can reference a single or multiple consecutive bytes, depending on format.**\n",
    "* **Order and number of elements can be changed with slicing.**\n",
    "* **Casting only works between char and other types and uses system's sizes and byte order.**\n",
    "\n",
    " \n",
    "<mview> = memoryview(<bytes/bytearray/array>)  # Immutable if bytes, else mutable.\n",
    "<real>  = <mview>[<index>]                     # Returns an int or a float.\n",
    "<mview> = <mview>[<slice>]                     # Mview with rearranged elements.\n",
    "<mview> = <mview>.cast('<typecode>')           # Casts memoryview to the new format.\n",
    "<mview>.release()                              # Releases the object's memory buffer."
   ]
  },
  {
   "cell_type": "markdown",
   "metadata": {},
   "source": [
    "### PostgreSQL"
   ]
  },
  {
   "attachments": {},
   "cell_type": "markdown",
   "metadata": {},
   "source": [
    "\n",
    "### Возможности PostgreSQL, отсутствующие в других БД\n",
    "\n",
    "Каскадные триггеры. Если триггерная функция выполняет команды SQL, эти команды могут заново запускать триггеры.\n",
    "\n",
    "hstore. Возможность создавать и манипулировать данными с функциональностью словаря (dictionary).\n",
    "\n",
    "[JSONB](https://www.postgresql.org/docs/current/datatype-json.html). Парсинг JSON осуществляется однократно, во время записи. Более медленная однократная запись, но более быстрые многократные чтения. По умолчанию рекомендуется использовать JSONB, а не JSON.\n",
    "\n",
    "[Range Types](https://www.postgresql.org/docs/current/rangetypes.html). Никаких больше колонок planned_worktime_start и planned_worktime_end и пляски с операторами сравнения для нахождения других строк, у которых интервал, задаваемый этими колонками пересекается с этой строкой. Всё необходимое уже есть (включая constraints, про которые обещали рассказать в соседнем топике).\n",
    "\n",
    "Прочие нативные типы: interval, cidr и другие, со встроенными методами работы с ними.\n",
    "\n",
    "[Массивы](https://www.postgresql.org/docs/current/arrays.html) — нарушение 1-й нормальной формы, но когда всё, что необходимо — это сохранить несколько строчек, то горождение отдельной таблицы с перспективой JOIN'а с ней выглядит совсем непривлекательно.\n",
    "\n",
    "У PostgreSQL полностью транзакционный DDL, т.е. можно в транзакциях менять схему данных, и эти изменения буду транзакционными. Соответственно, возможны миграции без остановки записи.\n",
    "\n",
    "[PostGIS](https://postgis.net/). Бесплатное расширение для PostgreSQL с открытым исходным кодом для работы с географическими объектами, дополняющее встроенные возможности БД (point, gist). Работает с точками, ломаными линиями, полигонами, растрами, а также использует их для разных операций, например, поиска.\n",
    "\n",
    "PL/pgSQL. Процедурный язык для PostgreSQL. Функции PL/pgSQL могут использоваться везде, где допустимы встроенные функции. Например, можно создать функции со сложными вычислениями и условной логикой, а затем использовать их при определении операторов или в индексных выражениях.\n",
    "\n",
    "Полная SQL-совместимость."
   ]
  },
  {
   "cell_type": "markdown",
   "metadata": {},
   "source": [
    "\n",
    "### Вложенные транзакции\n",
    "\n",
    "Механизм, который неявно задействован при создании точек сохранения и при обработке исключений."
   ]
  },
  {
   "cell_type": "markdown",
   "metadata": {},
   "source": [
    "Что такое курсор и зачем он нужен?  \n",
    "Что делает оператор JOIN, какие виды бывают?  \n",
    "Что делает оператор HAVING, примеры?  \n",
    "В каких случаях вы бы предпочли нереляционную БД?  \n",
    "Что такое функциональный индекс?  "
   ]
  },
  {
   "cell_type": "markdown",
   "metadata": {},
   "source": [
    "### VACUUM\n",
    "\n",
    "Команда VACUUM высвобождает пространство, занимаемое «мертвыми» кортежами, что актуально для часто используемых таблиц. При обычных операциях в Postgres кортежи, удаленные или устаревшие в результаты обновления, физически не удаляются, а сохраняются в таблице до очистки."
   ]
  },
  {
   "cell_type": "markdown",
   "metadata": {},
   "source": [
    "### EXPLAIN, EXPLAIN ANALYZE\n",
    "\n",
    "EXPLAIN ANALYZE – в отличие от просто EXPLAIN не только показывает план выполнения запроса, но и непосредственно выполняет запрос и показывает реальное время выполнения."
   ]
  },
  {
   "cell_type": "markdown",
   "metadata": {},
   "source": [
    "### Server side cursor\n",
    "\n",
    "Способ работы с результатом запроса в базу данных, который позволяет не загружать весь объем данных в память, позволяет работать с большими объемами данных. Дополнительно углубленно можно поговорить про особенности работы в связке с pgbouncer."
   ]
  },
  {
   "cell_type": "markdown",
   "metadata": {},
   "source": [
    "### Источники\n",
    "\n",
    "Е. П. Моргунов. [PostgreSQL. Основы языка SQL](https://edu.postgrespro.ru/sql_primer.pdf).  "
   ]
  }
 ],
 "metadata": {
  "interpreter": {
   "hash": "26de051ba29f2982a8de78e945f0abaf191376122a1563185a90213a26c5da77"
  },
  "kernelspec": {
   "display_name": "Python 3.10.0 64-bit",
   "language": "python",
   "name": "python3"
  },
  "language_info": {
   "codemirror_mode": {
    "name": "ipython",
    "version": 3
   },
   "file_extension": ".py",
   "mimetype": "text/x-python",
   "name": "python",
   "nbconvert_exporter": "python",
   "pygments_lexer": "ipython3",
   "version": "3.10.9"
  },
  "orig_nbformat": 4
 },
 "nbformat": 4,
 "nbformat_minor": 2
}
