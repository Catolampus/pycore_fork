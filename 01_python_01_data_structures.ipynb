{
 "cells": [
  {
   "cell_type": "markdown",
   "metadata": {},
   "source": [
    "## 1. Структуры данных"
   ]
  },
  {
   "cell_type": "markdown",
   "metadata": {},
   "source": [
    "### Массив (array, bytearray) <a name=\"basicarray\"></a>  \n",
    "\n",
    "Хранит переменные определенного типа, поэтому, в отличие от списка, не требует создания нового объекта для каждой новой переменной. Выигрывает у списка в размерах. Можно сказать, что это тонкая обертка на Си-массивами."
   ]
  },
  {
   "cell_type": "markdown",
   "metadata": {},
   "source": [
    "### Список (list) <a name=\"basicdarray\"></a>  \n",
    "\n",
    "Упорядоченные изменяемые коллекции объектов произвольных типов (почти как массив, но типы могут отличаться). Внутреннее строение списка - массив (точнее, vector) указателей, следовательно, список = динамический массив."
   ]
  },
  {
   "cell_type": "markdown",
   "metadata": {},
   "source": [
    "### Односвязный список <a name=\"basicslist\"></a>  \n",
    "\n",
    "Односвязный список представляет набор связанных узлов, каждый из которых хранит собственно данные и ссылку на следующий узел. В практике применим редко, но его любят использовать интервьюеры на собеседованиях, чтобы кандидат мог блеснуть своими алгоритмическими знаниями. Встроенной реализации не имеет, можно или использовать deque (в основе которого лежит двусвязный список), или написать свою реализацию."
   ]
  },
  {
   "cell_type": "markdown",
   "metadata": {},
   "source": [
    "### Двусвязный список <a name=\"basicdlist\"></a>  \n",
    "\n",
    "Ссылки в каждом узле указывают на предыдущий и на последующий узел в списке. Можно или использовать deque, или написать свою реализацию."
   ]
  },
  {
   "cell_type": "markdown",
   "metadata": {},
   "source": [
    "### Словарь (dict) <a name=\"basichashtable\"></a>  \n",
    "\n",
    "dict - реализация хеш-таблицы, поэтому в качестве ключа нельзя брать нехешируемый объект (например, список). Ключом словаря может быть любой неизменяемый объект: число, строка, datetime, функция и даже модуль. Такие объекты имеют метод __hash__(), который однозначно сопоставляет объект с некоторым числом. По этому числу словарь ищет значение для ключа.  \n",
    "Списки, словари и множества изменяемы и не имеют метода хеширования. При подстановке их в словарь возникнет ошибка."
   ]
  },
  {
   "cell_type": "markdown",
   "metadata": {},
   "source": [
    "### Решение проблемы вычисления хеша при работе со словарем<a name=\"basichashtableproblem\"></a>  \n",
    "\n",
    "Любая хеш-таблица должна уметь решать проблему вычисления хеша. Для этого используются техники **open addressing** или **chaining**. Python [использует](https://stackoverflow.com/questions/9010222/why-can-a-python-dict-have-multiple-keys-with-the-same-hash) open addressing.\n",
    "\n",
    "```text\n",
    "# Logical model of Python Hash table\n",
    "-+-----------------+\n",
    "0| <hash|key|value>|\n",
    "-+-----------------+\n",
    "1|      ...        |\n",
    "-+-----------------+\n",
    ".|      ...        |\n",
    "-+-----------------+\n",
    "i|      ...        |\n",
    "-+-----------------+\n",
    ".|      ...        |\n",
    "-+-----------------+\n",
    "n|      ...        |\n",
    "-+-----------------+\n",
    "```\n",
    "\n",
    "Новый словарь инициализируется с 8 пустыми слотами.\n",
    "\n",
    "Интерпретатор сначала пытается добавить новую запись по адресу, зависящему от хеша ключа, i = hash(key) & mask, где mask = PyDictMINSIZE - 1. Если этот адрес занят, то интерпретатор проверяет (при помощи ==) хеш и ключ. Если оба совпадают, то, значит, запись уже существует. Тогда начинается зондирование свободных слотов, которое идет в псевдослучайном порядке (порядок зависит от значения ключа). Новая запись будет добавлена по первому свободному адресу.\n",
    "\n",
    "Чтение из словаря происходит аналогично, интерпретатор начинает поиск с позиции i и идет по тому же псевдослучайному пути, пока не прочитает нужную запись."
   ]
  },
  {
   "cell_type": "markdown",
   "metadata": {},
   "source": [
    "### Бинарное дерево <a name=\"basicbinarytree\"></a>  \n",
    "\n",
    "Иерархическая структура данных, в которой каждый узел имеет не более двух потомков. Встроенной реализации не имеет, нужно писать свою реализацию."
   ]
  },
  {
   "cell_type": "markdown",
   "metadata": {},
   "source": [
    "### B-дерево (Би-дерево)<a name=\"basicbtree\"></a>  \n",
    "\n",
    "Сбалансированное дерево, оптимизированное для доступа к относительно медленным элементам памяти (например, дисковым структурам или индексам баз данных), как ветви, так и листья представляют собой списки (для того, чтобы можно было считать такой список в один проход для дальнейшего разбора в ОЗУ), но обычно различаются по структуре. Нужно писать свою реализацию."
   ]
  },
  {
   "cell_type": "markdown",
   "metadata": {},
   "source": [
    "### Красно-черное дерево <a name=\"basicrbtree\"></a>  \n",
    "\n",
    "Самобалансирующееся двоичное дерево поиска, позволяющее быстро выполнять основные операции дерева поиска: добавление, удаление и поиск узла. Сбалансированность достигается за счёт введения дополнительного признака узла дерева — «цвета». Этот атрибут может принимать одно из двух возможных значений — «чёрный» или «красный». Листовые узлы КЧ деревьев не содержат данных, поэтому не требуют выделения памяти — достаточно просто записать в узле-предке нулевой указатель на потомка. Нужно писать свою реализацию."
   ]
  },
  {
   "cell_type": "markdown",
   "metadata": {},
   "source": [
    "### АВЛ-дерево <a name=\"basicavltree\"></a>  \n",
    "\n",
    "В АВЛ-деревьях операции вставки и удаления работают медленнее, чем в красно-черных деревьях (при том же количестве листьев красно-чёрное дерево может быть выше АВЛ-дерева, но не более чем в 1,388 раза). Поиск же в АВЛ-дереве выполняется быстрее (максимальная разница в скорости поиска составляет 39 %). Нужно писать свою реализацию."
   ]
  },
  {
   "cell_type": "markdown",
   "metadata": {},
   "source": [
    "### Префиксное дерево <a name=\"basictrie\"></a>  \n",
    "\n",
    "Структура данных, позволяющая хранить ассоциативный массив, ключами которого являются строки. Нужно писать свою реализацию."
   ]
  },
  {
   "cell_type": "markdown",
   "metadata": {},
   "source": [
    "### Таблица выбора структуры данных <a name=\"basicstructselectiontable\"></a>  \n",
    "\n",
    "В квадратных скобках показан худший случай.\n",
    "\n",
    "<style>\n",
    "table th:first-of-type {\n",
    "    width: 25%;\n",
    "}\n",
    "table th:nth-of-type(2) {\n",
    "    width: 25%;\n",
    "}\n",
    "table th:nth-of-type(3) {\n",
    "    width: 25%;\n",
    "}\n",
    "table th:nth-of-type(4) {\n",
    "    width: 5%;\n",
    "}\n",
    "table th:nth-of-type(5) {\n",
    "    width: 5%;\n",
    "}\n",
    "table th:nth-of-type(6) {\n",
    "    width: 5%;\n",
    "}\n",
    "table th:nth-of-type(7) {\n",
    "    width: 5%;\n",
    "}\n",
    "table th:nth-of-type(8) {\n",
    "    width: 5%;\n",
    "}\n",
    "</style>\n",
    "\n",
    "| Структура | Реализация | Применение | Индекс. | Поиск | Вставка | Удал. | Память |\n",
    "| :- | :- | :- | :-: | :-: | :-: | :-: | :-: |\n",
    "| Массив | array, bytearray | Для хранения однотипных данных | 1 | n |  |  | n |\n",
    "| Динамический массив | list |  | 1 | n | n | n | n |\n",
    "| Односвязный список | - (~deque)|  | n | n | 1 | 1 | n |\n",
    "| Двусвязный список | - (~deque)|  | n | n | 1 | 1 | n |\n",
    "| Хэш таблица | dict |  |  | 1<br> [n] | 1<br> [n] | 1<br> [n] | n |\n",
    "| Бинарное дерево | - |  | logn<br> [n] | logn<br> [n] | logn<br> [n] | logn<br> [n] | n |\n",
    "| [B-дерево](https://en.wikipedia.org/wiki/B-tree)<br> (Би-дерево) | sqlite3 | Для памяти с медленным доступом | logn | logn | logn | logn | n |\n",
    "| КЧ дерево | - | - | logn | logn | logn | logn | n |\n",
    "| АВЛ дерево | - |  | logn | logn | logn | logn | n |\n",
    "| Префиксное дерево | - | T9,<br> алгоритм [Ахо–Корасик](https://en.wikipedia.org/wiki/Aho%E2%80%93Corasick_algorithm),<br> алгоритм [LZW](https://en.wikipedia.org/wiki/Lempel%E2%80%93Ziv%E2%80%93Welch) |  | key | key | key |  |"
   ]
  },
  {
   "cell_type": "markdown",
   "metadata": {},
   "source": [
    "### Array (массив)  \n",
    "Object type that can only hold numbers of a predefined type."
   ]
  },
  {
   "cell_type": "code",
   "execution_count": null,
   "metadata": {},
   "outputs": [
    {
     "name": "stdout",
     "output_type": "stream",
     "text": [
      "array('l', [1, 2, 3, -4])\n",
      "49\n",
      "b'1234567890'\n",
      "3\n"
     ]
    }
   ],
   "source": [
    "from array import array\n",
    "\n",
    "a1 = array(\"l\", [1, 2, 3, -4])  # Array from collection of numbers\n",
    "a2 = array(\"b\", b\"1234567890\")  # Array from bytes object\n",
    "b = bytes(a2)\n",
    "\n",
    "print(a1)\n",
    "print(a2[0])\n",
    "print(b)\n",
    "\n",
    "print(a1.index(-4))  # Returns an index of a member or raises ValueError"
   ]
  },
  {
   "cell_type": "markdown",
   "metadata": {},
   "source": [
    "### Bytes\n",
    "\n",
    "Bytes object is an immutable sequence of single bytes. Mutable version is called bytearray."
   ]
  },
  {
   "cell_type": "code",
   "execution_count": null,
   "metadata": {},
   "outputs": [
    {
     "name": "stdout",
     "output_type": "stream",
     "text": [
      "b'\\x01\\x02\\x03\\x04' b'The String' b'\\xff\\xff\\xfc\\x00' b'\\xfe\\xad\\xca' b'\\n\\x0c\\x0e\\x10\\x12\\x14\\x16\\x18\\x1a\\x1c'\n",
      "[252, 0, 0, 0, 0, 1] The String 64512 fc 00 00 00 00 01\n",
      "b'\\x01\\x02\\x03\\x04'\n"
     ]
    }
   ],
   "source": [
    "\n",
    "### Encode\n",
    "b1 = bytes([1, 2, 3, 4])  # Ints must be in range from 0 to 255\n",
    "b2 = \"The String\".encode('utf-8')\n",
    "b3 = (-1024).to_bytes(4, byteorder='big', signed=True)  # byteorder=\"big\"/\"little\"/\"sys.byteorder\", signed=False/True\n",
    "b4 = bytes.fromhex('FEADCA')  # Hex pairs can be separated by spaces\n",
    "b5 = bytes(range(10,30,2))\n",
    "\n",
    "print(b1, b2, b3, b4, b5)\n",
    "\n",
    "### Decode\n",
    "c: list = list(b\"\\xfc\\x00\\x00\\x00\\x00\\x01\")  # Returns ints in range from 0 to 255\n",
    "s: str = b'The String'.decode(\"utf-8\")\n",
    "b: int = int.from_bytes(b\"\\xfc\\x00\", byteorder='big', signed=False)  # byteorder=\"big\"/\"little\"/\"sys.byteorder\", signed=False/True\n",
    "s2: str = b\"\\xfc\\x00\\x00\\x00\\x00\\x01\".hex(\" \")  # Returns a string of hexadecimal pairs, hex pairs can be separated by spaces\n",
    "\n",
    "print(c, s, b, s2)\n",
    "\n",
    "with open(\"1.bin\", \"wb\") as file:  # Write bytes to file\n",
    "    file.write(b1)\n",
    "\n",
    "with open(\"1.bin\", \"rb\") as file:  # Read bytes from file\n",
    "    b6 = file.read()\n",
    "\n",
    "print(b6)"
   ]
  },
  {
   "cell_type": "markdown",
   "metadata": {},
   "source": [
    "### List (список)"
   ]
  },
  {
   "cell_type": "code",
   "execution_count": null,
   "metadata": {},
   "outputs": [
    {
     "name": "stdout",
     "output_type": "stream",
     "text": [
      "[10, 20, 50] [30, 40, 60]\n",
      "Add: [10, 20, 50, 30, 40, 60]\n",
      "Reverse: [60, 40, 30, 50, 20, 10], [10, 20, 50, 30, 40, 60]\n",
      "Sort: [10, 20, 30, 40, 50, 60], [10, 20, 30, 40, 50, 60]\n",
      "['A', ' ', 'w', 'h', 'o', 'l', 'e', ' ', 's', 't', 'r', 'i', 'n', 'g']\n",
      "['A', 'whole', 'string']\n",
      "2\n",
      "['A', ' ', 'h', 'o', 'l', 'e', ' ', 's', 't', 'i', 'n', 'g'] r\n"
     ]
    }
   ],
   "source": [
    "a = []  # Создаем пустой список\n",
    "\n",
    "a: list[int] = [10, 20]\n",
    "b: list[int] = [30, 40]\n",
    "a.append(50)  # Добавляем значение в конец списка\n",
    "b.insert(2, 60)  # Вставляем значение по определенному индексу\n",
    "print(a, b)\n",
    "\n",
    "a += b\n",
    "print(f\"Add: {a}\")\n",
    "\n",
    "a.reverse()\n",
    "b = list(reversed(a))  # reversed() возвращает итератор, а не список\n",
    "print(f\"Reverse: {a}, {b}\")\n",
    "\n",
    "b = sorted(a)  # Возвращает новый отсортированный список\n",
    "a.sort()  # Модифицирует исходный список и не возвращает ничего\n",
    "print(f\"Sort: {a}, {b}\")\n",
    "\n",
    "s: str = \"A whole string\"\n",
    "list_of_chars: list = list(s)\n",
    "print(list_of_chars)\n",
    "list_of_words: list = s.split()\n",
    "print(list_of_words)\n",
    "\n",
    "i: int = list_of_chars.index(\"w\")  # Возвращает индекс первого вхождения искомого элемента или вызывает исключение ValueError\n",
    "print(i)\n",
    "list_of_chars.remove(\"w\")  # Удаляет первое вхождение искомого элемента или вызывает исключение ValueError\n",
    "e = list_of_chars.pop(9)  # Удаляет и возвращает значение, расположенное по индексу. pop() (без аргумента) удалит и вернет последний элемент списка\n",
    "print(list_of_chars, e)\n",
    "a.clear()  # Очистка списка"
   ]
  },
  {
   "cell_type": "markdown",
   "metadata": {},
   "source": [
    "sorted_by_second = sorted(<collection>, key=lambda el: el[1])  \n",
    "sorted_by_both   = sorted(<collection>, key=lambda el: (el[1], el[0]))  \n",
    "flatter_list     = list(itertools.chain.from_iterable(<list>))  \n",
    "product_of_elems = functools.reduce(lambda out, el: out * el, <collection>)  "
   ]
  },
  {
   "cell_type": "markdown",
   "metadata": {},
   "source": [
    "### Dictionary (словарь)"
   ]
  },
  {
   "cell_type": "code",
   "execution_count": null,
   "metadata": {},
   "outputs": [
    {
     "name": "stdout",
     "output_type": "stream",
     "text": [
      "{'Italy': 'Pizza', 'US': 'Hot-Dog', 'China': 'Dim Sum'}\n",
      "dict_keys(['Italy', 'US', 'China'])\n",
      "dict_values(['Pizza', 'Hot-Dog', 'Dim Sum'])\n",
      "dict_items([('Italy', 'Pizza'), ('US', 'Hot-Dog'), ('China', 'Dim Sum')])\n",
      "Mapping: Pizza\n",
      "Replace item: {'Italy': 'Pizza', 'US': 'Hot-Dog', 'China': 'Dumplings'}\n",
      "Read item: Dumplings\n",
      "Dictionary key doesn't exist\n",
      "{'Italy': 'Pizza', 'China': 'Dumplings'}\n",
      "{'US': 'Hot-Dog', 'China': 'Dumplings'}\n"
     ]
    }
   ],
   "source": [
    "d = {}  # Создаем пустой словарь\n",
    "\n",
    "d: dict[str, str] = {\"Italy\": \"Pizza\", \"US\": \"Hot-Dog\", \"China\": \"Dim Sum\"}  # Непосредственное создание словаря\n",
    "\n",
    "k = [\"Italy\", \"US\", \"China\"]\n",
    "v = [\"Pizza\", \"Hot-Dog\", \"Dim Sum\"]\n",
    "d = dict(zip(k, v))  # Создание словаря из двух коллекций при помощи zip\n",
    "\n",
    "k = d.keys()  # Коллекция ключей. Отражает изменения в основном словаре\n",
    "v = d.values()  # Коллекция значений. Тоже отражает изменения в основном словаре\n",
    "k_v = d.items()  # Кортежи ключ-значение, которые тоже отражают изменения в основном словаре\n",
    "\n",
    "print(d)\n",
    "print(k)\n",
    "print(v)\n",
    "print(k_v)\n",
    "\n",
    "print(f\"Mapping: {k.mapping['Italy']}\")\n",
    "\n",
    "d.update({\"China\": \"Dumplings\"})  # Добавление значение. При совпадении ключа старое значение будет перезаписано\n",
    "print(f\"Replace item: {d}\")\n",
    "\n",
    "c = d[\"China\"]  # Читаем значение\n",
    "print(f\"Read item: {c}\")\n",
    "\n",
    "try:\n",
    "    v = d.pop(\"Spain\")  # Удаляет значение или вызывает исключение KeyError\n",
    "except KeyError:\n",
    "    print(\"Dictionary key doesn't exist\")\n",
    "\n",
    "# Примеры dict comprehension\n",
    "b = {k: v for k, v in d.items() if \"a\" in k}  # Вернет новый словарь, отфильтрованный по значению ключа\n",
    "print(b)\n",
    "\n",
    "c = {k: v for k, v in d.items() if len(v) >= 7}  # Вернет новый словарь, отфильтрованный по длине значений\n",
    "print(c)\n",
    "\n",
    "d.clear() # Очистка списка"
   ]
  },
  {
   "cell_type": "markdown",
   "metadata": {},
   "source": [
    "### defaultdict\n",
    "\n",
    "The *defaultdict* will create any items that you try to access (provided of course they do not exist yet) without throws a KeyError."
   ]
  },
  {
   "cell_type": "code",
   "execution_count": null,
   "metadata": {},
   "outputs": [
    {
     "name": "stdout",
     "output_type": "stream",
     "text": [
      "0\n"
     ]
    }
   ],
   "source": [
    "from collections import defaultdict\n",
    "\n",
    "dd = defaultdict(int)  # defaultdict\n",
    "print(dd[10])  # Печать int, будет выведен ноль, значение по умолчанию\n",
    "\n",
    "dd = {}  # \"Обычный\" словарь\n",
    "# print(dd[10])  # вызовет исключение KeyError"
   ]
  },
  {
   "cell_type": "markdown",
   "metadata": {},
   "source": [
    "### Counter (счетчик)\n",
    "\n",
    "A Counter is a dict subclass for counting hashable objects, it is a collection where elements are stored as dictionary keys and their counts are stored as dictionary values."
   ]
  },
  {
   "cell_type": "code",
   "execution_count": null,
   "metadata": {},
   "outputs": [
    {
     "name": "stdout",
     "output_type": "stream",
     "text": [
      "Counter({'white': 3, 'black': 2, 'red': 1, 'blue': 1})\n",
      "After shopping: Counter({'white': 3, 'blue': 2, 'black': 2, 'red': 1})\n",
      "defaultdict(<class 'int'>, {'red': 1, 'white': 3, 'blue': 2, 'black': 2})\n"
     ]
    }
   ],
   "source": [
    "from collections import Counter\n",
    "\n",
    "shirts_colors = [\"red\", \"white\", \"blue\", \"white\", \"white\", \"black\", \"black\"]\n",
    "c = Counter(shirts_colors)\n",
    "print(c)\n",
    "\n",
    "c[\"blue\"] += 1\n",
    "print(f\"After shopping: {c}\")\n",
    "\n",
    "# We can explain how Counter() works with defaultdict():\n",
    "from collections import defaultdict\n",
    "\n",
    "d = defaultdict(int)\n",
    "for shirt in shirts_colors:\n",
    "    d[shirt] += 1\n",
    "d[\"blue\"] += 1\n",
    "\n",
    "print(d)"
   ]
  },
  {
   "cell_type": "markdown",
   "metadata": {},
   "source": [
    "### Set (множество)"
   ]
  },
  {
   "cell_type": "code",
   "execution_count": null,
   "metadata": {},
   "outputs": [
    {
     "name": "stdout",
     "output_type": "stream",
     "text": [
      "{'New-York', 'Los Angeles', 'Sydney', 'Ottawa'} {'New-York', 'Seattle', 'Chicago', 'Los Angeles', 'Salt Lake City'}\n",
      "{'Ottawa', 'Salt Lake City', 'Chicago', 'New-York', 'Seattle', 'Sydney', 'Los Angeles'}\n",
      "{'New-York', 'Los Angeles'}\n",
      "{'Ottawa', 'Sydney'}\n",
      "{'Seattle', 'Ottawa', 'Chicago', 'Salt Lake City', 'Sydney'}\n",
      "True False\n"
     ]
    }
   ],
   "source": [
    "big_cities: set[\"str\"] = {\"New-York\", \"Los Angeles\", \"Ottawa\"}\n",
    "american_cities: set[\"str\"] = {\"Chicago\", \"New-York\", \"Los Angeles\"}\n",
    "\n",
    "big_cities |= {\"Sydney\"}  # Add item (or you can use add())\n",
    "american_cities |= {\"Salt Lake City\", \"Seattle\"}  # Add set (or you can use update())\n",
    "\n",
    "print(big_cities, american_cities)\n",
    "\n",
    "union_cities: set[\"str\"] = big_cities | american_cities  # Or union()\n",
    "intersected_cities: set[\"str\"] = big_cities & american_cities  # Or intersection()\n",
    "dif_cities: set[\"str\"] = big_cities - american_cities  # Or difference()\n",
    "symdif_cities: set[\"str\"] = big_cities ^ american_cities  # Or symmetric_difference()\n",
    "\n",
    "issub: bool = big_cities <= union_cities  # Or issubset()\n",
    "issuper: bool = american_cities >= dif_cities  # Or issuperset()\n",
    "\n",
    "print(union_cities)\n",
    "print(intersected_cities)\n",
    "print(dif_cities)\n",
    "print(symdif_cities)\n",
    "\n",
    "print(issub, issuper)\n",
    "\n",
    "big_cities.add(\"London\")  # Add items\n",
    "\n",
    "big_cities.remove(\"Ottawa\")  # Removes an item from the set if it is present or raises KeyError\n",
    "big_cities.discard(\"Los Angeles\")  # Remove an item from the set if it is present without raising KeyError\n",
    "big_cities.pop()  # Remove and return a random item from the set or raises KeyError\n",
    "big_cities.clear()  # Removes all items from the set"
   ]
  },
  {
   "cell_type": "markdown",
   "metadata": {},
   "source": [
    "### Frozen Set\n",
    "\n",
    "Frozen set is just an immutable and hashable version of a set object. Frozen set can be used as key in Dictionary or as element of another set."
   ]
  },
  {
   "cell_type": "code",
   "execution_count": null,
   "metadata": {},
   "outputs": [],
   "source": [
    "s = frozenset({\"New-York\", \"Los Angeles\", \"Ottawa\"})"
   ]
  },
  {
   "cell_type": "markdown",
   "metadata": {},
   "source": [
    "### Tuple (кортеж)  \n",
    "Tuple is an immutable and hashable list"
   ]
  },
  {
   "cell_type": "code",
   "execution_count": null,
   "metadata": {},
   "outputs": [
    {
     "name": "stdout",
     "output_type": "stream",
     "text": [
      "(2, 3) ('Boson', 'Higgs', 1.56e-22)\n"
     ]
    }
   ],
   "source": [
    "a = (2, 3)\n",
    "b = (\"Boson\", \"Higgs\", 1.56e-22)\n",
    "\n",
    "print(a, b)"
   ]
  },
  {
   "cell_type": "markdown",
   "metadata": {},
   "source": [
    "### Named Tuple (именованный кортеж)\n",
    "Subclass of tuple with named elements"
   ]
  },
  {
   "cell_type": "code",
   "execution_count": null,
   "metadata": {},
   "outputs": [
    {
     "name": "stdout",
     "output_type": "stream",
     "text": [
      "rectangle(length=1, width=2)\n",
      "1\n",
      "2\n",
      "('length', 'width')\n"
     ]
    }
   ],
   "source": [
    "from collections import namedtuple\n",
    "\n",
    "rectangle = namedtuple('rectangle', 'length width')\n",
    "r = rectangle(length = 1, width = 2)\n",
    "\n",
    "print(r)\n",
    "print(r.length)\n",
    "print(r.width)\n",
    "print(r._fields)"
   ]
  },
  {
   "cell_type": "markdown",
   "metadata": {},
   "source": [
    "### Enum"
   ]
  },
  {
   "cell_type": "code",
   "execution_count": null,
   "metadata": {},
   "outputs": [
    {
     "name": "stdout",
     "output_type": "stream",
     "text": [
      "Currency.us_dollar\n",
      "Currency.us_dollar\n",
      "Currency.us_dollar\n",
      "us_dollar\n",
      "2\n",
      "[<Currency.euro: 1>, <Currency.us_dollar: 2>, <Currency.yuan: 3>] \n",
      " ['euro', 'us_dollar', 'yuan'] \n",
      " [1, 2, 3] \n",
      " Currency.euro\n"
     ]
    }
   ],
   "source": [
    "from enum import Enum, auto\n",
    "import random\n",
    "\n",
    "class Currency(Enum):\n",
    "    euro = 1\n",
    "    us_dollar = 2\n",
    "    yuan = auto()\n",
    "\n",
    "# If there are no numeric values before auto(), it returns 1, otherwise it returns an increment of the last numeric value\n",
    "\n",
    "local_currency = Currency.us_dollar  # Returns a member\n",
    "print(local_currency)\n",
    "\n",
    "local_currency = Currency[\"us_dollar\"]  # Returns a member or raises KeyError\n",
    "print(local_currency)\n",
    "\n",
    "local_currency = Currency(2)  # Returns a member or raises ValueError\n",
    "print(local_currency)\n",
    "\n",
    "print(local_currency.name)\n",
    "print(local_currency.value)\n",
    "\n",
    "list_of_members = list(Currency)\n",
    "member_names    = [e.name for e in Currency]\n",
    "member_values   = [e.value for e in Currency]\n",
    "random_member   = random.choice(list(Currency))\n",
    "\n",
    "print(list_of_members, \"\\n\",\n",
    "      member_names, \"\\n\",\n",
    "      member_values, \"\\n\",\n",
    "      random_member)"
   ]
  },
  {
   "cell_type": "markdown",
   "metadata": {},
   "source": [
    "### Range"
   ]
  },
  {
   "cell_type": "code",
   "execution_count": null,
   "metadata": {},
   "outputs": [
    {
     "name": "stdout",
     "output_type": "stream",
     "text": [
      "To exclusive: 0 1 2 3 4 5 6 7 8 9 10 \n",
      "From inclusive to exclusive: 5 6 7 8 9 10 11 12 13 14 15 16 17 18 19 20 \n",
      "From inclusive to exclusive with step: 20 18 16 14 12 10 \n",
      "From = 20\n",
      "To = 9\n"
     ]
    }
   ],
   "source": [
    "\n",
    "r1: range = range(11)  # Creates a sequence of numbers from 0 to 10\n",
    "r2: range = range(5, 21) # Creates a sequence of numbers from 5 to 20\n",
    "r3: range = range(20, 9, -2)  # Creates a sequence of numbers from 20 to 10 with step 2\n",
    "\n",
    "print(\"To exclusive: \", end=\"\")\n",
    "for i in r1:\n",
    "  print(f\"{i} \", end=\"\")\n",
    "\n",
    "print(\"\\nFrom inclusive to exclusive: \", end=\"\")\n",
    "for i in r2:\n",
    "  print(f\"{i} \", end=\"\")\n",
    "\n",
    "print(\"\\nFrom inclusive to exclusive with step: \", end=\"\")\n",
    "for i in r3:\n",
    "  print(f\"{i} \", end=\"\")\n",
    "\n",
    "print(f\"\\nFrom = {r3.start}\")\n",
    "print(f\"To = {r3.stop}\")"
   ]
  },
  {
   "cell_type": "markdown",
   "metadata": {},
   "source": [
    "### Dataclass  \n",
    "Decorator that automatically generates init(), repr() and eq() special methods"
   ]
  },
  {
   "cell_type": "code",
   "execution_count": null,
   "metadata": {},
   "outputs": [
    {
     "name": "stdout",
     "output_type": "stream",
     "text": [
      "Transaction(value=1000000, issuer='Deutsche Bank', dt=datetime.datetime(2022, 1, 1, 12, 0))\n",
      "Transaction(value=1000, issuer='Default Bank', dt=datetime.datetime(2022, 9, 6, 17, 50, 36, 162897))\n"
     ]
    }
   ],
   "source": [
    "from dataclasses import dataclass\n",
    "from decimal import *\n",
    "from datetime import datetime\n",
    "\n",
    "@dataclass\n",
    "class Transaction:\n",
    "    value: Decimal\n",
    "    issuer: str = \"Default Bank\"\n",
    "    dt: datetime = datetime.now()\n",
    "\n",
    "t1 = Transaction(value=1000_000, issuer=\"Deutsche Bank\", dt = datetime(2022, 1, 1, 12))\n",
    "t2 = Transaction(1000)\n",
    "\n",
    "print(t1)\n",
    "print(t2)"
   ]
  },
  {
   "cell_type": "markdown",
   "metadata": {},
   "source": [
    "Objects can be made immutable with *frozen=True*."
   ]
  },
  {
   "cell_type": "code",
   "execution_count": null,
   "metadata": {},
   "outputs": [],
   "source": [
    "from dataclasses import dataclass\n",
    "\n",
    "@dataclass(frozen=True)\n",
    "class User:\n",
    "    name: str\n",
    "    account: int\n"
   ]
  },
  {
   "cell_type": "markdown",
   "metadata": {},
   "source": [
    "### Deque\n",
    "\n",
    "A thread-safe list with efficient appends and pops from either side."
   ]
  },
  {
   "cell_type": "code",
   "execution_count": null,
   "metadata": {},
   "outputs": [
    {
     "name": "stdout",
     "output_type": "stream",
     "text": [
      "deque([-2, -1, 0, 1, 2, 3, 4, 5, 6, 7], maxlen=1000)\n",
      "7 -2\n",
      "deque([-1, 0, 1, 2, 3, 4, 5, 6], maxlen=1000)\n"
     ]
    }
   ],
   "source": [
    "from collections import deque\n",
    "d = deque([1, 2, 3, 4], maxlen=1000)\n",
    "\n",
    "d.append(5)  # Add element to the right side of the deque\n",
    "d.appendleft(0)  # Add element to the left side of the deque by appending elements from iterable\n",
    "\n",
    "d.extend([6, 7])  # Extend the right side of the deque\n",
    "d.extendleft([-1, -2])  # Extend the left side of the deque\n",
    "print(d)\n",
    "\n",
    "a = d.pop()  # Remove and return an element from the right side of the deque. Can raise an IndexError\n",
    "b = d.popleft()  # Remove and return an element from the left side of the deque. Can raise an IndexError\n",
    "print(a, b)\n",
    "print(d)"
   ]
  },
  {
   "cell_type": "markdown",
   "metadata": {},
   "source": [
    "### Queue\n",
    "\n",
    "The queue module implements multi-producer, multi-consumer FIFO queues. It is especially useful in threaded programming when information must be exchanged safely between multiple threads. For LIFO queue use LifoQueue. For a priority queue use PriorityQueue."
   ]
  },
  {
   "cell_type": "code",
   "execution_count": null,
   "metadata": {},
   "outputs": [
    {
     "name": "stdout",
     "output_type": "stream",
     "text": [
      "deque(['eat', 'sleep', 'code', 'repeat'])\n",
      "eat sleep code deque(['repeat'])\n"
     ]
    }
   ],
   "source": [
    "from queue import Queue\n",
    "q = Queue(maxsize=1000)\n",
    "\n",
    "q.put(\"eat\", block=True, timeout=10)  # Put an element to the queue with 10 seconds timeuot, block if necessary until a free slot is available\n",
    "q.put(\"sleep\")  # Default values block=True, timeout=None\n",
    "q.put(\"code\")\n",
    "q.put_nowait(\"repeat\")  # Equivalent to put(\"repeat\", block=False). Put an element on the queue if a free slot is immediately available, else raise the queue.Full exception\n",
    "print(q.queue)\n",
    "\n",
    "a = q.get(block=True, timeout=10)  # Remove and return an item from the queue\n",
    "b = q.get()  # Default values block=True, timeout=None\n",
    "c = q.get_nowait()  # Equivalent to get(False)\n",
    "print(a, b, c, q.queue)"
   ]
  },
  {
   "cell_type": "markdown",
   "metadata": {},
   "source": [
    "### Struct\n",
    "\n",
    "Module that performs conversions between a sequence of numbers and a bytes object. System’s type sizes and byte order are used by default."
   ]
  },
  {
   "cell_type": "code",
   "execution_count": null,
   "metadata": {},
   "outputs": [
    {
     "name": "stdout",
     "output_type": "stream",
     "text": [
      "b'\\x00\\x01\\x00\\x02\\x00\\x00\\x00\\x03\\x00\\x00\\x00\\x04'\n",
      "(1, 2, 3, 4)\n",
      "b'\\x01\\x00\\x00\\x00\\x02\\x00\\x00\\x00\\x01\\x00\\x00\\x00\\x02\\x00\\x00\\x00\\x01\\x00\\x00\\x00\\x02\\x00\\x00\\x00\\x01\\x00\\x00\\x00\\x02\\x00\\x00\\x00\\x01\\x00\\x00\\x00\\x02\\x00\\x00\\x00'\n",
      "[(1, 2), (1, 2), (1, 2), (1, 2), (1, 2)]\n"
     ]
    }
   ],
   "source": [
    "from struct import pack, unpack, iter_unpack\n",
    "\n",
    "b = pack(\">hhll\", 1, 2, 3, 4)\n",
    "print(b)\n",
    "\n",
    "t = unpack(\">hhll\", b)\n",
    "print(t)\n",
    "\n",
    "i = pack(\"ii\", 1, 2) * 5\n",
    "print(i)\n",
    "\n",
    "print(list(iter_unpack('ii', i)))"
   ]
  },
  {
   "cell_type": "markdown",
   "metadata": {},
   "source": [
    "## String (строка)"
   ]
  },
  {
   "cell_type": "code",
   "execution_count": null,
   "metadata": {},
   "outputs": [
    {
     "name": "stdout",
     "output_type": "stream",
     "text": [
      "Joined string: Follow the white rabbit\n",
      "is_contains = True, is_startswith = True, is_endswith = True\n",
      "After replace: Follow the white sheep\n",
      "Start index of 'rabbit' is -1, start index of 'sheep' is 17\n",
      "Translate string: xyz\n",
      "Reverse string: tibbar etihw eht wolloF\n"
     ]
    }
   ],
   "source": [
    "se: str = \"\"  # Empty string\n",
    "si: str = str(12345)  # Creates the string from int\n",
    "sj: str = \" \".join([\"Follow\", \"the\", \"white\", \"rabbit\"])  # Joins items using string as a separator\n",
    "print(f\"Joined string: {sj}\")\n",
    "\n",
    "is_contains: bool = \"rabbit\" in sj  # Checks if string contains a substring\n",
    "is_startswith = sj.startswith(\"Foll\")\n",
    "is_endswith = sj.endswith(\"bbit\")\n",
    "print(f\"is_contains = {is_contains}, is_startswith = {is_startswith}, is_endswith = {is_endswith}\")\n",
    "\n",
    "sr: str  = sj.replace(\"rabbit\", \"sheep\")  # Replaces substrings. Also you can use times:  sr: str  = sj.replace(\"rabbit\", \"sheep\", times)\n",
    "print(f\"After replace: {sr}\")\n",
    "\n",
    "i1 = sr.find(\"rabbit\")  # Returns start index of the first match or -1. Also rfind()\n",
    "i2 = sr.index(\"sheep\")  #  Returns start index of the first match or raises ValueError. Also rindex()   \n",
    "print(f\"Start index of 'rabbit' is {i1}, start index of 'sheep' is {i2}\")\n",
    "\n",
    "d = str.maketrans({\"a\" : \"x\", \"b\" : \"y\", \"c\" : \"z\"})\n",
    "st  = \"abc\".translate(d)\n",
    "print(f\"Translate string: {st}\")\n",
    "\n",
    "sr = sj[::-1]  # Reverse (Explanation: stackoverflow.com/questions/931092/reverse-a-string-in-python)\n",
    "print(f\"Reverse string: {sr}\")"
   ]
  },
  {
   "cell_type": "markdown",
   "metadata": {},
   "source": [
    "### lower(), upper(), capitalize() и title()"
   ]
  },
  {
   "cell_type": "code",
   "execution_count": null,
   "metadata": {},
   "outputs": [
    {
     "name": "stdout",
     "output_type": "stream",
     "text": [
      "camelcase string\n",
      "CAMELCASE STRING\n",
      "Camelcase string\n",
      "Camelcase String\n"
     ]
    }
   ],
   "source": [
    "s: str = \"camelCase string\"\n",
    "\n",
    "print(s.lower())\n",
    "print(s.upper())\n",
    "print(s.capitalize())\n",
    "print(s.title())"
   ]
  },
  {
   "cell_type": "markdown",
   "metadata": {},
   "source": [
    "### Property Methods\n",
    "\n",
    "```text\n",
    "+---------------+----------+----------+----------+----------+----------+\n",
    "|               | [ !#$%…] | [a-zA-Z] |  [½¼¾]   |  [²³¹]   |  [0-9]   |\n",
    "+---------------+----------+----------+----------+----------+----------+\n",
    "| isprintable() |   yes    |   yes    |   yes    |   yes    |   yes    |\n",
    "| isalnum()     |          |   yes    |   yes    |   yes    |   yes    |\n",
    "| isnumeric()   |          |          |   yes    |   yes    |   yes    |\n",
    "| isdigit()     |          |          |          |   yes    |   yes    |\n",
    "| isdecimal()   |          |          |          |          |   yes    |\n",
    "+---------------+----------+----------+----------+----------+----------+\n",
    "```\n",
    "\n",
    "*isspace()* checks for *[ \\t\\n\\r\\f\\v\\x1c-\\x1f\\x85…]*"
   ]
  },
  {
   "cell_type": "markdown",
   "metadata": {},
   "source": [
    "### strip()"
   ]
  },
  {
   "cell_type": "code",
   "execution_count": null,
   "metadata": {},
   "outputs": [
    {
     "name": "stdout",
     "output_type": "stream",
     "text": [
      "~~##A big blahblahblah##~~\n",
      "A big blahblahblah\n",
      "big blahblahblah\n",
      "big \n"
     ]
    }
   ],
   "source": [
    "s: str = \"  ~~##A big blahblahblah##~~  \"\n",
    "\n",
    "s = s.strip()  # Strips all whitespace characters from both ends\n",
    "print(s)\n",
    "\n",
    "s = s.strip(\"~#\")  # Strips all passed characters from both ends\n",
    "print(s)\n",
    "\n",
    "s = s.lstrip(\" A\")  # Strips all passed characters from left end\n",
    "print(s)\n",
    "\n",
    "s = s.rstrip(\"habl\")  # Strips all passed characters from right end\n",
    "print(s)\n"
   ]
  },
  {
   "cell_type": "markdown",
   "metadata": {},
   "source": [
    "### split()"
   ]
  },
  {
   "cell_type": "code",
   "execution_count": null,
   "metadata": {},
   "outputs": [
    {
     "name": "stdout",
     "output_type": "stream",
     "text": [
      "['Follow', 'the', 'white', 'rabbit,', 'Neo']\n",
      "['Follow the white rabbit', 'Neo']\n",
      "['Beware the Jabberwock, my son!', ' The jaws that bite, the claws that catch!']\n",
      "['Beware', 'the', 'Jabberwock, my son!\\n The jaws that bite, the claws that catch!'] ['Beware the Jabberwock, my son!\\n The jaws that bite, the claws', 'that', 'catch!']\n"
     ]
    }
   ],
   "source": [
    "s1: str = \"Follow the white rabbit, Neo\"\n",
    "\n",
    "c1 = s1.split()  # Splits on one or more whitespace characters\n",
    "print(c1)\n",
    "\n",
    "c2 = s1.split(sep=\", \", maxsplit=1)  # Splits on \"sep\" str at most \"maxsplit\" times\n",
    "print(c2)\n",
    "\n",
    "s2: str = \"Beware the Jabberwock, my son!\\n The jaws that bite, the claws that catch!\"\n",
    "\n",
    "c3 = s2.splitlines(keepends=False)  # On [\\n\\r\\f\\v\\x1c-\\x1e\\x85\\u2028\\u2029] and \\r\\n.\n",
    "print(c3)\n",
    "\n",
    "# split() vs rsplit()\n",
    "\n",
    "c4 = s2.split(maxsplit=2)\n",
    "c5 = s2.rsplit(maxsplit=2)\n",
    "\n",
    "print(c4, c5)"
   ]
  },
  {
   "cell_type": "markdown",
   "metadata": {},
   "source": [
    "### ord(), chr()"
   ]
  },
  {
   "cell_type": "code",
   "execution_count": null,
   "metadata": {},
   "outputs": [
    {
     "name": "stdout",
     "output_type": "stream",
     "text": [
      "a -> 97\n",
      "b -> 98\n",
      "c -> 99\n",
      "A -> 65\n",
      "B -> 66\n",
      "C -> 67\n",
      "! -> 33\n",
      "72 -> H\n",
      "101 -> e\n",
      "108 -> l\n",
      "108 -> l\n",
      "111 -> o\n",
      "33 -> !\n"
     ]
    }
   ],
   "source": [
    "s1: str = \"abcABC!\"\n",
    "\n",
    "for ch in s1:\n",
    "    print(f\"{ch} -> {ord(ch)}\")  # Returns an integer representing the Unicode character\n",
    "\n",
    "nums = [72, 101, 108, 108, 111, 33]\n",
    "\n",
    "for num in nums:\n",
    "    print(f\"{num} -> {chr(num)}\")"
   ]
  },
  {
   "cell_type": "markdown",
   "metadata": {},
   "source": [
    "## Datetime\n",
    "\n",
    "Module *datetime* provides *date*, *time*, *datetime* and *timedelta*. All are immutable and hashable\n",
    "\n",
    "### Constructors"
   ]
  },
  {
   "cell_type": "code",
   "execution_count": null,
   "metadata": {},
   "outputs": [
    {
     "name": "stdout",
     "output_type": "stream",
     "text": [
      "1964-09-02\n",
      " 12:30:00\n",
      " 1964-09-02 10:30:00\n",
      " 8 days, 12:13:14\n"
     ]
    }
   ],
   "source": [
    "from datetime import date, time, datetime, timedelta\n",
    "\n",
    "d: date = date(year=1964, month=9, day=2)\n",
    "t: time  = time(hour=12, minute=30, second=0, microsecond=0, tzinfo=None, fold=0)\n",
    "dt: datetime = datetime(year=1964, month=9, day=2, hour=10, minute=30, second=0)\n",
    "td: timedelta = timedelta(weeks=1, days=1, hours=12, minutes=13, seconds=14)\n",
    "\n",
    "print (f\"{d}\\n {t}\\n {dt}\\n {td}\")"
   ]
  },
  {
   "cell_type": "markdown",
   "metadata": {},
   "source": [
    "### Now"
   ]
  },
  {
   "cell_type": "code",
   "execution_count": null,
   "metadata": {},
   "outputs": [
    {
     "name": "stdout",
     "output_type": "stream",
     "text": [
      "2022-09-06\n",
      " 2022-09-06 17:50:37.664312\n",
      " 2022-09-06 12:50:37.664311\n",
      " 2022-09-06 05:50:37.724181-07:00\n"
     ]
    }
   ],
   "source": [
    "from datetime import date, time, datetime\n",
    "import pytz\n",
    "\n",
    "d: date  = date.today()\n",
    "dt1: datetime = datetime.today()\n",
    "dt2: datetime = datetime.utcnow()\n",
    "dt3: datetime = datetime.now(pytz.timezone('US/Pacific'))\n",
    "\n",
    "print (f\"{d}\\n {dt1}\\n {dt2}\\n {dt3}\")\n"
   ]
  },
  {
   "cell_type": "markdown",
   "metadata": {},
   "source": [
    "### Timezone"
   ]
  },
  {
   "cell_type": "code",
   "execution_count": null,
   "metadata": {},
   "outputs": [
    {
     "name": "stdout",
     "output_type": "stream",
     "text": [
      "tzutc()\n",
      " tzlocal()\n",
      " tzlocal()\n",
      " tzfile('US/Central')\n",
      " 2022-09-06 17:50:37.895639\n",
      " 2022-09-06 12:50:37.895639+00:00\n"
     ]
    }
   ],
   "source": [
    "from datetime import date, time, datetime, timedelta, tzinfo\n",
    "from dateutil.tz import UTC, tzlocal, gettz, datetime_exists, resolve_imaginary\n",
    "\n",
    "tz1: tzinfo = UTC  # UTC timezone\n",
    "\n",
    "tz2: tzinfo = tzlocal()  # Local timezone\n",
    "tz3: tzinfo = gettz()  # Local timezone\n",
    "\n",
    "tz4: tzinfo = gettz(\"America/Chicago\")  # \"Asia/Kolkata\" etc. See full list at en.wikipedia.org/wiki/List_of_tz_database_time_zones\n",
    "\n",
    "local_dt = datetime.today()\n",
    "utc_dt = local_dt.astimezone(UTC)  # Convert local datetime to UTC datetime\n",
    "\n",
    "print (f\"{tz1}\\n {tz2}\\n {tz3}\\n {tz4}\\n {local_dt}\\n {utc_dt}\")"
   ]
  },
  {
   "cell_type": "markdown",
   "metadata": {},
   "source": [
    "## Где будет быстрее поиск, а где перебор и почему: dict, list, set, tuple?!!!"
   ]
  }
 ],
 "metadata": {
  "kernelspec": {
   "display_name": "Python 3.10.0 64-bit",
   "language": "python",
   "name": "python3"
  },
  "language_info": {
   "name": "python",
   "version": "3.10.0"
  },
  "orig_nbformat": 4,
  "vscode": {
   "interpreter": {
    "hash": "26de051ba29f2982a8de78e945f0abaf191376122a1563185a90213a26c5da77"
   }
  }
 },
 "nbformat": 4,
 "nbformat_minor": 2
}
