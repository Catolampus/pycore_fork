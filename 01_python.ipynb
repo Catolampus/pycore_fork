{
 "cells": [
  {
   "cell_type": "markdown",
   "metadata": {},
   "source": [
    "## Структуры данных"
   ]
  },
  {
   "cell_type": "markdown",
   "metadata": {},
   "source": [
    "### Массив (array, bytearray) <a name=\"basicarray\"></a>  \n",
    "\n",
    "Хранит переменные определенного типа, поэтому, в отличие от списка, не требует создания нового объекта для каждой новой переменной. Выигрывает у списка в размерах. Можно сказать, что это тонкая обертка на Си-массивами."
   ]
  },
  {
   "cell_type": "markdown",
   "metadata": {},
   "source": [
    "### Список (list) <a name=\"basicdarray\"></a>  \n",
    "\n",
    "Упорядоченные изменяемые коллекции объектов произвольных типов (почти как массив, но типы могут отличаться). Внутреннее строение списка - массив (точнее, vector) указателей, следовательно, список = динамический массив."
   ]
  },
  {
   "cell_type": "markdown",
   "metadata": {},
   "source": [
    "### Односвязный список <a name=\"basicslist\"></a>  \n",
    "\n",
    "Односвязный список представляет набор связанных узлов, каждый из которых хранит собственно данные и ссылку на следующий узел. В практике применим редко, но его любят использовать интервьюеры на собеседованиях, чтобы кандидат мог блеснуть своими алгоритмическими знаниями. Встроенной реализации не имеет, можно или использовать deque (в основе которого лежит двусвязный список), или написать свою реализацию."
   ]
  },
  {
   "cell_type": "markdown",
   "metadata": {},
   "source": [
    "### Двусвязный список <a name=\"basicdlist\"></a>  \n",
    "\n",
    "Ссылки в каждом узле указывают на предыдущий и на последующий узел в списке. Можно или использовать deque, или написать свою реализацию."
   ]
  },
  {
   "cell_type": "markdown",
   "metadata": {},
   "source": [
    "### Словарь (dict) <a name=\"basichashtable\"></a>  \n",
    "\n",
    "dict - реализация хеш-таблицы, поэтому в качестве ключа нельзя брать нехешируемый объект (например, список). Ключом словаря может быть любой неизменяемый объект: число, строка, datetime, функция и даже модуль. Такие объекты имеют метод __hash__(), который однозначно сопоставляет объект с некоторым числом. По этому числу словарь ищет значение для ключа.  \n",
    "Списки, словари и множества изменяемы и не имеют метода хеширования. При подстановке их в словарь возникнет ошибка."
   ]
  },
  {
   "cell_type": "markdown",
   "metadata": {},
   "source": [
    "### Решение проблемы вычисления хеша при работе со словарем<a name=\"basichashtableproblem\"></a>  \n",
    "\n",
    "Любая хеш-таблица должна уметь решать проблему вычисления хеша. Для этого используются техники **open addressing** или **chaining**. Python [использует](https://stackoverflow.com/questions/9010222/why-can-a-python-dict-have-multiple-keys-with-the-same-hash) open addressing.\n",
    "\n",
    "```text\n",
    "# Logical model of Python Hash table\n",
    "-+-----------------+\n",
    "0| <hash|key|value>|\n",
    "-+-----------------+\n",
    "1|      ...        |\n",
    "-+-----------------+\n",
    ".|      ...        |\n",
    "-+-----------------+\n",
    "i|      ...        |\n",
    "-+-----------------+\n",
    ".|      ...        |\n",
    "-+-----------------+\n",
    "n|      ...        |\n",
    "-+-----------------+\n",
    "```\n",
    "\n",
    "Новый словарь инициализируется с 8 пустыми слотами.  \n",
    "Интерпретатор сначала пытается добавить новую запись по адресу, зависящему от хеша ключа, i = hash(key) & mask, где mask = PyDictMINSIZE - 1. Если этот адрес занят, то интерпретатор проверяет (при помощи ==) хеш и ключ. Если оба совпадают, то, значит, запись уже существует. Тогда начинается зондирование свободных слотов, которое идет в псевдослучайном порядке (порядок зависит от значения ключа). Новая запись будет добавлена по первому свободному адресу.\n",
    "\n",
    "Чтение из словаря происходит аналогично, интерпретатор начинает поиск с позиции i и идет по тому же псевдослучайному пути, пока не прочитает нужную запись."
   ]
  },
  {
   "cell_type": "markdown",
   "metadata": {},
   "source": [
    "### Бинарное дерево <a name=\"basicbinarytree\"></a>  \n",
    "\n",
    "Иерархическая структура данных, в которой каждый узел имеет не более двух потомков. Встроенной реализации не имеет, нужно писать свою реализацию."
   ]
  },
  {
   "cell_type": "markdown",
   "metadata": {},
   "source": [
    "### B-дерево (Би-дерево)<a name=\"basicbtree\"></a>  \n",
    "\n",
    "Сбалансированное дерево, оптимизированное для доступа к относительно медленным элементам памяти (например, дисковым структурам или индексам баз данных), как ветви, так и листья представляют собой списки (для того, чтобы можно было считать такой список в один проход для дальнейшего разбора в ОЗУ), но обычно различаются по структуре. Нужно писать свою реализацию."
   ]
  },
  {
   "cell_type": "markdown",
   "metadata": {},
   "source": [
    "### Красно-черное дерево <a name=\"basicrbtree\"></a>  \n",
    "\n",
    "Самобалансирующееся двоичное дерево поиска, позволяющее быстро выполнять основные операции дерева поиска: добавление, удаление и поиск узла. Сбалансированность достигается за счёт введения дополнительного признака узла дерева — «цвета». Этот атрибут может принимать одно из двух возможных значений — «чёрный» или «красный». Листовые узлы КЧ деревьев не содержат данных, поэтому не требуют выделения памяти — достаточно просто записать в узле-предке нулевой указатель на потомка. Нужно писать свою реализацию."
   ]
  },
  {
   "cell_type": "markdown",
   "metadata": {},
   "source": [
    "### АВЛ-дерево <a name=\"basicavltree\"></a>  \n",
    "\n",
    "В АВЛ-деревьях операции вставки и удаления работают медленнее, чем в красно-черных деревьях (при том же количестве листьев красно-чёрное дерево может быть выше АВЛ-дерева, но не более чем в 1,388 раза). Поиск же в АВЛ-дереве выполняется быстрее (максимальная разница в скорости поиска составляет 39 %). Нужно писать свою реализацию."
   ]
  },
  {
   "cell_type": "markdown",
   "metadata": {},
   "source": [
    "### Префиксное дерево <a name=\"basictrie\"></a>  \n",
    "\n",
    "Структура данных, позволяющая хранить ассоциативный массив, ключами которого являются строки. Нужно писать свою реализацию."
   ]
  },
  {
   "cell_type": "markdown",
   "metadata": {},
   "source": [
    "### Таблица выбора структуры данных <a name=\"basicstructselectiontable\"></a>  \n",
    "\n",
    "В квадратных скобках показан худший случай.\n",
    "\n",
    "<style>\n",
    "table th:first-of-type {\n",
    "    width: 25%;\n",
    "}\n",
    "table th:nth-of-type(2) {\n",
    "    width: 25%;\n",
    "}\n",
    "table th:nth-of-type(3) {\n",
    "    width: 25%;\n",
    "}\n",
    "table th:nth-of-type(4) {\n",
    "    width: 5%;\n",
    "}\n",
    "table th:nth-of-type(5) {\n",
    "    width: 5%;\n",
    "}\n",
    "table th:nth-of-type(6) {\n",
    "    width: 5%;\n",
    "}\n",
    "table th:nth-of-type(7) {\n",
    "    width: 5%;\n",
    "}\n",
    "table th:nth-of-type(8) {\n",
    "    width: 5%;\n",
    "}\n",
    "</style>\n",
    "\n",
    "| Структура | Реализация | Применение | Индекс. | Поиск | Вставка | Удал. | Память |\n",
    "| :- | :- | :- | :-: | :-: | :-: | :-: | :-: |\n",
    "| Массив | array, bytearray | Для хранения однотипных данных | 1 | n |  |  | n |\n",
    "| Динамический массив | list |  | 1 | n | n | n | n |\n",
    "| Односвязный список | - (~deque)|  | n | n | 1 | 1 | n |\n",
    "| Двусвязный список | - (~deque)|  | n | n | 1 | 1 | n |\n",
    "| Хэш таблица | dict |  |  | 1<br> [n] | 1<br> [n] | 1<br> [n] | n |\n",
    "| Бинарное дерево | - |  | logn<br> [n] | logn<br> [n] | logn<br> [n] | logn<br> [n] | n |\n",
    "| [B-дерево](https://en.wikipedia.org/wiki/B-tree)<br> (Би-дерево) | sqlite3 | Для памяти с медленным доступом | logn | logn | logn | logn | n |\n",
    "| КЧ дерево | - | - | logn | logn | logn | logn | n |\n",
    "| АВЛ дерево | - |  | logn | logn | logn | logn | n |\n",
    "| Префиксное дерево | - | T9,<br> алгоритм [Ахо–Корасик](https://en.wikipedia.org/wiki/Aho%E2%80%93Corasick_algorithm),<br> алгоритм [LZW](https://en.wikipedia.org/wiki/Lempel%E2%80%93Ziv%E2%80%93Welch) |  | key | key | key |  |"
   ]
  },
  {
   "cell_type": "markdown",
   "metadata": {},
   "source": [
    "### List (список)"
   ]
  },
  {
   "cell_type": "code",
   "execution_count": 3,
   "metadata": {},
   "outputs": [
    {
     "name": "stdout",
     "output_type": "stream",
     "text": [
      "[10, 20, 50] [30, 40, 60]\n",
      "Add: [10, 20, 50, 30, 40, 60]\n",
      "Reverse: [60, 40, 30, 50, 20, 10], [10, 20, 50, 30, 40, 60]\n",
      "Sort: [10, 20, 30, 40, 50, 60], [10, 20, 30, 40, 50, 60]\n",
      "['A', ' ', 'w', 'h', 'o', 'l', 'e', ' ', 's', 't', 'r', 'i', 'n', 'g']\n",
      "['A', 'whole', 'string']\n",
      "2\n",
      "['A', ' ', 'h', 'o', 'l', 'e', ' ', 's', 't', 'i', 'n', 'g'] r\n"
     ]
    }
   ],
   "source": [
    "a = []  # Создаем пустой список\n",
    "\n",
    "a: list[int] = [10, 20]\n",
    "b: list[int] = [30, 40]\n",
    "a.append(50)  # Добавляем значение в конец списка\n",
    "b.insert(2, 60)  # Вставляем значение по определенному индексу\n",
    "print(a, b)\n",
    "\n",
    "a += b\n",
    "print(f\"Add: {a}\")\n",
    "\n",
    "a.reverse()\n",
    "b = list(reversed(a))  # reversed() возвращает итератор, а не список\n",
    "print(f\"Reverse: {a}, {b}\")\n",
    "\n",
    "b = sorted(a)  # Возвращает новый отсортированный список\n",
    "a.sort()  # Модифицирует исходный список и не возвращает ничего\n",
    "print(f\"Sort: {a}, {b}\")\n",
    "\n",
    "s: str = \"A whole string\"\n",
    "list_of_chars: list = list(s)\n",
    "print(list_of_chars)\n",
    "list_of_words: list = s.split()\n",
    "print(list_of_words)\n",
    "\n",
    "i: int = list_of_chars.index(\"w\")  # Возвращает индекс первого вхождения искомого элемента или вызывает исключение ValueError\n",
    "print(i)\n",
    "list_of_chars.remove(\"w\")  # Удаляет первое вхождение искомого элемента или вызывает исключение ValueError\n",
    "e = list_of_chars.pop(9)  # Удаляет и возвращает значение, расположенное по индексу. pop() (без аргумента) удалит и вернет последний элемент списка\n",
    "print(list_of_chars, e)\n",
    "a.clear()  # Очистка списка"
   ]
  },
  {
   "cell_type": "markdown",
   "metadata": {},
   "source": [
    "sorted_by_second = sorted(<collection>, key=lambda el: el[1])  \n",
    "sorted_by_both   = sorted(<collection>, key=lambda el: (el[1], el[0]))  \n",
    "flatter_list     = list(itertools.chain.from_iterable(<list>))  \n",
    "product_of_elems = functools.reduce(lambda out, el: out * el, <collection>)  "
   ]
  },
  {
   "cell_type": "markdown",
   "metadata": {},
   "source": [
    "### Dictionary (словарь)"
   ]
  },
  {
   "cell_type": "code",
   "execution_count": 4,
   "metadata": {},
   "outputs": [
    {
     "name": "stdout",
     "output_type": "stream",
     "text": [
      "{'Italy': 'Pizza', 'US': 'Hot-Dog', 'China': 'Dim Sum'}\n",
      "dict_keys(['Italy', 'US', 'China'])\n",
      "dict_values(['Pizza', 'Hot-Dog', 'Dim Sum'])\n",
      "dict_items([('Italy', 'Pizza'), ('US', 'Hot-Dog'), ('China', 'Dim Sum')])\n",
      "Mapping: Pizza\n",
      "Replace item: {'Italy': 'Pizza', 'US': 'Hot-Dog', 'China': 'Dumplings'}\n",
      "Read item: Dumplings\n",
      "Dictionary key doesn't exist\n",
      "{'Italy': 'Pizza', 'China': 'Dumplings'}\n",
      "{'US': 'Hot-Dog', 'China': 'Dumplings'}\n"
     ]
    }
   ],
   "source": [
    "d = {}  # Создаем пустой словарь\n",
    "\n",
    "d: dict[str, str] = {\"Italy\": \"Pizza\", \"US\": \"Hot-Dog\", \"China\": \"Dim Sum\"}  # Непосредственное создание словаря\n",
    "\n",
    "k = [\"Italy\", \"US\", \"China\"]\n",
    "v = [\"Pizza\", \"Hot-Dog\", \"Dim Sum\"]\n",
    "d = dict(zip(k, v))  # Создание словаря из двух коллекций при помощи zip\n",
    "\n",
    "k = d.keys()  # Коллекция ключей. Отражает изменения в основном словаре\n",
    "v = d.values()  # Коллекция значений. Тоже отражает изменения в основном словаре\n",
    "k_v = d.items()  # Кортежи ключ-значение, которые тоже отражают изменения в основном словаре\n",
    "\n",
    "print(d)\n",
    "print(k)\n",
    "print(v)\n",
    "print(k_v)\n",
    "\n",
    "print(f\"Mapping: {k.mapping['Italy']}\")\n",
    "\n",
    "d.update({\"China\": \"Dumplings\"})  # Добавление значение. При совпадении ключа старое значение будет перезаписано\n",
    "print(f\"Replace item: {d}\")\n",
    "\n",
    "c = d[\"China\"]  # Читаем значение\n",
    "print(f\"Read item: {c}\")\n",
    "\n",
    "try:\n",
    "    v = d.pop(\"Spain\")  # Удаляет значение или вызывает исключение KeyError\n",
    "except KeyError:\n",
    "    print(\"Dictionary key doesn't exist\")\n",
    "\n",
    "# Примеры dict comprehension\n",
    "b = {k: v for k, v in d.items() if \"a\" in k}  # Вернет новый словарь, отфильтрованный по значению ключа\n",
    "print(b)\n",
    "\n",
    "c = {k: v for k, v in d.items() if len(v) >= 7}  # Вернет новый словарь, отфильтрованный по длине значений\n",
    "print(c)\n",
    "\n",
    "d.clear() # Очистка списка"
   ]
  },
  {
   "cell_type": "markdown",
   "metadata": {},
   "source": [
    "### defaultdict\n",
    "\n",
    "The *defaultdict* will create any items that you try to access (provided of course they do not exist yet) without throws a KeyError."
   ]
  },
  {
   "cell_type": "code",
   "execution_count": 5,
   "metadata": {},
   "outputs": [
    {
     "name": "stdout",
     "output_type": "stream",
     "text": [
      "0\n"
     ]
    }
   ],
   "source": [
    "from collections import defaultdict\n",
    "\n",
    "dd = defaultdict(int)  # defaultdict\n",
    "print(dd[10])  # Печать int, будет выведен ноль, значение по умолчанию\n",
    "\n",
    "dd = {}  # \"Обычный\" словарь\n",
    "# print(dd[10])  # вызовет исключение KeyError"
   ]
  },
  {
   "cell_type": "markdown",
   "metadata": {},
   "source": [
    "### Counter (счетчик)\n",
    "\n",
    "A Counter is a dict subclass for counting hashable objects, it is a collection where elements are stored as dictionary keys and their counts are stored as dictionary values."
   ]
  },
  {
   "cell_type": "code",
   "execution_count": 6,
   "metadata": {},
   "outputs": [
    {
     "name": "stdout",
     "output_type": "stream",
     "text": [
      "Counter({'white': 3, 'black': 2, 'red': 1, 'blue': 1})\n",
      "After shopping: Counter({'white': 3, 'blue': 2, 'black': 2, 'red': 1})\n",
      "defaultdict(<class 'int'>, {'red': 1, 'white': 3, 'blue': 2, 'black': 2})\n"
     ]
    }
   ],
   "source": [
    "from collections import Counter\n",
    "\n",
    "shirts_colors = [\"red\", \"white\", \"blue\", \"white\", \"white\", \"black\", \"black\"]\n",
    "c = Counter(shirts_colors)\n",
    "print(c)\n",
    "\n",
    "c[\"blue\"] += 1\n",
    "print(f\"After shopping: {c}\")\n",
    "\n",
    "# We can explain how Counter() works with defaultdict():\n",
    "from collections import defaultdict\n",
    "\n",
    "d = defaultdict(int)\n",
    "for shirt in shirts_colors:\n",
    "    d[shirt] += 1\n",
    "d[\"blue\"] += 1\n",
    "\n",
    "print(d)"
   ]
  },
  {
   "cell_type": "markdown",
   "metadata": {},
   "source": [
    "### Set (множество)"
   ]
  },
  {
   "cell_type": "code",
   "execution_count": 7,
   "metadata": {},
   "outputs": [
    {
     "name": "stdout",
     "output_type": "stream",
     "text": [
      "{'New-York', 'Los Angeles', 'Sydney', 'Ottawa'} {'New-York', 'Seattle', 'Chicago', 'Los Angeles', 'Salt Lake City'}\n",
      "{'Ottawa', 'Salt Lake City', 'Chicago', 'New-York', 'Seattle', 'Sydney', 'Los Angeles'}\n",
      "{'New-York', 'Los Angeles'}\n",
      "{'Ottawa', 'Sydney'}\n",
      "{'Seattle', 'Ottawa', 'Chicago', 'Salt Lake City', 'Sydney'}\n",
      "True False\n"
     ]
    }
   ],
   "source": [
    "big_cities: set[\"str\"] = {\"New-York\", \"Los Angeles\", \"Ottawa\"}\n",
    "american_cities: set[\"str\"] = {\"Chicago\", \"New-York\", \"Los Angeles\"}\n",
    "\n",
    "big_cities |= {\"Sydney\"}  # Add item (or you can use add())\n",
    "american_cities |= {\"Salt Lake City\", \"Seattle\"}  # Add set (or you can use update())\n",
    "\n",
    "print(big_cities, american_cities)\n",
    "\n",
    "union_cities: set[\"str\"] = big_cities | american_cities  # Or union()\n",
    "intersected_cities: set[\"str\"] = big_cities & american_cities  # Or intersection()\n",
    "dif_cities: set[\"str\"] = big_cities - american_cities  # Or difference()\n",
    "symdif_cities: set[\"str\"] = big_cities ^ american_cities  # Or symmetric_difference()\n",
    "\n",
    "issub: bool = big_cities <= union_cities  # Or issubset()\n",
    "issuper: bool = american_cities >= dif_cities  # Or issuperset()\n",
    "\n",
    "print(union_cities)\n",
    "print(intersected_cities)\n",
    "print(dif_cities)\n",
    "print(symdif_cities)\n",
    "\n",
    "print(issub, issuper)\n",
    "\n",
    "big_cities.add(\"London\")  # Add items\n",
    "\n",
    "big_cities.remove(\"Ottawa\")  # Removes an item from the set if it is present or raises KeyError\n",
    "big_cities.discard(\"Los Angeles\")  # Remove an item from the set if it is present without raising KeyError\n",
    "big_cities.pop()  # Remove and return a random item from the set or raises KeyError\n",
    "big_cities.clear()  # Removes all items from the set"
   ]
  },
  {
   "cell_type": "markdown",
   "metadata": {},
   "source": [
    "### Frozen Set\n",
    "\n",
    "Frozen set is just an immutable and hashable version of a set object. Frozen set can be used as key in Dictionary or as element of another set."
   ]
  },
  {
   "cell_type": "code",
   "execution_count": 8,
   "metadata": {},
   "outputs": [],
   "source": [
    "s = frozenset({\"New-York\", \"Los Angeles\", \"Ottawa\"})"
   ]
  },
  {
   "cell_type": "markdown",
   "metadata": {},
   "source": [
    "### Tuple (кортеж)  \n",
    "Tuple is an immutable and hashable list"
   ]
  },
  {
   "cell_type": "code",
   "execution_count": 9,
   "metadata": {},
   "outputs": [
    {
     "name": "stdout",
     "output_type": "stream",
     "text": [
      "(2, 3) ('Boson', 'Higgs', 1.56e-22)\n"
     ]
    }
   ],
   "source": [
    "a = (2, 3)\n",
    "b = (\"Boson\", \"Higgs\", 1.56e-22)\n",
    "\n",
    "print(a, b)"
   ]
  },
  {
   "cell_type": "markdown",
   "metadata": {},
   "source": [
    "### Named Tuple (именованный кортеж)\n",
    "Subclass of tuple with named elements"
   ]
  },
  {
   "cell_type": "code",
   "execution_count": 10,
   "metadata": {},
   "outputs": [
    {
     "name": "stdout",
     "output_type": "stream",
     "text": [
      "rectangle(length=1, width=2)\n",
      "1\n",
      "2\n",
      "('length', 'width')\n"
     ]
    }
   ],
   "source": [
    "from collections import namedtuple\n",
    "\n",
    "rectangle = namedtuple('rectangle', 'length width')\n",
    "r = rectangle(length = 1, width = 2)\n",
    "\n",
    "print(r)\n",
    "print(r.length)\n",
    "print(r.width)\n",
    "print(r._fields)"
   ]
  },
  {
   "cell_type": "markdown",
   "metadata": {},
   "source": [
    "### Enum"
   ]
  },
  {
   "cell_type": "code",
   "execution_count": 11,
   "metadata": {},
   "outputs": [
    {
     "name": "stdout",
     "output_type": "stream",
     "text": [
      "Currency.us_dollar\n",
      "Currency.us_dollar\n",
      "Currency.us_dollar\n",
      "us_dollar\n",
      "2\n",
      "[<Currency.euro: 1>, <Currency.us_dollar: 2>, <Currency.yuan: 3>] \n",
      " ['euro', 'us_dollar', 'yuan'] \n",
      " [1, 2, 3] \n",
      " Currency.euro\n"
     ]
    }
   ],
   "source": [
    "from enum import Enum, auto\n",
    "import random\n",
    "\n",
    "class Currency(Enum):\n",
    "    euro = 1\n",
    "    us_dollar = 2\n",
    "    yuan = auto()\n",
    "\n",
    "# If there are no numeric values before auto(), it returns 1, otherwise it returns an increment of the last numeric value\n",
    "\n",
    "local_currency = Currency.us_dollar  # Returns a member\n",
    "print(local_currency)\n",
    "\n",
    "local_currency = Currency[\"us_dollar\"]  # Returns a member or raises KeyError\n",
    "print(local_currency)\n",
    "\n",
    "local_currency = Currency(2)  # Returns a member or raises ValueError\n",
    "print(local_currency)\n",
    "\n",
    "print(local_currency.name)\n",
    "print(local_currency.value)\n",
    "\n",
    "list_of_members = list(Currency)\n",
    "member_names    = [e.name for e in Currency]\n",
    "member_values   = [e.value for e in Currency]\n",
    "random_member   = random.choice(list(Currency))\n",
    "\n",
    "print(list_of_members, \"\\n\",\n",
    "      member_names, \"\\n\",\n",
    "      member_values, \"\\n\",\n",
    "      random_member)"
   ]
  },
  {
   "cell_type": "markdown",
   "metadata": {},
   "source": [
    "### Range"
   ]
  },
  {
   "cell_type": "code",
   "execution_count": 12,
   "metadata": {},
   "outputs": [
    {
     "name": "stdout",
     "output_type": "stream",
     "text": [
      "To exclusive: 0 1 2 3 4 5 6 7 8 9 10 \n",
      "From inclusive to exclusive: 5 6 7 8 9 10 11 12 13 14 15 16 17 18 19 20 \n",
      "From inclusive to exclusive with step: 20 18 16 14 12 10 \n",
      "From = 20\n",
      "To = 9\n"
     ]
    }
   ],
   "source": [
    "\n",
    "r1: range = range(11)  # Creates a sequence of numbers from 0 to 10\n",
    "r2: range = range(5, 21) # Creates a sequence of numbers from 5 to 20\n",
    "r3: range = range(20, 9, -2)  # Creates a sequence of numbers from 20 to 10 with step 2\n",
    "\n",
    "print(\"To exclusive: \", end=\"\")\n",
    "for i in r1:\n",
    "  print(f\"{i} \", end=\"\")\n",
    "\n",
    "print(\"\\nFrom inclusive to exclusive: \", end=\"\")\n",
    "for i in r2:\n",
    "  print(f\"{i} \", end=\"\")\n",
    "\n",
    "print(\"\\nFrom inclusive to exclusive with step: \", end=\"\")\n",
    "for i in r3:\n",
    "  print(f\"{i} \", end=\"\")\n",
    "\n",
    "print(f\"\\nFrom = {r3.start}\")\n",
    "print(f\"To = {r3.stop}\")"
   ]
  },
  {
   "cell_type": "markdown",
   "metadata": {},
   "source": [
    "### Dataclass  \n",
    "Decorator that automatically generates init(), repr() and eq() special methods"
   ]
  },
  {
   "cell_type": "code",
   "execution_count": 13,
   "metadata": {},
   "outputs": [
    {
     "name": "stdout",
     "output_type": "stream",
     "text": [
      "Transaction(value=1000000, issuer='Deutsche Bank', dt=datetime.datetime(2022, 1, 1, 12, 0))\n",
      "Transaction(value=1000, issuer='Default Bank', dt=datetime.datetime(2022, 9, 6, 17, 50, 36, 162897))\n"
     ]
    }
   ],
   "source": [
    "from dataclasses import dataclass\n",
    "from decimal import *\n",
    "from datetime import datetime\n",
    "\n",
    "@dataclass\n",
    "class Transaction:\n",
    "    value: Decimal\n",
    "    issuer: str = \"Default Bank\"\n",
    "    dt: datetime = datetime.now()\n",
    "\n",
    "t1 = Transaction(value=1000_000, issuer=\"Deutsche Bank\", dt = datetime(2022, 1, 1, 12))\n",
    "t2 = Transaction(1000)\n",
    "\n",
    "print(t1)\n",
    "print(t2)"
   ]
  },
  {
   "cell_type": "markdown",
   "metadata": {},
   "source": [
    "Objects can be made immutable with *frozen=True*."
   ]
  },
  {
   "cell_type": "code",
   "execution_count": 14,
   "metadata": {},
   "outputs": [],
   "source": [
    "from dataclasses import dataclass\n",
    "\n",
    "@dataclass(frozen=True)\n",
    "class User:\n",
    "    name: str\n",
    "    account: int\n"
   ]
  },
  {
   "cell_type": "markdown",
   "metadata": {},
   "source": [
    "### Deque\n",
    "\n",
    "A thread-safe list with efficient appends and pops from either side."
   ]
  },
  {
   "cell_type": "code",
   "execution_count": 15,
   "metadata": {},
   "outputs": [
    {
     "name": "stdout",
     "output_type": "stream",
     "text": [
      "deque([-2, -1, 0, 1, 2, 3, 4, 5, 6, 7], maxlen=1000)\n",
      "7 -2\n",
      "deque([-1, 0, 1, 2, 3, 4, 5, 6], maxlen=1000)\n"
     ]
    }
   ],
   "source": [
    "from collections import deque\n",
    "d = deque([1, 2, 3, 4], maxlen=1000)\n",
    "\n",
    "d.append(5)  # Add element to the right side of the deque\n",
    "d.appendleft(0)  # Add element to the left side of the deque by appending elements from iterable\n",
    "\n",
    "d.extend([6, 7])  # Extend the right side of the deque\n",
    "d.extendleft([-1, -2])  # Extend the left side of the deque\n",
    "print(d)\n",
    "\n",
    "a = d.pop()  # Remove and return an element from the right side of the deque. Can raise an IndexError\n",
    "b = d.popleft()  # Remove and return an element from the left side of the deque. Can raise an IndexError\n",
    "print(a, b)\n",
    "print(d)"
   ]
  },
  {
   "cell_type": "markdown",
   "metadata": {},
   "source": [
    "### Queue\n",
    "\n",
    "The queue module implements multi-producer, multi-consumer FIFO queues. It is especially useful in threaded programming when information must be exchanged safely between multiple threads. For LIFO queue use LifoQueue. For a priority queue use PriorityQueue."
   ]
  },
  {
   "cell_type": "code",
   "execution_count": 16,
   "metadata": {},
   "outputs": [
    {
     "name": "stdout",
     "output_type": "stream",
     "text": [
      "deque(['eat', 'sleep', 'code', 'repeat'])\n",
      "eat sleep code deque(['repeat'])\n"
     ]
    }
   ],
   "source": [
    "from queue import Queue\n",
    "q = Queue(maxsize=1000)\n",
    "\n",
    "q.put(\"eat\", block=True, timeout=10)  # Put an element to the queue with 10 seconds timeuot, block if necessary until a free slot is available\n",
    "q.put(\"sleep\")  # Default values block=True, timeout=None\n",
    "q.put(\"code\")\n",
    "q.put_nowait(\"repeat\")  # Equivalent to put(\"repeat\", block=False). Put an element on the queue if a free slot is immediately available, else raise the queue.Full exception\n",
    "print(q.queue)\n",
    "\n",
    "a = q.get(block=True, timeout=10)  # Remove and return an item from the queue\n",
    "b = q.get()  # Default values block=True, timeout=None\n",
    "c = q.get_nowait()  # Equivalent to get(False)\n",
    "print(a, b, c, q.queue)"
   ]
  },
  {
   "cell_type": "markdown",
   "metadata": {},
   "source": [
    "### Array (массив)  \n",
    "Object type that can only hold numbers of a predefined type."
   ]
  },
  {
   "cell_type": "code",
   "execution_count": 17,
   "metadata": {},
   "outputs": [
    {
     "name": "stdout",
     "output_type": "stream",
     "text": [
      "array('l', [1, 2, 3, -4])\n",
      "49\n",
      "b'1234567890'\n",
      "3\n"
     ]
    }
   ],
   "source": [
    "from array import array\n",
    "\n",
    "a1 = array(\"l\", [1, 2, 3, -4])  # Array from collection of numbers\n",
    "a2 = array(\"b\", b\"1234567890\")  # Array from bytes object\n",
    "b = bytes(a2)\n",
    "\n",
    "print(a1)\n",
    "print(a2[0])\n",
    "print(b)\n",
    "\n",
    "print(a1.index(-4))  # Returns an index of a member or raises ValueError"
   ]
  },
  {
   "cell_type": "markdown",
   "metadata": {},
   "source": [
    "### Generator (генератор)\n",
    "\n",
    "Any function that contains a yield statement returns a generator."
   ]
  },
  {
   "cell_type": "code",
   "execution_count": 18,
   "metadata": {},
   "outputs": [
    {
     "name": "stdout",
     "output_type": "stream",
     "text": [
      "100\n",
      "110\n",
      "120\n"
     ]
    }
   ],
   "source": [
    "def count(start, step):\n",
    "    current = start\n",
    "    while True:\n",
    "        yield current\n",
    "        current += step\n",
    "\n",
    "c = count(100, 10)\n",
    "\n",
    "print(next(c))\n",
    "print(next(c))\n",
    "print(next(c))"
   ]
  },
  {
   "cell_type": "markdown",
   "metadata": {},
   "source": [
    "## String (строка)"
   ]
  },
  {
   "cell_type": "code",
   "execution_count": 19,
   "metadata": {},
   "outputs": [
    {
     "name": "stdout",
     "output_type": "stream",
     "text": [
      "Joined string: Follow the white rabbit\n",
      "is_contains = True, is_startswith = True, is_endswith = True\n",
      "After replace: Follow the white sheep\n",
      "Start index of 'rabbit' is -1, start index of 'sheep' is 17\n",
      "Translate string: xyz\n",
      "Reverse string: tibbar etihw eht wolloF\n"
     ]
    }
   ],
   "source": [
    "se: str = \"\"  # Empty string\n",
    "si: str = str(12345)  # Creates the string from int\n",
    "sj: str = \" \".join([\"Follow\", \"the\", \"white\", \"rabbit\"])  # Joins items using string as a separator\n",
    "print(f\"Joined string: {sj}\")\n",
    "\n",
    "is_contains: bool = \"rabbit\" in sj  # Checks if string contains a substring\n",
    "is_startswith = sj.startswith(\"Foll\")\n",
    "is_endswith = sj.endswith(\"bbit\")\n",
    "print(f\"is_contains = {is_contains}, is_startswith = {is_startswith}, is_endswith = {is_endswith}\")\n",
    "\n",
    "sr: str  = sj.replace(\"rabbit\", \"sheep\")  # Replaces substrings. Also you can use times:  sr: str  = sj.replace(\"rabbit\", \"sheep\", times)\n",
    "print(f\"After replace: {sr}\")\n",
    "\n",
    "i1 = sr.find(\"rabbit\")  # Returns start index of the first match or -1. Also rfind()\n",
    "i2 = sr.index(\"sheep\")  #  Returns start index of the first match or raises ValueError. Also rindex()   \n",
    "print(f\"Start index of 'rabbit' is {i1}, start index of 'sheep' is {i2}\")\n",
    "\n",
    "d = str.maketrans({\"a\" : \"x\", \"b\" : \"y\", \"c\" : \"z\"})\n",
    "st  = \"abc\".translate(d)\n",
    "print(f\"Translate string: {st}\")\n",
    "\n",
    "sr = sj[::-1]  # Reverse (Explanation: stackoverflow.com/questions/931092/reverse-a-string-in-python)\n",
    "print(f\"Reverse string: {sr}\")"
   ]
  },
  {
   "cell_type": "markdown",
   "metadata": {},
   "source": [
    "### lower(), upper(), capitalize() и title()"
   ]
  },
  {
   "cell_type": "code",
   "execution_count": 20,
   "metadata": {},
   "outputs": [
    {
     "name": "stdout",
     "output_type": "stream",
     "text": [
      "camelcase string\n",
      "CAMELCASE STRING\n",
      "Camelcase string\n",
      "Camelcase String\n"
     ]
    }
   ],
   "source": [
    "s: str = \"camelCase string\"\n",
    "\n",
    "print(s.lower())\n",
    "print(s.upper())\n",
    "print(s.capitalize())\n",
    "print(s.title())"
   ]
  },
  {
   "cell_type": "markdown",
   "metadata": {},
   "source": [
    "### Property Methods\n",
    "\n",
    "```text\n",
    "+---------------+----------+----------+----------+----------+----------+\n",
    "|               | [ !#$%…] | [a-zA-Z] |  [½¼¾]   |  [²³¹]   |  [0-9]   |\n",
    "+---------------+----------+----------+----------+----------+----------+\n",
    "| isprintable() |   yes    |   yes    |   yes    |   yes    |   yes    |\n",
    "| isalnum()     |          |   yes    |   yes    |   yes    |   yes    |\n",
    "| isnumeric()   |          |          |   yes    |   yes    |   yes    |\n",
    "| isdigit()     |          |          |          |   yes    |   yes    |\n",
    "| isdecimal()   |          |          |          |          |   yes    |\n",
    "+---------------+----------+----------+----------+----------+----------+\n",
    "```\n",
    "\n",
    "*isspace()* checks for *[ \\t\\n\\r\\f\\v\\x1c-\\x1f\\x85…]*"
   ]
  },
  {
   "cell_type": "markdown",
   "metadata": {},
   "source": [
    "### strip()"
   ]
  },
  {
   "cell_type": "code",
   "execution_count": 21,
   "metadata": {},
   "outputs": [
    {
     "name": "stdout",
     "output_type": "stream",
     "text": [
      "~~##A big blahblahblah##~~\n",
      "A big blahblahblah\n",
      "big blahblahblah\n",
      "big \n"
     ]
    }
   ],
   "source": [
    "s: str = \"  ~~##A big blahblahblah##~~  \"\n",
    "\n",
    "s = s.strip()  # Strips all whitespace characters from both ends\n",
    "print(s)\n",
    "\n",
    "s = s.strip(\"~#\")  # Strips all passed characters from both ends\n",
    "print(s)\n",
    "\n",
    "s = s.lstrip(\" A\")  # Strips all passed characters from left end\n",
    "print(s)\n",
    "\n",
    "s = s.rstrip(\"habl\")  # Strips all passed characters from right end\n",
    "print(s)\n"
   ]
  },
  {
   "cell_type": "markdown",
   "metadata": {},
   "source": [
    "### split()"
   ]
  },
  {
   "cell_type": "code",
   "execution_count": 22,
   "metadata": {},
   "outputs": [
    {
     "name": "stdout",
     "output_type": "stream",
     "text": [
      "['Follow', 'the', 'white', 'rabbit,', 'Neo']\n",
      "['Follow the white rabbit', 'Neo']\n",
      "['Beware the Jabberwock, my son!', ' The jaws that bite, the claws that catch!']\n",
      "['Beware', 'the', 'Jabberwock, my son!\\n The jaws that bite, the claws that catch!'] ['Beware the Jabberwock, my son!\\n The jaws that bite, the claws', 'that', 'catch!']\n"
     ]
    }
   ],
   "source": [
    "s1: str = \"Follow the white rabbit, Neo\"\n",
    "\n",
    "c1 = s1.split()  # Splits on one or more whitespace characters\n",
    "print(c1)\n",
    "\n",
    "c2 = s1.split(sep=\", \", maxsplit=1)  # Splits on \"sep\" str at most \"maxsplit\" times\n",
    "print(c2)\n",
    "\n",
    "s2: str = \"Beware the Jabberwock, my son!\\n The jaws that bite, the claws that catch!\"\n",
    "\n",
    "c3 = s2.splitlines(keepends=False)  # On [\\n\\r\\f\\v\\x1c-\\x1e\\x85\\u2028\\u2029] and \\r\\n.\n",
    "print(c3)\n",
    "\n",
    "# split() vs rsplit()\n",
    "\n",
    "c4 = s2.split(maxsplit=2)\n",
    "c5 = s2.rsplit(maxsplit=2)\n",
    "\n",
    "print(c4, c5)"
   ]
  },
  {
   "cell_type": "markdown",
   "metadata": {},
   "source": [
    "### ord(), chr()"
   ]
  },
  {
   "cell_type": "code",
   "execution_count": 23,
   "metadata": {},
   "outputs": [
    {
     "name": "stdout",
     "output_type": "stream",
     "text": [
      "a -> 97\n",
      "b -> 98\n",
      "c -> 99\n",
      "A -> 65\n",
      "B -> 66\n",
      "C -> 67\n",
      "! -> 33\n",
      "72 -> H\n",
      "101 -> e\n",
      "108 -> l\n",
      "108 -> l\n",
      "111 -> o\n",
      "33 -> !\n"
     ]
    }
   ],
   "source": [
    "s1: str = \"abcABC!\"\n",
    "\n",
    "for ch in s1:\n",
    "    print(f\"{ch} -> {ord(ch)}\")  # Returns an integer representing the Unicode character\n",
    "\n",
    "nums = [72, 101, 108, 108, 111, 33]\n",
    "\n",
    "for num in nums:\n",
    "    print(f\"{num} -> {chr(num)}\")"
   ]
  },
  {
   "cell_type": "markdown",
   "metadata": {},
   "source": [
    "## Regex\n",
    "\n",
    "Argument flags=re.IGNORECASE can be used with all functions"
   ]
  },
  {
   "cell_type": "code",
   "execution_count": 24,
   "metadata": {},
   "outputs": [
    {
     "name": "stdout",
     "output_type": "stream",
     "text": [
      "<re.Match object; span=(4, 5), match='a'>\n",
      "a\n",
      "None\n",
      "['a', 'A']\n",
      "234 bcd BCD 567\n",
      "['', '', '', ' abc ABC ', '', '', '']\n",
      " abc ABC "
     ]
    }
   ],
   "source": [
    "import re\n",
    "\n",
    "s1: str = \"123 abc ABC 456\"\n",
    "\n",
    "m1 = re.search(\"[aA]\", s1)  # Searches for first occurrence of the pattern; search() return None if it can't find a match\n",
    "print(m1)\n",
    "print(m1.group(0))\n",
    "\n",
    "m2 = re.match(\"[aA]\", s1)  # Searches at the beginning of the text; match() return None if it can't find a match\n",
    "print(m2)\n",
    "\n",
    "c1: list = re.findall(\"[aA]\", s1)  # Returns all occurrences as strings\n",
    "print(c1)\n",
    "\n",
    "def replacer(s):  # replacer() can be a function that accepts a match object and returns a string\n",
    "    return chr(ord(s[0]) + 1)  # Next symbol in alphabet\n",
    "\n",
    "s2 = re.sub(\"\\w\", replacer, s1)  # Substitutes all occurrences with 'replacer'\n",
    "print(s2)\n",
    "\n",
    "c2 = re.split(\"\\d\", s1)\n",
    "print(c2)\n",
    "\n",
    "iter = re.finditer(\"\\D\", s1)  # Returns all occurrences as match objects\n",
    "\n",
    "for ch in iter:\n",
    "    print(ch.group(0), end= \"\")"
   ]
  },
  {
   "cell_type": "markdown",
   "metadata": {},
   "source": [
    "### Match Object"
   ]
  },
  {
   "cell_type": "code",
   "execution_count": 25,
   "metadata": {},
   "outputs": [
    {
     "name": "stdout",
     "output_type": "stream",
     "text": [
      "John Connor\n",
      " John\n",
      " ('John', 'Connor')\n",
      " 0\n",
      " 11\n",
      " (0, 11)\n",
      "\n"
     ]
    }
   ],
   "source": [
    "import re\n",
    "\n",
    "m3 = re.match(r\"(\\w+) (\\w+)\", \"John Connor, leader of the Resistance\")\n",
    "\n",
    "s3: str = m3.group(0)  # Returns the whole match\n",
    "s4: str = m3.group(1)  # Returns part in the first bracket\n",
    "t1: tuple = m3.groups()  # Returns all bracketed parts\n",
    "start: int = m3.start()  # Returns start index of the match\n",
    "end: int = m3.end()  # Returns exclusive end index of the match\n",
    "t2: tuple[int, int] = m3.span()  # Return the 2-tuple (start, end)\n",
    "\n",
    "print (f\"{s3}\\n {s4}\\n {t1}\\n {start}\\n {end}\\n {t2}\\n\")"
   ]
  },
  {
   "cell_type": "markdown",
   "metadata": {},
   "source": [
    "### JSON\n",
    "\n",
    "Human-readable text format to store and transmit data objects."
   ]
  },
  {
   "cell_type": "code",
   "execution_count": 26,
   "metadata": {},
   "outputs": [
    {
     "name": "stdout",
     "output_type": "stream",
     "text": [
      "{\n",
      "  \"1\": \"Lemon\",\n",
      "  \"2\": \"Apple\",\n",
      "  \"3\": \"Banana!\"\n",
      "}\n",
      "{'1': 'Lemon', '2': 'Apple', '3': 'Banana!'}\n"
     ]
    }
   ],
   "source": [
    "import json\n",
    "\n",
    "d: dict = {1: \"Lemon\", 2: \"Apple\", 3: \"Banana!\"}\n",
    "\n",
    "object_as_string: str = json.dumps(d, indent=2)\n",
    "print(object_as_string)\n",
    "\n",
    "restored_object = json.loads(object_as_string)\n",
    "\n",
    "# Write object to JSON file\n",
    "with open(\"1.json\", 'w', encoding='utf-8') as file:\n",
    "    json.dump(d, file, indent=2)\n",
    "\n",
    "# Read object from JSON file\n",
    "with open(\"1.json\", encoding='utf-8') as file:\n",
    "    restored_from_file = json.load(file)\n",
    "    \n",
    "print(restored_from_file)\n"
   ]
  },
  {
   "cell_type": "markdown",
   "metadata": {},
   "source": [
    "### Pickle\n",
    "\n",
    "Бинарный формат для хранения и транспортировки структур данных."
   ]
  },
  {
   "cell_type": "code",
   "execution_count": 27,
   "metadata": {},
   "outputs": [
    {
     "name": "stdout",
     "output_type": "stream",
     "text": [
      "{1: 'Lemon', 2: 'Apple', 3: 'Banana!'}\n"
     ]
    }
   ],
   "source": [
    "import pickle\n",
    "\n",
    "d: dict = {1: \"Lemon\", 2: \"Apple\", 3: \"Banana!\"}\n",
    "\n",
    "# Запись объекта в бинарный файл\n",
    "with open(\"1.bin\", \"wb\") as file:\n",
    "    pickle.dump(d, file)\n",
    "\n",
    "# Чтение объекта из файла\n",
    "with open(\"1.bin\", \"rb\") as file:\n",
    "    restored_from_file = pickle.load(file)\n",
    "\n",
    "print(restored_from_file)"
   ]
  },
  {
   "cell_type": "markdown",
   "metadata": {},
   "source": [
    "### Protocol Buffers\n",
    "Если вы хотите передавать и хранить данные, используя универсальную структуру, одинаково хорошо понимаемую всеми языками программирования (как JSON) и занимающую мало места (как Pickle), то можно посмотреть в сторону Protocol Buffers ([Wikipedia](https://en.wikipedia.org/wiki/Protocol_Buffers), [примеры для Python](https://developers.google.com/protocol-buffers/docs/pythontutorial)). Есть еще альтернативы, например, [FlatBuffers](https://google.github.io/flatbuffers/), [Apache Avro](https://avro.apache.org/) или [Thrift](https://thrift.apache.org/)."
   ]
  },
  {
   "cell_type": "markdown",
   "metadata": {},
   "source": [
    "### Bytes\n",
    "\n",
    "Bytes object is an immutable sequence of single bytes. Mutable version is called bytearray."
   ]
  },
  {
   "cell_type": "code",
   "execution_count": 28,
   "metadata": {},
   "outputs": [
    {
     "name": "stdout",
     "output_type": "stream",
     "text": [
      "b'\\x01\\x02\\x03\\x04' b'The String' b'\\xff\\xff\\xfc\\x00' b'\\xfe\\xad\\xca' b'\\n\\x0c\\x0e\\x10\\x12\\x14\\x16\\x18\\x1a\\x1c'\n",
      "[252, 0, 0, 0, 0, 1] The String 64512 fc 00 00 00 00 01\n",
      "b'\\x01\\x02\\x03\\x04'\n"
     ]
    }
   ],
   "source": [
    "\n",
    "### Encode\n",
    "b1 = bytes([1, 2, 3, 4])  # Ints must be in range from 0 to 255\n",
    "b2 = \"The String\".encode('utf-8')\n",
    "b3 = (-1024).to_bytes(4, byteorder='big', signed=True)  # byteorder=\"big\"/\"little\"/\"sys.byteorder\", signed=False/True\n",
    "b4 = bytes.fromhex('FEADCA')  # Hex pairs can be separated by spaces\n",
    "b5 = bytes(range(10,30,2))\n",
    "\n",
    "print(b1, b2, b3, b4, b5)\n",
    "\n",
    "### Decode\n",
    "c: list = list(b\"\\xfc\\x00\\x00\\x00\\x00\\x01\")  # Returns ints in range from 0 to 255\n",
    "s: str = b'The String'.decode(\"utf-8\")\n",
    "b: int = int.from_bytes(b\"\\xfc\\x00\", byteorder='big', signed=False)  # byteorder=\"big\"/\"little\"/\"sys.byteorder\", signed=False/True\n",
    "s2: str = b\"\\xfc\\x00\\x00\\x00\\x00\\x01\".hex(\" \")  # Returns a string of hexadecimal pairs, hex pairs can be separated by spaces\n",
    "\n",
    "print(c, s, b, s2)\n",
    "\n",
    "with open(\"1.bin\", \"wb\") as file:  # Write bytes to file\n",
    "    file.write(b1)\n",
    "\n",
    "with open(\"1.bin\", \"rb\") as file:  # Read bytes from file\n",
    "    b6 = file.read()\n",
    "\n",
    "print(b6)"
   ]
  },
  {
   "cell_type": "markdown",
   "metadata": {},
   "source": [
    "### Struct\n",
    "\n",
    "Module that performs conversions between a sequence of numbers and a bytes object. System’s type sizes and byte order are used by default."
   ]
  },
  {
   "cell_type": "code",
   "execution_count": 29,
   "metadata": {},
   "outputs": [
    {
     "name": "stdout",
     "output_type": "stream",
     "text": [
      "b'\\x00\\x01\\x00\\x02\\x00\\x00\\x00\\x03\\x00\\x00\\x00\\x04'\n",
      "(1, 2, 3, 4)\n",
      "b'\\x01\\x00\\x00\\x00\\x02\\x00\\x00\\x00\\x01\\x00\\x00\\x00\\x02\\x00\\x00\\x00\\x01\\x00\\x00\\x00\\x02\\x00\\x00\\x00\\x01\\x00\\x00\\x00\\x02\\x00\\x00\\x00\\x01\\x00\\x00\\x00\\x02\\x00\\x00\\x00'\n",
      "[(1, 2), (1, 2), (1, 2), (1, 2), (1, 2)]\n"
     ]
    }
   ],
   "source": [
    "from struct import pack, unpack, iter_unpack\n",
    "\n",
    "b = pack(\">hhll\", 1, 2, 3, 4)\n",
    "print(b)\n",
    "\n",
    "t = unpack(\">hhll\", b)\n",
    "print(t)\n",
    "\n",
    "i = pack(\"ii\", 1, 2) * 5\n",
    "print(i)\n",
    "\n",
    "print(list(iter_unpack('ii', i)))"
   ]
  },
  {
   "cell_type": "markdown",
   "metadata": {},
   "source": [
    "## Datetime\n",
    "\n",
    "Module *datetime* provides *date*, *time*, *datetime* and *timedelta*. All are immutable and hashable\n",
    "\n",
    "### Constructors"
   ]
  },
  {
   "cell_type": "code",
   "execution_count": 30,
   "metadata": {},
   "outputs": [
    {
     "name": "stdout",
     "output_type": "stream",
     "text": [
      "1964-09-02\n",
      " 12:30:00\n",
      " 1964-09-02 10:30:00\n",
      " 8 days, 12:13:14\n"
     ]
    }
   ],
   "source": [
    "from datetime import date, time, datetime, timedelta\n",
    "\n",
    "d: date = date(year=1964, month=9, day=2)\n",
    "t: time  = time(hour=12, minute=30, second=0, microsecond=0, tzinfo=None, fold=0)\n",
    "dt: datetime = datetime(year=1964, month=9, day=2, hour=10, minute=30, second=0)\n",
    "td: timedelta = timedelta(weeks=1, days=1, hours=12, minutes=13, seconds=14)\n",
    "\n",
    "print (f\"{d}\\n {t}\\n {dt}\\n {td}\")"
   ]
  },
  {
   "cell_type": "markdown",
   "metadata": {},
   "source": [
    "### Now"
   ]
  },
  {
   "cell_type": "code",
   "execution_count": 31,
   "metadata": {},
   "outputs": [
    {
     "name": "stdout",
     "output_type": "stream",
     "text": [
      "2022-09-06\n",
      " 2022-09-06 17:50:37.664312\n",
      " 2022-09-06 12:50:37.664311\n",
      " 2022-09-06 05:50:37.724181-07:00\n"
     ]
    }
   ],
   "source": [
    "from datetime import date, time, datetime\n",
    "import pytz\n",
    "\n",
    "d: date  = date.today()\n",
    "dt1: datetime = datetime.today()\n",
    "dt2: datetime = datetime.utcnow()\n",
    "dt3: datetime = datetime.now(pytz.timezone('US/Pacific'))\n",
    "\n",
    "print (f\"{d}\\n {dt1}\\n {dt2}\\n {dt3}\")\n"
   ]
  },
  {
   "cell_type": "markdown",
   "metadata": {},
   "source": [
    "### Timezone"
   ]
  },
  {
   "cell_type": "code",
   "execution_count": 32,
   "metadata": {},
   "outputs": [
    {
     "name": "stdout",
     "output_type": "stream",
     "text": [
      "tzutc()\n",
      " tzlocal()\n",
      " tzlocal()\n",
      " tzfile('US/Central')\n",
      " 2022-09-06 17:50:37.895639\n",
      " 2022-09-06 12:50:37.895639+00:00\n"
     ]
    }
   ],
   "source": [
    "from datetime import date, time, datetime, timedelta, tzinfo\n",
    "from dateutil.tz import UTC, tzlocal, gettz, datetime_exists, resolve_imaginary\n",
    "\n",
    "tz1: tzinfo = UTC  # UTC timezone\n",
    "\n",
    "tz2: tzinfo = tzlocal()  # Local timezone\n",
    "tz3: tzinfo = gettz()  # Local timezone\n",
    "\n",
    "tz4: tzinfo = gettz(\"America/Chicago\")  # \"Asia/Kolkata\" etc. See full list at en.wikipedia.org/wiki/List_of_tz_database_time_zones\n",
    "\n",
    "local_dt = datetime.today()\n",
    "utc_dt = local_dt.astimezone(UTC)  # Convert local datetime to UTC datetime\n",
    "\n",
    "print (f\"{tz1}\\n {tz2}\\n {tz3}\\n {tz4}\\n {local_dt}\\n {utc_dt}\")"
   ]
  },
  {
   "cell_type": "markdown",
   "metadata": {},
   "source": [
    "### Encode\n",
    "\n",
    "Python uses the Unix Epoch: \"1970-01-01 00:00 UTC\""
   ]
  },
  {
   "cell_type": "code",
   "execution_count": 33,
   "metadata": {},
   "outputs": [
    {
     "name": "stdout",
     "output_type": "stream",
     "text": [
      "2021-10-04 00:05:23.555000+00:00\n",
      " 2004-10-21 17:30:00\n",
      " 0274-10-16 00:00:00\n",
      " 1970-08-20 16:33:20.010000\n",
      " 1979-07-05 10:20:00+05:00\n"
     ]
    }
   ],
   "source": [
    "from datetime import datetime\n",
    "from dateutil.tz import tzlocal\n",
    "\n",
    "dt1: datetime = datetime.fromisoformat(\"2021-10-04 00:05:23.555+00:00\")  # Raises ValueError\n",
    "dt2: datetime = datetime.strptime(\"21/10/04 17:30\", \"%d/%m/%y %H:%M\")   # Datetime from str, according to format (https://docs.python.org/3/library/datetime.html#strftime-and-strptime-format-codes)\n",
    "dt3: datetime = datetime.fromordinal(100000)  # 100000th day after 1.1.0001\n",
    "dt4: datetime = datetime.fromtimestamp(20_000_000.01)  # Local datetime from seconds since the Epoch\n",
    "\n",
    "tz2: tzinfo = tzlocal()\n",
    "dt5: datetime = datetime.fromtimestamp(300_000_000, tz2)  # Aware datetime from seconds since the Epoch\n",
    "\n",
    "print (f\"{dt1}\\n {dt2}\\n {dt3}\\n {dt4}\\n {dt5}\")"
   ]
  },
  {
   "cell_type": "markdown",
   "metadata": {},
   "source": [
    "### Decode"
   ]
  },
  {
   "cell_type": "code",
   "execution_count": 34,
   "metadata": {},
   "outputs": [
    {
     "name": "stdout",
     "output_type": "stream",
     "text": [
      "2022-09-06 17:50:38.041159\n",
      " 2022-09-06T17:50:38.041159\n",
      " 06/09/22 17:50\n",
      " 738404\n",
      " 1662468638.041159\n"
     ]
    }
   ],
   "source": [
    "from datetime import datetime\n",
    "\n",
    "dt1: datetime = datetime.today()\n",
    "\n",
    "s1: str = dt1.isoformat()\n",
    "s2: str = dt1.strftime(\"%d/%m/%y %H:%M\")  # Outputting datetime object to string (format: https://docs.python.org/3/library/datetime.html#strftime-and-strptime-format-codes)\n",
    "i: int = dt1.toordinal()  # Days since Gregorian NYE 1, ignoring time and tz\n",
    "a: float = dt1.timestamp()  # Seconds since the Epoch\n",
    "\n",
    "print (f\"{dt1}\\n {s1}\\n {s2}\\n {i}\\n {a}\")"
   ]
  },
  {
   "cell_type": "markdown",
   "metadata": {},
   "source": [
    "### Арифметика datetime"
   ]
  },
  {
   "cell_type": "code",
   "execution_count": 35,
   "metadata": {},
   "outputs": [
    {
     "name": "stdout",
     "output_type": "stream",
     "text": [
      "2022-09-11\n",
      " 2022-09-01 17:50:38.132916\n",
      " 14888 days, 17:50:38.132916\n",
      " 50 days, 0:00:00\n",
      " 5.0\n"
     ]
    }
   ],
   "source": [
    "from datetime import date, time, datetime, timedelta\n",
    "from dateutil.tz import UTC, tzlocal, gettz, datetime_exists, resolve_imaginary\n",
    "\n",
    "d: date  = date.today()\n",
    "dt1: datetime = datetime.today()\n",
    "dt2: datetime = datetime(year=1981, month=12, day=2)\n",
    "td1: timedelta = timedelta(days=5)\n",
    "td2: timedelta = timedelta(days=1)\n",
    "\n",
    "d = d + td1  # date = date ± timedelta\n",
    "dt3 = dt1 - td1  # datetime = datetime ± timedelta\n",
    "\n",
    "td3 = dt1 - dt2  # timedelta = datetime - datetime\n",
    "\n",
    "td4 = 10 * td1  # timedelta = const * timedelta\n",
    "c: float = td1/td2  # timedelta/timedelta\n",
    "\n",
    "print (f\"{d}\\n {dt3}\\n {td3}\\n {td4}\\n {c}\")"
   ]
  },
  {
   "cell_type": "markdown",
   "metadata": {},
   "source": [
    "## File\n",
    "\n",
    "### Open\n",
    "\n",
    "Open the file and return a corresponding file object."
   ]
  },
  {
   "cell_type": "code",
   "execution_count": 36,
   "metadata": {},
   "outputs": [
    {
     "name": "stdout",
     "output_type": "stream",
     "text": [
      "Hello from file!\n"
     ]
    }
   ],
   "source": [
    "f = open(\"f.txt\", mode='r', encoding=\"utf-8\", newline=None)\n",
    "\n",
    "print(f.read())"
   ]
  },
  {
   "cell_type": "markdown",
   "metadata": {},
   "source": [
    "\n",
    "*encoding=None* means that the default encoding is used, which is platform dependent. Best practice is to use *encoding=\"utf-8\"* whenever possible.  \n",
    "*newline=None* means all different end of line combinations are converted to '\\n' on read, while on write all '\\n' characters are converted to system's default line separator.  \n",
    "*newline=\"\"* means no conversions take place, but input is still broken into chunks by readline() and readlines() on every \"\\n\", \"\\r\" and \"\\r\\n\".  \n",
    "\n",
    "### Режимы\n",
    "\n",
    "\"r\" - Read (default)  \n",
    "\"w\" - Write (truncate)  \n",
    "\"x\" - Write or fail if the file already exists  \n",
    "\"a\" - Append  \n",
    "\"w+\" - Read and write (truncate)  \n",
    "\"r+\" - Read and write from the start  \n",
    "\"a+\" - Read and write from the end  \n",
    "\"t\" - Text mode (default)  \n",
    "\"b\" - Binary mode (`'br'`, `'bw'`, `'bx'`, …)  \n",
    "\n",
    "### Исключения\n",
    "\n",
    "*FileNotFoundError* can be raised when reading with \"r\" or \"r+\".  \n",
    "*FileExistsError* can be raised when writing with \"x\".  \n",
    "*IsADirectoryError* and *PermissionError* can be raised by any.  \n",
    "*OSError* is the parent class of all listed exceptions.  \n",
    "\n",
    "### Чтение из файла"
   ]
  },
  {
   "cell_type": "code",
   "execution_count": 37,
   "metadata": {},
   "outputs": [
    {
     "name": "stdout",
     "output_type": "stream",
     "text": [
      "Hello\n",
      "['Hello from file!']\n"
     ]
    }
   ],
   "source": [
    "with open(\"f.txt\", encoding=\"utf-8\") as f:\n",
    "    chars = f.read(5)  # Reads chars/bytes or until EOF\n",
    "    print(chars)\n",
    "\n",
    "    f.seek(0)  # Moves to the start of the file. Also seek(offset) and seek(±offset, anchor), where anchor is 0 for start, 1 for current position and 2 for end\n",
    "\n",
    "    lines: list[str] = f.readlines()  # Also readline()\n",
    "    print(lines)"
   ]
  },
  {
   "cell_type": "markdown",
   "metadata": {},
   "source": [
    "### Запись в файл"
   ]
  },
  {
   "cell_type": "code",
   "execution_count": 38,
   "metadata": {},
   "outputs": [],
   "source": [
    "with open(\"f.txt\", \"w\", encoding=\"utf-8\") as f:\n",
    "    f.write(\"Hello from file!\")  # Also f.writelines(<collection>)\n",
    "    # f.flush() for flushes write buffer; runs every 4096/8192 B"
   ]
  },
  {
   "cell_type": "markdown",
   "metadata": {},
   "source": [
    "## Paths"
   ]
  },
  {
   "cell_type": "code",
   "execution_count": 39,
   "metadata": {},
   "outputs": [
    {
     "name": "stdout",
     "output_type": "stream",
     "text": [
      "c:\\Works\\amaargiru\\pycore\n",
      "c:\\Works\\amaargiru\\pycore\\f.txt\n",
      "f.txt c:\\Works\\amaargiru\\pycore ('c:\\\\Works\\\\amaargiru\\\\pycore\\\\f', '.txt')\n",
      "os.stat_result(st_mode=33206, st_ino=2251799814917120, st_dev=3628794147, st_nlink=1, st_uid=0, st_gid=0, st_size=16, st_atime=1662468638, st_mtime=1662468638, st_ctime=1661089564)\n",
      "True True False\n",
      "['.git', '.gitignore', '.pytest_cache', '01_python.ipynb', '01_python.md', '02_postgre.md', '03_architecture.md', '04_algorithms.ipynb', '04_algorithms.md', '05_admin_devops.md', '06_pytest_mock.ipynb', '06_pytest_mock.md', '07_fastapi.md', '08_flask.md', '1.bin', '1.json', 'compose_readme.bat', 'coupling_vs_cohesion.svg', 'f.txt', 'gitflow.svg', 'graph_for_dfs.jpg', 'pycallgraph3.png', 'readme.md']\n",
      "f .txt ('c:\\\\', 'Works', 'amaargiru', 'pycore', 'f.txt')\n"
     ]
    }
   ],
   "source": [
    "from os import getcwd, path, listdir\n",
    "from pathlib import Path\n",
    "\n",
    "s1: str = getcwd()  # Returns the current working directory\n",
    "print(s1)\n",
    "\n",
    "s2: str = path.abspath(\"f.txt\")  # Returns absolute path\n",
    "print(s2)\n",
    "\n",
    "s3: str = path.basename(s2)  # Returns final component of the path\n",
    "s4: str = path.dirname(s2)  # Returns path without the final component\n",
    "t1: tuple = path.splitext(s2)  # Splits on last period of the final component\n",
    "print(s3, s4, t1)\n",
    "\n",
    "p = Path(s2)\n",
    "st = p.stat()\n",
    "print(st)\n",
    "\n",
    "b1: bool = p.exists()\n",
    "b2: bool = p.is_file()\n",
    "b3: bool = p.is_dir()\n",
    "print(b1, b2, b3)\n",
    "\n",
    "c: list = listdir(path=s1)  # Returns filenames located at path\n",
    "print(c)\n",
    "\n",
    "s5: str = p.stem  # Returns final component without extension\n",
    "s6: str  = p.suffix  # Returns final component's extension\n",
    "t2: tuple = p.parts  # Returns all components as strings\n",
    "print(s5, s6, t2)"
   ]
  },
  {
   "cell_type": "markdown",
   "metadata": {},
   "source": [
    "## Где будет быстрее поиск, а где перебор и почему: dict, list, set, tuple?!!!"
   ]
  },
  {
   "cell_type": "markdown",
   "metadata": {},
   "source": [
    "## Data querying"
   ]
  },
  {
   "cell_type": "markdown",
   "metadata": {},
   "source": [
    "### Sum, Count, Min, Max"
   ]
  },
  {
   "cell_type": "code",
   "execution_count": 40,
   "metadata": {},
   "outputs": [
    {
     "name": "stdout",
     "output_type": "stream",
     "text": [
      "19\n",
      "3\n",
      "1\n",
      "5\n"
     ]
    }
   ],
   "source": [
    "a: list[int] = [1, 2, 3, 4, 5, 2, 2]\n",
    "\n",
    "s = sum(a)\n",
    "print(s)\n",
    "\n",
    "c = a.count(2)  # Returns number of occurrences\n",
    "print(c)\n",
    "\n",
    "mn = min(a)\n",
    "print(mn)\n",
    "\n",
    "mx = max(a)\n",
    "print(mx)"
   ]
  },
  {
   "cell_type": "markdown",
   "metadata": {},
   "source": [
    "### Comprehensions\n",
    " \n",
    "<list> = [i+1 for i in range(10)]                         # [1, 2, ..., 10]  \n",
    "<set>  = {i for i in range(10) if i > 5}                  # {6, 7, 8, 9}  \n",
    "<iter> = (i+5 for i in range(10))                         # (5, 6, ..., 14)  \n",
    "<dict> = {i: i*2 for i in range(10)}                      # {0: 0, 1: 2, ..., 9: 18}  \n",
    " \n",
    "\n",
    " \n",
    ">>> [l+r for l in 'abc' for r in 'abc']  \n",
    "['aa', 'ab', 'ac', ..., 'cc']  "
   ]
  },
  {
   "cell_type": "markdown",
   "metadata": {},
   "source": [
    "### List comprehension\n",
    "An elegant approach to create a new list based on the values of an existing list."
   ]
  },
  {
   "cell_type": "code",
   "execution_count": 41,
   "metadata": {},
   "outputs": [
    {
     "name": "stdout",
     "output_type": "stream",
     "text": [
      "['Lemon', 'Apple', 'Watermelon', 'Pear']\n",
      "['LEMON', 'APPLE', 'BANANA', 'KIWI', 'WATERMELON', 'PEAR']\n",
      "[['Lemon', 'Apple'], ['Banana', 'Kiwi'], ['Watermelon', 'Pear']]\n"
     ]
    }
   ],
   "source": [
    "# new_list = [expression for member in iterable (if conditional)]\n",
    "\n",
    "fruits: list = [\"Lemon\", \"Apple\", \"Banana\", \"Kiwi\", \"Watermelon\", \"Pear\"]\n",
    "\n",
    "e_fruits = [fruit for fruit in fruits if \"e\" in fruit]\n",
    "#                                     ☝ if conditional\n",
    "print(e_fruits)\n",
    "\n",
    "upper_fruits = [fruit.upper() for fruit in fruits]\n",
    "#                     ☝ expression\n",
    "print(upper_fruits)\n",
    "\n",
    "# Split a list into equal sized chunks\n",
    "chunk_len = 2\n",
    "chunk_fruits = [fruits[i:i + chunk_len] for i in range(0, len(fruits), chunk_len)]\n",
    "print(chunk_fruits)\n"
   ]
  },
  {
   "cell_type": "markdown",
   "metadata": {},
   "source": [
    "### Dictionary comprehension\n",
    "Creating new dictionaries from existing dictionaries and iterables. A dictionary comprehension is very much like a list comprehension, but we get a dictionary at the end of it, so we need to be assigning key value pairs instead of only values."
   ]
  },
  {
   "cell_type": "code",
   "execution_count": 42,
   "metadata": {},
   "outputs": [
    {
     "name": "stdout",
     "output_type": "stream",
     "text": [
      "{'Italy': 'Pizza', 'China': 'Dim Sum', 'South Korea': 'Kimchi'}\n"
     ]
    }
   ],
   "source": [
    "# new_dict = {expression for member in iterable (if conditional)}\n",
    "\n",
    "d: dict[str, str] = {\"Italy\": \"Pizza\", \"US\": \"Hot-Dog\", \"China\": \"Dim Sum\", \"South Korea\": \"Kimchi\"}  # Create a dictionary\n",
    "\n",
    "d2: dict[str, str] = {k: v for k, v in d.items() if \"i\" in v}  ## Select only elements that contain a letter \"i\" in value\n",
    "print(d2)\n"
   ]
  },
  {
   "cell_type": "markdown",
   "metadata": {},
   "source": [
    "### Map, Filter, Reduce\n",
    " \n",
    "<iter> = map(lambda x: x + 1, range(10))                  # (1, 2, ..., 10)  \n",
    "<iter> = filter(lambda x: x > 5, range(10))               # (6, 7, 8, 9)  \n",
    "<obj>  = reduce(lambda out, x: out + x, range(10))        # 45  \n",
    " \n",
    "Reduce must be imported from the functools module.  \n",
    "\n",
    "### Any, All\n",
    " \n",
    "<bool> = any(<collection>)                                # Is `bool(el)` True for any element.  \n",
    "<bool> = all(<collection>)                                # Is True for all elements or empty.  "
   ]
  },
  {
   "cell_type": "markdown",
   "metadata": {},
   "source": [
    "### bisect и бинарный поиск"
   ]
  },
  {
   "cell_type": "markdown",
   "metadata": {},
   "source": [
    "### Lambda\n",
    " \n",
    "<func> = lambda: <return_value>\n",
    "<func> = lambda <arg_1>, <arg_2>: <return_value>"
   ]
  },
  {
   "cell_type": "markdown",
   "metadata": {},
   "source": [
    "### Conditional Expression\n",
    " \n",
    "<obj> = <exp_if_true> if <condition> else <exp_if_false>\n",
    " \n",
    "\n",
    " \n",
    ">>> [a if a else 'zero' for a in (0, 1, 2, 3)]\n",
    "['zero', 1, 2, 3]"
   ]
  },
  {
   "cell_type": "markdown",
   "metadata": {},
   "source": [
    "Closure\n",
    "\n",
    "We have/get a closure in Python when:\n",
    "A nested function references a value of its enclosing function and then\n",
    "the enclosing function returns the nested function.\n",
    "\n",
    " \n",
    "def get_multiplier(a):\n",
    "    def out(b):\n",
    "        return a * b\n",
    "    return out\n",
    " \n",
    "\n",
    " \n",
    ">>> multiply_by_3 = get_multiplier(3)\n",
    ">>> multiply_by_3(10)\n",
    "30\n",
    " \n",
    "\n",
    "If multiple nested functions within enclosing function reference the same value, that value gets shared.\n",
    "To dynamically access function's first free variable use `'<function>.__closure__[0].cell_contents'`."
   ]
  },
  {
   "cell_type": "code",
   "execution_count": 43,
   "metadata": {},
   "outputs": [
    {
     "name": "stdout",
     "output_type": "stream",
     "text": [
      "Sorted: [1, 6, 8, 12, 19, 33]\n",
      "5\n",
      "[1, 6, 8, 12, 15, 19, 33]\n",
      "4\n"
     ]
    }
   ],
   "source": [
    "import bisect\n",
    "\n",
    "a: list[int] = [12, 6, 8, 19, 1, 33]\n",
    "\n",
    "a.sort()\n",
    "print(f\"Sorted: {a}\")\n",
    "\n",
    "print(bisect.bisect(a, 19))  # Locate the insertion point for value in a list to maintain sorted order\n",
    "\n",
    "bisect.insort(a, 15)  # Insert value in a list in sorted order\n",
    "print(a)\n",
    "\n",
    "# Binary search\n",
    "\n",
    "from bisect import bisect_left\n",
    "\n",
    "def binary_search(a, x, lo=0, hi=None):\n",
    "    if hi is None:\n",
    "        hi = len(a)\n",
    "\n",
    "    pos = bisect_left(a, x, lo, hi)\n",
    "    return pos if pos != hi and a[pos] == x else -1\n",
    "\n",
    "print(binary_search(a, 15))"
   ]
  },
  {
   "cell_type": "markdown",
   "metadata": {},
   "source": [
    "### Itertools\n",
    " \n",
    "from itertools import count, repeat, cycle, chain, islice\n",
    "\n",
    "<iter> = count(start=0, step=1)             # Returns updated value endlessly. Accepts floats.  \n",
    "<iter> = repeat(<el> [, times])             # Returns element endlessly or 'times' times.  \n",
    "<iter> = cycle(<collection>)                # Repeats the sequence endlessly.  \n",
    "\n",
    "<iter> = chain(<coll_1>, <coll_2> [, ...])  # Empties collections in order (figuratively).  \n",
    "<iter> = chain.from_iterable(<collection>)  # Empties collections inside a collection in order.  \n",
    "\n",
    "<iter> = islice(<coll>, to_exclusive)       # Only returns first 'to_exclusive' elements.  \n",
    "<iter> = islice(<coll>, from_inclusive, …)  # `to_exclusive, step_size`.  \n",
    "\n",
    " \n",
    ">>> from collections.abc import Iterable, Collection, Sequence  \n",
    ">>> isinstance([1, 2, 3], Iterable)  \n",
    "True  \n",
    "\n",
    " text\n",
    "+------------------+------------+------------+------------+\n",
    "|                  |  Iterable  | Collection |  Sequence  |\n",
    "+------------------+------------+------------+------------+\n",
    "| list, range, str |    yes     |    yes     |    yes     |\n",
    "| dict, set        |    yes     |    yes     |            |\n",
    "| iter             |    yes     |            |            |\n",
    "+------------------+------------+------------+------------+\n",
    "\n",
    ">>> from numbers import Number, Complex, Real, Rational, Integral  \n",
    ">>> isinstance(123, Number)  \n",
    "True\n",
    "\n",
    " text\n",
    "+--------------------+----------+----------+----------+----------+----------+\n",
    "|                    |  Number  |  Complex |   Real   | Rational | Integral |\n",
    "+--------------------+----------+----------+----------+----------+----------+\n",
    "| int                |   yes    |   yes    |   yes    |   yes    |   yes    |\n",
    "| fractions.Fraction |   yes    |   yes    |   yes    |   yes    |          |\n",
    "| float              |   yes    |   yes    |   yes    |          |          |\n",
    "| complex            |   yes    |   yes    |          |          |          |\n",
    "| decimal.Decimal    |   yes    |          |          |          |          |\n",
    "+--------------------+----------+----------+----------+----------+----------+"
   ]
  },
  {
   "cell_type": "markdown",
   "metadata": {},
   "source": [
    "### Statistics\n",
    "from statistics import mean, median, variance, stdev, quantiles, groupby\n",
    "\n",
    "Combinatorics\n",
    "-------------\n",
    "Every function returns an iterator.\n",
    "If you want to print the iterator, you need to pass it to the list() function first!\n",
    "\n",
    "from itertools import product, combinations, combinations_with_replacement, permutations\n",
    "\n",
    ">>> product([0, 1], repeat=3)\n",
    "[(0, 0, 0), (0, 0, 1), (0, 1, 0), (0, 1, 1), ..., (1, 1, 1)]\n",
    "\n",
    ">>> product('abc', 'abc')                    #   a  b  c\n",
    "[('a', 'a'), ('a', 'b'), ('a', 'c'),         # a x  x  x\n",
    " ('b', 'a'), ('b', 'b'), ('b', 'c'),         # b x  x  x\n",
    " ('c', 'a'), ('c', 'b'), ('c', 'c')]         # c x  x  x\n",
    " \n",
    "\n",
    " \n",
    ">>> combinations('abc', 2)                   #   a  b  c\n",
    "[('a', 'b'), ('a', 'c'),                     # a .  x  x\n",
    " ('b', 'c')]                                 # b .  .  x\n",
    "\n",
    ">>> combinations_with_replacement('abc', 2)  #   a  b  c\n",
    "[('a', 'a'), ('a', 'b'), ('a', 'c'),         # a x  x  x\n",
    " ('b', 'b'), ('b', 'c'),                     # b .  x  x\n",
    " ('c', 'c')]                                 # c .  .  x\n",
    "\n",
    ">>> permutations('abc', 2)                   #   a  b  c\n",
    "[('a', 'b'), ('a', 'c'),                     # a .  x  x\n",
    " ('b', 'a'), ('b', 'c'),                     # b x  .  x\n",
    " ('c', 'a'), ('c', 'b')]                     # c x  x  .\n"
   ]
  },
  {
   "cell_type": "markdown",
   "metadata": {},
   "source": [
    "### Pairwise"
   ]
  },
  {
   "cell_type": "code",
   "execution_count": 44,
   "metadata": {},
   "outputs": [
    {
     "name": "stdout",
     "output_type": "stream",
     "text": [
      "[(1, 2), (2, 3), (3, 4), (4, 5)]\n"
     ]
    }
   ],
   "source": [
    "import itertools\n",
    "\n",
    "a = [1, 2, 3, 4, 5]\n",
    "p = itertools.pairwise(a)  # Returns successive overlapping pairs\n",
    "\n",
    "print(list(p))"
   ]
  },
  {
   "cell_type": "markdown",
   "metadata": {},
   "source": [
    "### Шифрование и дешифрование"
   ]
  },
  {
   "cell_type": "code",
   "execution_count": 45,
   "metadata": {},
   "outputs": [
    {
     "name": "stdout",
     "output_type": "stream",
     "text": [
      "Original message: b'A am the Message'\n",
      "Encrypted message: b' E\\x92\\xbeH\\x87\\xdde\\t\\xd3\\x9ap\\x0cO\\xc3\\xf8\\x84\\xc7~\\x1c\\x90\\xcd\\x9a\\xd3\\x1bNd\\xccDt\\x1b\\xfcZ\\x91\\xb5\\xd78\\x85\\x91R\\x1e]3\\x9c\\xec\\xcbC\\xd8'\n",
      "Decrypted message: b'A am the Message'\n"
     ]
    }
   ],
   "source": [
    "# pip install pycryptodomex\n",
    "import hashlib\n",
    "\n",
    "from Cryptodome import Random\n",
    "from Cryptodome.Cipher import AES\n",
    "from Cryptodome.Util.Padding import pad\n",
    "from Cryptodome.Util.Padding import unpad\n",
    "\n",
    "def encrypt_data(password: str, raw_data: bytes) -> bytes:\n",
    "    res = bytes()\n",
    "    try:\n",
    "        key = hashlib.sha256(password.encode()).digest()\n",
    "        align_raw = pad(raw_data, AES.block_size)\n",
    "        iv = Random.new().read(AES.block_size)\n",
    "        cipher = AES.new(key, AES.MODE_CBC, iv)\n",
    "        ciphered_data = cipher.encrypt(align_raw)\n",
    "        res = iv + ciphered_data\n",
    "    except Exception as e:\n",
    "        print(f\"Encrypt error: {str(e)}\")\n",
    "    return res\n",
    "\n",
    "def decrypt_data(password: str, encrypted_data: bytes) -> bytes:\n",
    "    res = bytes()\n",
    "    try:\n",
    "        key = hashlib.sha256(password.encode()).digest()\n",
    "        iv = encrypted_data[:AES.block_size]\n",
    "        ciphered_data = encrypted_data[AES.block_size:]\n",
    "        cipher = AES.new(key, AES.MODE_CBC, iv)\n",
    "        decrypt_data = cipher.decrypt(ciphered_data)\n",
    "        res = unpad(decrypt_data, AES.block_size)\n",
    "    except Exception as e:\n",
    "        print(f\"Decrypt error: {str(e)}\")\n",
    "    return res\n",
    "\n",
    "def encrypt_file(src_file: str, dst_file: str, password: str) -> bool:\n",
    "    try:\n",
    "        with open(src_file, \"rb\") as reader, open(dst_file, \"wb\") as writer:\n",
    "            data = reader.read()\n",
    "            data_enc = encrypt_data(password, data)\n",
    "            writer.write(data_enc)\n",
    "            writer.flush()\n",
    "            print(f\"{src_file} encrypted into {dst_file}\")\n",
    "        return True\n",
    "    except Exception as e:\n",
    "        print(f\"Encrypt_file error: {str(e)}\")\n",
    "        return False\n",
    "\n",
    "def decrypt_file(src_file: str, dst_file: str, password: str) -> bool:\n",
    "    try:\n",
    "        with open(src_file, \"rb\") as reader, open(dst_file, \"wb\") as writer:\n",
    "            data = reader.read()\n",
    "            data_decrypt = decrypt_data(password, data)\n",
    "            writer.write(data_decrypt)\n",
    "            writer.flush()\n",
    "            print(f\"{src_file} decrypted into {dst_file}\")\n",
    "        return True\n",
    "    except Exception as e:\n",
    "        print(f\"Decrypt file error: {str(e)}\")\n",
    "        return False\n",
    "\n",
    "if __name__ == '__main__':\n",
    "    mes: bytes = bytes(\"A am the Message\", \"utf-8\")\n",
    "    passw: str = \"h3AC3TsU8TECvyCqd5Q5WUag5uXLjct2\"\n",
    "    print(f\"Original message: {mes}\")\n",
    "\n",
    "    # Encrypt message\n",
    "    enc: bytes = encrypt_data(passw, mes)\n",
    "    print(f\"Encrypted message: {enc}\")\n",
    "\n",
    "    # Decrypt message\n",
    "    dec: bytes = decrypt_data(passw, enc)\n",
    "    print(f\"Decrypted message: {dec}\")\n"
   ]
  },
  {
   "cell_type": "markdown",
   "metadata": {},
   "source": [
    "## Exceptions\n",
    "\n",
    "### Catching exceptions\n",
    "\n",
    "Basic Example"
   ]
  },
  {
   "cell_type": "code",
   "execution_count": 46,
   "metadata": {},
   "outputs": [
    {
     "name": "stdout",
     "output_type": "stream",
     "text": [
      "Error: division by zero\n"
     ]
    }
   ],
   "source": [
    "a: float = 0\n",
    "b: float = 0\n",
    "\n",
    "try:\n",
    "    b: float = 1/a\n",
    "except ZeroDivisionError as e:\n",
    "    print(f\"Error: {e}\")"
   ]
  },
  {
   "cell_type": "markdown",
   "metadata": {},
   "source": [
    "More complex example. Code inside the *else* block will only be executed if *try* block had no exceptions. Code inside the *finally* block will always be executed (unless a signal is received)."
   ]
  },
  {
   "cell_type": "code",
   "execution_count": 47,
   "metadata": {},
   "outputs": [
    {
     "name": "stdout",
     "output_type": "stream",
     "text": [
      "Error: division by zero\n",
      "This part is always called\n"
     ]
    }
   ],
   "source": [
    "import traceback\n",
    "\n",
    "a: float = 0\n",
    "b: float = 0\n",
    "\n",
    "try:\n",
    "    b: float = 1/a\n",
    "except ZeroDivisionError as e:\n",
    "    print(f\"Error: {e}\")\n",
    "except ArithmeticError as e:\n",
    "    print(f\"We have a bit more complicated problem: {e}\")\n",
    "except Exception as serious_problem:  # Catch all exceptions\n",
    "    print(f\"I don't really know what is going on: {traceback.print_exception(serious_problem)}\")\n",
    "else:\n",
    "    print(\"No errors!\")\n",
    "finally:\n",
    "    print(\"This part is always called\")"
   ]
  },
  {
   "cell_type": "markdown",
   "metadata": {},
   "source": [
    "### Вызов исключений"
   ]
  },
  {
   "cell_type": "code",
   "execution_count": 48,
   "metadata": {},
   "outputs": [
    {
     "name": "stdout",
     "output_type": "stream",
     "text": [
      "We have ValueError, as a planned!\n"
     ]
    }
   ],
   "source": [
    "from decimal import *\n",
    "\n",
    "def div(a: Decimal, b: Decimal) -> Decimal:\n",
    "    if b == 0:\n",
    "        raise ValueError(\"Second argument must be non-zero\")\n",
    "    return a/b\n",
    "\n",
    "\n",
    "try:\n",
    "    c: Decimal = div(1, 0)\n",
    "except ValueError:\n",
    "    print(\"We have ValueError, as a planned!\")\n",
    "    # raise # We can re-raise exception"
   ]
  },
  {
   "cell_type": "markdown",
   "metadata": {},
   "source": [
    "### Встроенные исключения\n",
    "```text\n",
    "BaseException\n",
    " +-- SystemExit                   # Raised by the sys.exit() function\n",
    " +-- KeyboardInterrupt            # Raised when the user press the interrupt key (ctrl-c)\n",
    " +-- Exception                    # User-defined exceptions should be derived from this class\n",
    "      +-- ArithmeticError         # Base class for arithmetic errors\n",
    "      |    +-- ZeroDivisionError  # Dividing by zero\n",
    "      +-- AttributeError          # Attribute is missing\n",
    "      +-- EOFError                # Raised by input() when it hits end-of-file condition\n",
    "      +-- LookupError             # Raised when a look-up on a collection fails\n",
    "      |    +-- IndexError         # A sequence index is out of range\n",
    "      |    +-- KeyError           # A dictionary key or set element is missing\n",
    "      +-- NameError               # An object is missing\n",
    "      +-- OSError                 # Errors such as “file not found”\n",
    "      |    +-- FileNotFoundError  # File or directory is requested but doesn't exist\n",
    "      +-- RuntimeError            # Error that don't fall into other categories\n",
    "      |    +-- RecursionError     # Maximum recursion depth is exceeded\n",
    "      +-- StopIteration           # Raised by next() when run on an empty iterator\n",
    "      +-- TypeError               # An argument is of wrong type\n",
    "      +-- ValueError              # When an argument is of right type but inappropriate value\n",
    "           +-- UnicodeError       # Encoding/decoding strings to/from bytes fails\n",
    "```"
   ]
  },
  {
   "cell_type": "markdown",
   "metadata": {},
   "source": [
    "### Выход из программы при помощи вызова исключения SystemExit"
   ]
  },
  {
   "cell_type": "code",
   "execution_count": 49,
   "metadata": {},
   "outputs": [],
   "source": [
    "import sys\n",
    "\n",
    "# sys.exit()  # Exits with exit code 0 (success)\n",
    "# sys.exit(777)  # Exits with passed exit code"
   ]
  },
  {
   "cell_type": "markdown",
   "metadata": {},
   "source": [
    "### Исключения, определяемые пользователем"
   ]
  },
  {
   "cell_type": "code",
   "execution_count": 50,
   "metadata": {},
   "outputs": [
    {
     "ename": "MyException",
     "evalue": "My car is broken",
     "output_type": "error",
     "traceback": [
      "\u001b[1;31m---------------------------------------------------------------------------\u001b[0m",
      "\u001b[1;31mMyException\u001b[0m                               Traceback (most recent call last)",
      "\u001b[1;32mc:\\Works\\amaargiru\\pycore\\01_python.ipynb Ячейка 103\u001b[0m in \u001b[0;36m<cell line: 4>\u001b[1;34m()\u001b[0m\n\u001b[0;32m      <a href='vscode-notebook-cell:/c%3A/Works/amaargiru/pycore/01_python.ipynb#Y204sZmlsZQ%3D%3D?line=0'>1</a>\u001b[0m \u001b[39mclass\u001b[39;00m \u001b[39mMyException\u001b[39;00m(\u001b[39mException\u001b[39;00m):\n\u001b[0;32m      <a href='vscode-notebook-cell:/c%3A/Works/amaargiru/pycore/01_python.ipynb#Y204sZmlsZQ%3D%3D?line=1'>2</a>\u001b[0m     \u001b[39mpass\u001b[39;00m\n\u001b[1;32m----> <a href='vscode-notebook-cell:/c%3A/Works/amaargiru/pycore/01_python.ipynb#Y204sZmlsZQ%3D%3D?line=3'>4</a>\u001b[0m \u001b[39mraise\u001b[39;00m MyException(\u001b[39m\"\u001b[39m\u001b[39mMy car is broken\u001b[39m\u001b[39m\"\u001b[39m)\n",
      "\u001b[1;31mMyException\u001b[0m: My car is broken"
     ]
    }
   ],
   "source": [
    "class MyException(Exception):\n",
    "    pass\n",
    "\n",
    "raise MyException(\"My car is broken\")"
   ]
  },
  {
   "cell_type": "markdown",
   "metadata": {},
   "source": [
    "### Exception Object\n",
    "\n",
    "```python\n",
    "arguments = <name>.args\n",
    "exc_type = <name>.__class__\n",
    "filename = <name>.__traceback__.tb_frame.f_code.co_filename\n",
    "func_name = <name>.__traceback__.tb_frame.f_code.co_name\n",
    "line = linecache.getline(filename, <name>.__traceback__.tb_lineno)\n",
    "error_msg = ''.join(traceback.format_exception(exc_type, <name>, <name>.__traceback__))\n",
    "```"
   ]
  },
  {
   "cell_type": "markdown",
   "metadata": {},
   "source": [
    "## Математика\n",
    "\n",
    "### Базовая математика"
   ]
  },
  {
   "cell_type": "code",
   "execution_count": null,
   "metadata": {},
   "outputs": [
    {
     "name": "stdout",
     "output_type": "stream",
     "text": [
      "Power: 9.869604401089358\n",
      "Round: 3.14\n",
      "Int round: 300\n",
      "Abs: 3.141592653589793\n",
      "Complex abs: 14.142135623730951\n"
     ]
    }
   ],
   "source": [
    "from math import pi\n",
    "\n",
    "a: float = pi ** 2  # Or pow(pi, 2)\n",
    "print(f\"Power: {a}\")\n",
    "\n",
    "b: float = round(pi, 2)\n",
    "print(f\"Round: {b}\")\n",
    "\n",
    "c: int = round(256, -2)\n",
    "print(f\"Int round: {c}\")\n",
    "\n",
    "d: float = abs(-pi)\n",
    "print(f\"Abs: {d}\")\n",
    "\n",
    "e: float = abs(10+10j)  # Or e: float = abs(complex(real=10, imag=10))\n",
    "print(f\"Complex abs: {e}\")\n"
   ]
  },
  {
   "cell_type": "markdown",
   "metadata": {},
   "source": [
    "### Побитовые операции"
   ]
  },
  {
   "cell_type": "code",
   "execution_count": null,
   "metadata": {},
   "outputs": [
    {
     "name": "stdout",
     "output_type": "stream",
     "text": [
      "And: 0b00000000\n",
      "Or: 0b11111111\n",
      "Xor: 0b11111111\n",
      "Left shift: 0b10101010000\n",
      "Right shift: 0b00001010\n",
      "Not: 0b-1010110\n"
     ]
    }
   ],
   "source": [
    "a: int = 0b01010101\n",
    "b: int = 0b10101010\n",
    "\n",
    "print(f\"And: 0b{a&b:08b}\")\n",
    "print(f\"Or: 0b{a|b:08b}\")\n",
    "print(f\"Xor: 0b{a^b:08b}\")\n",
    "print(f\"Left shift: 0b{a << 4:08b}\")\n",
    "print(f\"Right shift: 0b{b >> 4:08b}\")\n",
    "print(f\"Not: 0b{~a:08b}\")"
   ]
  },
  {
   "cell_type": "markdown",
   "metadata": {},
   "source": [
    "### Подсчет битов"
   ]
  },
  {
   "cell_type": "code",
   "execution_count": null,
   "metadata": {},
   "outputs": [
    {
     "name": "stdout",
     "output_type": "stream",
     "text": [
      "4242 in binary format: 0b1000010010010\n",
      "Bit count: 4\n"
     ]
    }
   ],
   "source": [
    "a: int = 4242\n",
    "print(f\"{a} in binary format: 0b{a:b}\")\n",
    "\n",
    "c = a.bit_count()  # Returns the number of ones in the binary representation of the absolute value of the integer\n",
    "print(f\"Bit count: {c}\")"
   ]
  },
  {
   "cell_type": "markdown",
   "metadata": {},
   "source": [
    "### Fractions"
   ]
  },
  {
   "cell_type": "code",
   "execution_count": null,
   "metadata": {},
   "outputs": [
    {
     "name": "stdout",
     "output_type": "stream",
     "text": [
      "(1, 5)\n"
     ]
    }
   ],
   "source": [
    "from fractions import Fraction\n",
    "\n",
    "f = Fraction(\"0.2\").as_integer_ratio()\n",
    "\n",
    "print(f)"
   ]
  },
  {
   "cell_type": "markdown",
   "metadata": {},
   "source": [
    "### Евклидово расстояние между двумя точками"
   ]
  },
  {
   "cell_type": "code",
   "execution_count": null,
   "metadata": {},
   "outputs": [
    {
     "name": "stdout",
     "output_type": "stream",
     "text": [
      "5.39588732276722\n"
     ]
    }
   ],
   "source": [
    "import math\n",
    "\n",
    "p1 = (0.22, 1, 12)\n",
    "p2 = (-0.12, 3, 7)\n",
    "\n",
    "print(math.dist(p1, p2))"
   ]
  },
  {
   "cell_type": "markdown",
   "metadata": {},
   "source": [
    "## Random"
   ]
  },
  {
   "cell_type": "code",
   "execution_count": null,
   "metadata": {},
   "outputs": [
    {
     "name": "stdout",
     "output_type": "stream",
     "text": [
      "Single float random: 0.9024807633898538\n",
      "Single int random: 7\n",
      "Random bytes: b'>\\xe0^\\x16PX\\xf8E\\xf8\\x98'\n",
      "Random choice: Bob\n",
      "Random list without duplicates: [5, 10, 3, 6, 1]\n",
      "List before shuffle: [1, 2, 3, 4, 5, 6, 7, 8, 9, 10]\n",
      "List after shuffle: [10, 4, 6, 5, 1, 8, 3, 9, 7, 2]\n"
     ]
    }
   ],
   "source": [
    "import random\n",
    "\n",
    "rf: float = random.random()  # A float inside [0, 1)\n",
    "print(f\"Single float random: {rf}\")\n",
    "\n",
    "ri: int = random.randint(1, 10)  # An int inside [from, to]\n",
    "print(f\"Single int random: {ri}\")\n",
    "\n",
    "rb = random.randbytes(10)\n",
    "print(f\"Random bytes: {rb}\")\n",
    "\n",
    "rc: str = random.choice([\"Alice\", \"Bob\", \"Maggie\", \"Madhuri Dixit\"])\n",
    "print(f\"Random choice: {rc}\")\n",
    "\n",
    "rs: str = random.sample([1, 2, 3, 4, 5, 6, 7, 8, 9, 10], 5)\n",
    "print(f\"Random list without duplicates: {rs}\")\n",
    "\n",
    "a = [1, 2, 3, 4, 5, 6, 7, 8, 9, 10]\n",
    "print(f\"List before shuffle: {a}\")\n",
    "random.shuffle(a)\n",
    "print(f\"List after shuffle: {a}\")\n"
   ]
  },
  {
   "cell_type": "markdown",
   "metadata": {},
   "source": [
    "Input\n",
    "-----\n",
    "Reads a line from user input or pipe if present.\n",
    "\n",
    "<str> = input(prompt=None)\n",
    " \n",
    "Trailing newline gets stripped.\n",
    "Prompt string is printed to the standard output before reading input.\n",
    "Raises EOFError when user hits EOF (ctrl-d/ctrl-z⏎) or input stream gets exhausted.\n",
    "\n",
    "Command Line Arguments\n",
    "----------------------\n",
    "\n",
    "import sys\n",
    "scripts_path = sys.argv[0]\n",
    "arguments    = sys.argv[1:]\n",
    "\n",
    "### Argument Parser\n",
    " \n",
    "from argparse import ArgumentParser, FileType\n",
    "p = ArgumentParser(description=<str>)\n",
    "p.add_argument('-<short_name>', '--<name>', action='store_true')  # Flag.\n",
    "p.add_argument('-<short_name>', '--<name>', type=<type>)          # Option.\n",
    "p.add_argument('<name>', type=<type>, nargs=1)                    # First argument.\n",
    "p.add_argument('<name>', type=<type>, nargs='+')                  # Remaining arguments.\n",
    "p.add_argument('<name>', type=<type>, nargs='*')                  # Optional arguments.\n",
    "args  = p.parse_args()                                            # Exits on error.\n",
    "value = args.<name>\n",
    "\n",
    "Use `'help=<str>'` to set argument description.\n",
    "Use `'default=<el>'` to set the default value.\n",
    "Use `'type=FileType(<mode>)'` for files."
   ]
  },
  {
   "cell_type": "markdown",
   "metadata": {},
   "source": [
    "Print\n",
    "-----\n",
    " \n",
    "print(<el_1>, ..., sep=' ', end='\\n', file=sys.stdout, flush=False)\n",
    " \n",
    "Use `'file=sys.stderr'` for messages about errors.\n",
    "Use `'flush=True'` to forcibly flush the stream."
   ]
  },
  {
   "cell_type": "markdown",
   "metadata": {},
   "source": [
    "### Pretty Print\n",
    " \n",
    "from pprint import pprint\n",
    "pprint(<collection>, width=80, depth=None, compact=False, sort_dicts=True)\n",
    " \n",
    "Levels deeper than 'depth' get replaced by '...'."
   ]
  },
  {
   "cell_type": "markdown",
   "metadata": {},
   "source": [
    "NumPy\n",
    "-----\n",
    "Array manipulation mini-language. It can run up to one hundred times faster than the equivalent Python code. An even faster alternative that runs on a GPU is called CuPy.\n",
    "\n",
    " \n",
    "# $ pip3 install numpy\n",
    "import numpy as np\n",
    " \n",
    "\n",
    " \n",
    "<array> = np.array(<list/list_of_lists>)\n",
    "<array> = np.arange(from_inclusive, to_exclusive, ±step_size)\n",
    "<array> = np.ones(<shape>)\n",
    "<array> = np.random.randint(from_inclusive, to_exclusive, <shape>)\n",
    " \n",
    "\n",
    " \n",
    "<array>.shape = <shape>\n",
    "<view>  = <array>.reshape(<shape>)\n",
    "<view>  = np.broadcast_to(<array>, <shape>)\n",
    " \n",
    "\n",
    " \n",
    "<array> = <array>.sum(axis)\n",
    "indexes = <array>.argmin(axis)\n",
    " \n",
    "\n",
    "Shape is a tuple of dimension sizes.\n",
    "Axis is an index of the dimension that gets collapsed. Leftmost dimension has index 0.\n",
    "\n",
    "### Indexing\n",
    " bash\n",
    "<el>       = <2d_array>[row_index, column_index]\n",
    "<1d_view>  = <2d_array>[row_index]\n",
    "<1d_view>  = <2d_array>[:, column_index]\n",
    " \n",
    "\n",
    " bash\n",
    "<1d_array> = <2d_array>[row_indexes, column_indexes]\n",
    "<2d_array> = <2d_array>[row_indexes]\n",
    "<2d_array> = <2d_array>[:, column_indexes]\n",
    " \n",
    "\n",
    " bash\n",
    "<2d_bools> = <2d_array> ><== <el>\n",
    "<1d_array> = <2d_array>[<2d_bools>]\n",
    " \n",
    "\n",
    "### Broadcasting\n",
    "Broadcasting is a set of rules by which NumPy functions operate on arrays of different sizes and/or dimensions.\n",
    "\n",
    " \n",
    "left  = [[0.1], [0.6], [0.8]]        # Shape: (3, 1)\n",
    "right = [ 0.1 ,  0.6 ,  0.8 ]        # Shape: (3)\n",
    " \n",
    "\n",
    "#### 1. If array shapes differ in length, left-pad the shorter shape with ones:\n",
    " \n",
    "left  = [[0.1], [0.6], [0.8]]        # Shape: (3, 1)\n",
    "right = [[0.1 ,  0.6 ,  0.8]]        # Shape: (1, 3) <- !\n",
    " \n",
    "\n",
    "#### 2. If any dimensions differ in size, expand the ones that have size 1 by duplicating their elements:\n",
    " \n",
    "left  = [[0.1, 0.1, 0.1], [0.6, 0.6, 0.6], [0.8, 0.8, 0.8]]  # Shape: (3, 3) <- !\n",
    "right = [[0.1, 0.6, 0.8], [0.1, 0.6, 0.8], [0.1, 0.6, 0.8]]  # Shape: (3, 3) <- !\n",
    " \n",
    "\n",
    "#### 3. If neither non-matching dimension has size 1, raise an error.\n",
    "\n",
    "\n",
    "### Example\n",
    "#### For each point returns index of its nearest point (`[0.1, 0.6, 0.8] => [1, 2, 1]`):\n",
    "\n",
    " \n",
    ">>> points = np.array([0.1, 0.6, 0.8])\n",
    " [ 0.1,  0.6,  0.8]\n",
    ">>> wrapped_points = points.reshape(3, 1)\n",
    "[[ 0.1],\n",
    " [ 0.6],\n",
    " [ 0.8]]\n",
    ">>> distances = wrapped_points - points\n",
    "[[ 0. , -0.5, -0.7],\n",
    " [ 0.5,  0. , -0.2],\n",
    " [ 0.7,  0.2,  0. ]]\n",
    ">>> distances = np.abs(distances)\n",
    "[[ 0. ,  0.5,  0.7],\n",
    " [ 0.5,  0. ,  0.2],\n",
    " [ 0.7,  0.2,  0. ]]\n",
    ">>> i = np.arange(3)\n",
    "[0, 1, 2]\n",
    ">>> distances[i, i] = np.inf\n",
    "[[ inf,  0.5,  0.7],\n",
    " [ 0.5,  inf,  0.2],\n",
    " [ 0.7,  0.2,  inf]]\n",
    ">>> distances.argmin(1)\n",
    "[1, 2, 1]"
   ]
  },
  {
   "cell_type": "markdown",
   "metadata": {},
   "source": [
    "Pandas\n",
    "------\n",
    " \n",
    "# $ pip3 install pandas\n",
    "import pandas as pd\n",
    "from pandas import Series, DataFrame\n",
    " \n",
    "\n",
    "### Series\n",
    "Ordered dictionary with a name.\n",
    "\n",
    " \n",
    ">>> Series([1, 2], index=['x', 'y'], name='a')\n",
    "x    1\n",
    "y    2\n",
    "Name: a, dtype: int64\n",
    " \n",
    "\n",
    " \n",
    "<Sr> = Series(<list>)                         # Assigns RangeIndex starting at 0.\n",
    "<Sr> = Series(<dict>)                         # Takes dictionary's keys for index.\n",
    "<Sr> = Series(<dict/Series>, index=<list>)    # Only keeps items with keys specified in index.\n",
    " \n",
    "\n",
    " \n",
    "<el> = <Sr>.loc[key]                          # Or: <Sr>.iloc[index]\n",
    "<Sr> = <Sr>.loc[keys]                         # Or: <Sr>.iloc[indexes]\n",
    "<Sr> = <Sr>.loc[from_key : to_key_inclusive]  # Or: <Sr>.iloc[from_i : to_i_exclusive]\n",
    " \n",
    "\n",
    " \n",
    "<el> = <Sr>[key/index]                        # Or: <Sr>.key\n",
    "<Sr> = <Sr>[keys/indexes]                     # Or: <Sr>[<key_range/range>]\n",
    "<Sr> = <Sr>[bools]                            # Or: <Sr>.i/loc[bools]\n",
    " \n",
    "\n",
    " \n",
    "<Sr> = <Sr> ><== <el/Sr>                      # Returns a Series of bools.\n",
    "<Sr> = <Sr> +-*/ <el/Sr>                      # Items with non-matching keys get value NaN.\n",
    " \n",
    "\n",
    " \n",
    "<Sr> = <Sr>.append(<Sr>)                      # Or: pd.concat(<coll_of_Sr>)\n",
    "<Sr> = <Sr>.combine_first(<Sr>)               # Adds items that are not yet present.\n",
    "<Sr>.update(<Sr>)                             # Updates items that are already present.\n",
    " \n",
    "\n",
    " \n",
    "<Sr>.plot.line/area/bar/pie/hist()            # Generates a Matplotlib plot.\n",
    "matplotlib.pyplot.show()                      # Displays the plot. Also savefig(<path>).\n",
    " \n",
    "\n",
    "#### Series — Aggregate, Transform, Map:\n",
    " \n",
    "<el> = <Sr>.sum/max/mean/idxmax/all()         # Or: <Sr>.agg(lambda <Sr>: <el>)\n",
    "<Sr> = <Sr>.rank/diff/cumsum/ffill/interpl()  # Or: <Sr>.agg/transform(lambda <Sr>: <Sr>)\n",
    "<Sr> = <Sr>.fillna(<el>)                      # Or: <Sr>.agg/transform/map(lambda <el>: <el>)\n",
    " \n",
    "\n",
    " \n",
    ">>> sr = Series([1, 2], index=['x', 'y'])\n",
    "x    1\n",
    "y    2\n",
    " \n",
    "\n",
    " text\n",
    "+-----------------+-------------+-------------+---------------+\n",
    "|                 |    'sum'    |   ['sum']   | {'s': 'sum'}  |\n",
    "+-----------------+-------------+-------------+---------------+\n",
    "| sr.apply(…)     |      3      |    sum  3   |     s  3      |\n",
    "| sr.agg(…)       |             |             |               |\n",
    "+-----------------+-------------+-------------+---------------+\n",
    "\n",
    "+-----------------+-------------+-------------+---------------+\n",
    "|                 |    'rank'   |   ['rank']  | {'r': 'rank'} |\n",
    "+-----------------+-------------+-------------+---------------+\n",
    "| sr.apply(…)     |             |      rank   |               |\n",
    "| sr.agg(…)       |     x  1    |   x     1   |    r  x  1    |\n",
    "| sr.transform(…) |     y  2    |   y     2   |       y  2    |\n",
    "+-----------------+-------------+-------------+---------------+\n",
    " \n",
    "Last result has a hierarchical index. Use `'<Sr>[key_1, key_2]'` to get its values.\n",
    "\n",
    "### DataFrame\n",
    "Table with labeled rows and columns.\n",
    "\n",
    " \n",
    ">>> DataFrame([[1, 2], [3, 4]], index=['a', 'b'], columns=['x', 'y'])\n",
    "   x  y\n",
    "a  1  2\n",
    "b  3  4\n",
    " \n",
    "\n",
    " \n",
    "<DF>    = DataFrame(<list_of_rows>)           # Rows can be either lists, dicts or series.\n",
    "<DF>    = DataFrame(<dict_of_columns>)        # Columns can be either lists, dicts or series.\n",
    " \n",
    "\n",
    " \n",
    "<el>    = <DF>.loc[row_key, column_key]       # Or: <DF>.iloc[row_index, column_index]\n",
    "<Sr/DF> = <DF>.loc[row_key/s]                 # Or: <DF>.iloc[row_index/es]\n",
    "<Sr/DF> = <DF>.loc[:, column_key/s]           # Or: <DF>.iloc[:, column_index/es]\n",
    "<DF>    = <DF>.loc[row_bools, column_bools]   # Or: <DF>.iloc[row_bools, column_bools]\n",
    " \n",
    "\n",
    " \n",
    "<Sr/DF> = <DF>[column_key/s]                  # Or: <DF>.column_key\n",
    "<DF>    = <DF>[row_bools]                     # Keeps rows as specified by bools.\n",
    "<DF>    = <DF>[<DF_of_bools>]                 # Assigns NaN to False values.\n",
    " \n",
    "\n",
    " \n",
    "<DF>    = <DF> ><== <el/Sr/DF>                # Returns DF of bools. Sr is treated as a row.\n",
    "<DF>    = <DF> +-*/ <el/Sr/DF>                # Items with non-matching keys get value NaN.\n",
    " \n",
    "\n",
    " \n",
    "<DF>    = <DF>.set_index(column_key)          # Replaces row keys with values from a column.\n",
    "<DF>    = <DF>.reset_index()                  # Moves row keys to a column named index.\n",
    "<DF>    = <DF>.sort_index(ascending=True)     # Sorts rows by row keys.\n",
    "<DF>    = <DF>.sort_values(column_key/s)      # Sorts rows by the passed column/s.\n",
    " \n",
    "\n",
    "#### DataFrame — Merge, Join, Concat:\n",
    " \n",
    ">>> l = DataFrame([[1, 2], [3, 4]], index=['a', 'b'], columns=['x', 'y'])\n",
    "   x  y\n",
    "a  1  2\n",
    "b  3  4\n",
    ">>> r = DataFrame([[4, 5], [6, 7]], index=['b', 'c'], columns=['y', 'z'])\n",
    "   y  z\n",
    "b  4  5\n",
    "c  6  7\n",
    " \n",
    "\n",
    " text\n",
    "+------------------------+---------------+------------+------------+--------------------------+\n",
    "|                        |    'outer'    |   'inner'  |   'left'   |       Description        |\n",
    "+------------------------+---------------+------------+------------+--------------------------+\n",
    "| l.merge(r, on='y',     |    x   y   z  | x   y   z  | x   y   z  | Joins/merges on column.  |\n",
    "|            how=…)      | 0  1   2   .  | 3   4   5  | 1   2   .  | Also accepts left_on and |\n",
    "|                        | 1  3   4   5  |            | 3   4   5  | right_on parameters.     |\n",
    "|                        | 2  .   6   7  |            |            | Uses 'inner' by default. |\n",
    "+------------------------+---------------+------------+------------+--------------------------+\n",
    "| l.join(r, lsuffix='l', |    x yl yr  z |            | x yl yr  z | Joins/merges on row keys.|\n",
    "|           rsuffix='r', | a  1  2  .  . | x yl yr  z | 1  2  .  . | Uses 'left' by default.  |\n",
    "|           how=…)       | b  3  4  4  5 | 3  4  4  5 | 3  4  4  5 | If r is a series, it is  |\n",
    "|                        | c  .  .  6  7 |            |            | treated as a column.     |\n",
    "+------------------------+---------------+------------+------------+--------------------------+\n",
    "| pd.concat([l, r],      |    x   y   z  |     y      |            | Adds rows at the bottom. |\n",
    "|           axis=0,      | a  1   2   .  |     2      |            | Uses 'outer' by default. |\n",
    "|           join=…)      | b  3   4   .  |     4      |            | A series is treated as a |\n",
    "|                        | b  .   4   5  |     4      |            | column. Use l.append(sr) |\n",
    "|                        | c  .   6   7  |     6      |            | to add a row instead.    |\n",
    "+------------------------+---------------+------------+------------+--------------------------+\n",
    "| pd.concat([l, r],      |    x  y  y  z |            |            | Adds columns at the      |\n",
    "|           axis=1,      | a  1  2  .  . | x  y  y  z |            | right end. Uses 'outer'  |\n",
    "|           join=…)      | b  3  4  4  5 | 3  4  4  5 |            | by default. A series is  |\n",
    "|                        | c  .  .  6  7 |            |            | treated as a column.     |\n",
    "+------------------------+---------------+------------+------------+--------------------------+\n",
    "| l.combine_first(r)     |    x   y   z  |            |            | Adds missing rows and    |\n",
    "|                        | a  1   2   .  |            |            | columns. Also updates    |\n",
    "|                        | b  3   4   5  |            |            | items that contain NaN.  |\n",
    "|                        | c  .   6   7  |            |            | R must be a DataFrame.   |\n",
    "+------------------------+---------------+------------+------------+--------------------------+\n",
    " \n",
    "\n",
    "#### DataFrame — Aggregate, Transform, Map:\n",
    " \n",
    "<Sr> = <DF>.sum/max/mean/idxmax/all()         # Or: <DF>.apply/agg(lambda <Sr>: <el>)\n",
    "<DF> = <DF>.rank/diff/cumsum/ffill/interpl()  # Or: <DF>.apply/agg/transform(lambda <Sr>: <Sr>)\n",
    "<DF> = <DF>.fillna(<el>)                      # Or: <DF>.applymap(lambda <el>: <el>)\n",
    " \n",
    "All operations operate on columns by default. Pass `'axis=1'` to process the rows instead.\n",
    "\n",
    " \n",
    ">>> df = DataFrame([[1, 2], [3, 4]], index=['a', 'b'], columns=['x', 'y'])\n",
    "   x  y\n",
    "a  1  2\n",
    "b  3  4\n",
    " \n",
    "\n",
    " text\n",
    "+-----------------+-------------+-------------+---------------+\n",
    "|                 |    'sum'    |   ['sum']   | {'x': 'sum'}  |\n",
    "+-----------------+-------------+-------------+---------------+\n",
    "| df.apply(…)     |             |       x  y  |               |\n",
    "| df.agg(…)       |     x  4    |  sum  4  6  |     x  4      |\n",
    "|                 |     y  6    |             |               |\n",
    "+-----------------+-------------+-------------+---------------+\n",
    "\n",
    "+-----------------+-------------+-------------+---------------+\n",
    "|                 |    'rank'   |   ['rank']  | {'x': 'rank'} |\n",
    "+-----------------+-------------+-------------+---------------+\n",
    "| df.apply(…)     |      x  y   |      x    y |        x      |\n",
    "| df.agg(…)       |   a  1  1   |   rank rank |     a  1      |\n",
    "| df.transform(…) |   b  2  2   | a    1    1 |     b  2      |\n",
    "|                 |             | b    2    2 |               |\n",
    "+-----------------+-------------+-------------+---------------+\n",
    " \n",
    "Use `'<DF>[col_key_1, col_key_2][row_key]'` to get the fifth result's values.\n",
    "\n",
    "#### DataFrame — Plot, Encode, Decode:\n",
    " \n",
    "import matplotlib.pyplot as plt\n",
    "<DF>.plot.line/bar/hist/scatter([x=column_key, y=column_key/s]); plt.show()\n",
    " \n",
    "\n",
    " \n",
    "<DF> = pd.read_json/html('<str/path/url>')\n",
    "<DF> = pd.read_csv/pickle/excel('<path/url>')\n",
    "<DF> = pd.read_sql('<table_name/query>', <connection>)\n",
    "<DF> = pd.read_clipboard()\n",
    " \n",
    "\n",
    " \n",
    "<dict> = <DF>.to_dict(['d/l/s/sp/r/i'])\n",
    "<str>  = <DF>.to_json/html/csv/markdown/latex([<path>])\n",
    "<DF>.to_pickle/excel(<path>)\n",
    "<DF>.to_sql('<table_name>', <connection>)\n",
    " \n",
    "\n",
    "### GroupBy\n",
    "Object that groups together rows of a dataframe based on the value of the passed column.\n",
    "\n",
    " \n",
    ">>> df = DataFrame([[1, 2, 3], [4, 5, 6], [7, 8, 6]], index=list('abc'), columns=list('xyz'))\n",
    ">>> df.groupby('z').get_group(6)\n",
    "   x  y\n",
    "b  4  5\n",
    "c  7  8\n",
    " \n",
    "\n",
    " \n",
    "<GB> = <DF>.groupby(column_key/s)             # DF is split into groups based on passed column.\n",
    "<DF> = <GB>.apply(<func>)                     # Maps each group. Func can return DF, Sr or el.\n",
    "<GB> = <GB>[column_key]                       # A single column GB. All operations return a Sr.\n",
    " \n",
    "\n",
    "#### GroupBy — Aggregate, Transform, Map:\n",
    " \n",
    "<DF> = <GB>.sum/max/mean/idxmax/all()         # Or: <GB>.agg(lambda <Sr>: <el>)\n",
    "<DF> = <GB>.rank/diff/cumsum/ffill()          # Or: <GB>.transform(lambda <Sr>: <Sr>)\n",
    "<DF> = <GB>.fillna(<el>)                      # Or: <GB>.transform(lambda <Sr>: <Sr>)\n",
    " \n",
    "\n",
    " \n",
    ">>> gb = df.groupby('z')\n",
    "      x  y  z\n",
    "3: a  1  2  3\n",
    "6: b  4  5  6\n",
    "   c  7  8  6\n",
    " \n",
    "\n",
    " text\n",
    "+-----------------+-------------+-------------+-------------+---------------+\n",
    "|                 |    'sum'    |    'rank'   |   ['rank']  | {'x': 'rank'} |\n",
    "+-----------------+-------------+-------------+-------------+---------------+\n",
    "| gb.agg(…)       |      x   y  |      x  y   |      x    y |        x      |\n",
    "|                 |  z          |   a  1  1   |   rank rank |     a  1      |\n",
    "|                 |  3   1   2  |   b  1  1   | a    1    1 |     b  1      |\n",
    "|                 |  6  11  13  |   c  2  2   | b    1    1 |     c  2      |\n",
    "|                 |             |             | c    2    2 |               |\n",
    "+-----------------+-------------+-------------+-------------+---------------+\n",
    "| gb.transform(…) |      x   y  |      x  y   |             |               |\n",
    "|                 |  a   1   2  |   a  1  1   |             |               |\n",
    "|                 |  b  11  13  |   b  1  1   |             |               |\n",
    "|                 |  c  11  13  |   c  2  2   |             |               |\n",
    "+-----------------+-------------+-------------+-------------+---------------+\n",
    " \n",
    "\n",
    "### Rolling\n",
    "Object for rolling window calculations.\n",
    "\n",
    " \n",
    "<R_Sr/R_DF/R_GB> = <Sr/DF/GB>.rolling(window_size)  # Also: `min_periods=None, center=False`.\n",
    "<R_Sr/R_DF>      = <R_DF/R_GB>[column_key/s]        # Or: <R>.column_key\n",
    "<Sr/DF/DF>       = <R_Sr/R_DF/R_GB>.sum/max/mean()  # Or: <R>.apply/agg(<agg_func/str>)"
   ]
  },
  {
   "cell_type": "markdown",
   "metadata": {},
   "source": [
    "OS Commands\n",
    "-----------\n",
    "import os, shutil, subprocess\n",
    "\n",
    "### Files and Directories\n",
    "Paths can be either strings, Paths or DirEntry objects.\n",
    "Functions report OS related errors by raising either OSError or one of its [subclasses](#exceptions-1).\n",
    " \n",
    "os.chdir(<path>)                    # Changes the current working directory.\n",
    "os.mkdir(<path>, mode=0o777)        # Creates a directory. Mode is in octal.\n",
    "os.makedirs(<path>, mode=0o777)     # Creates all directories in the path.\n",
    "\n",
    "shutil.copy(from, to)               # Copies the file. 'to' can exist or be a dir.\n",
    "shutil.copytree(from, to)           # Copies the directory. 'to' must not exist.\n",
    "\n",
    "os.rename(from, to)                 # Renames/moves the file or directory.\n",
    "os.replace(from, to)                # Same, but overwrites 'to' if it exists.\n",
    "\n",
    "os.remove(<path>)                   # Deletes the file.\n",
    "os.rmdir(<path>)                    # Deletes the empty directory.\n",
    "shutil.rmtree(<path>)               # Deletes the directory."
   ]
  },
  {
   "cell_type": "markdown",
   "metadata": {},
   "source": [
    "Threading\n",
    "---------\n",
    "CPython interpreter can only run a single thread at a time.\n",
    "That is why using multiple threads won't result in a faster execution, unless at least one of the threads contains an I/O operation.\n",
    " \n",
    "from threading import Thread, RLock, Semaphore, Event, Barrier\n",
    "from concurrent.futures import ThreadPoolExecutor\n",
    " \n",
    "\n",
    "### Thread\n",
    " \n",
    "<Thread> = Thread(target=<function>)           # Use `args=<collection>` to set the arguments.\n",
    "<Thread>.start()                               # Starts the thread.\n",
    "<bool> = <Thread>.is_alive()                   # Checks if the thread has finished executing.\n",
    "<Thread>.join()                                # Waits for the thread to finish.\n",
    " \n",
    "Use `'kwargs=<dict>'` to pass keyword arguments to the function.\n",
    "Use `'daemon=True'`, or the program will not be able to exit while the thread is alive.**\n",
    "\n",
    "### Lock\n",
    " \n",
    "<lock> = RLock()                               # Lock that can only be released by the owner.\n",
    "<lock>.acquire()                               # Waits for the lock to be available.\n",
    "<lock>.release()                               # Makes the lock available again.\n",
    " \n",
    "\n",
    "#### Or:\n",
    " \n",
    "with <lock>:                                   # Enters the block by calling acquire(),\n",
    "    ...                                        # and exits it with release().\n",
    " \n",
    "\n",
    "### Semaphore, Event, Barrier\n",
    " \n",
    "<Semaphore> = Semaphore(value=1)               # Lock that can be acquired by 'value' threads.\n",
    "<Event>     = Event()                          # Method wait() blocks until set() is called.\n",
    "<Barrier>   = Barrier(n_times)                 # Wait() blocks until it's called n_times.\n",
    " \n",
    "\n",
    "### Thread Pool Executor\n",
    "Object that manages thread execution.\n",
    "An object with the same interface called ProcessPoolExecutor provides true parallelism by running a separate interpreter in each process. All arguments must be [pickable](#pickle).\n",
    "\n",
    " \n",
    "<Exec> = ThreadPoolExecutor(max_workers=None)  # Or: `with ThreadPoolExecutor() as <name>: …`\n",
    "<Exec>.shutdown(wait=True)                     # Blocks until all threads finish executing.\n",
    " \n",
    "\n",
    " \n",
    "<iter> = <Exec>.map(<func>, <args_1>, ...)     # A multithreaded and non-lazy map().\n",
    "<Futr> = <Exec>.submit(<func>, <arg_1>, ...)   # Starts a thread and returns its Future object.\n",
    "<bool> = <Futr>.done()                         # Checks if the thread has finished executing.\n",
    "<obj>  = <Futr>.result()                       # Waits for thread to finish and returns result."
   ]
  },
  {
   "cell_type": "markdown",
   "metadata": {},
   "source": [
    "## Profiling\n",
    "\n",
    "### Stopwatch"
   ]
  },
  {
   "cell_type": "code",
   "execution_count": null,
   "metadata": {},
   "outputs": [
    {
     "name": "stdout",
     "output_type": "stream",
     "text": [
      "2.2923033237457275 seconds\n"
     ]
    }
   ],
   "source": [
    "from time import time\n",
    "start_time = time()\n",
    "\n",
    "j: int = 0\n",
    "for i in range(10_000_000):  # Long operation\n",
    "    j = i ** 2\n",
    "\n",
    "duration = time() - start_time\n",
    "print(f\"{duration} seconds\")"
   ]
  },
  {
   "cell_type": "markdown",
   "metadata": {},
   "source": [
    "### High performance"
   ]
  },
  {
   "cell_type": "code",
   "execution_count": null,
   "metadata": {},
   "outputs": [
    {
     "name": "stdout",
     "output_type": "stream",
     "text": [
      "2.3540456001646817 seconds\n"
     ]
    }
   ],
   "source": [
    "from time import perf_counter\n",
    "start_time = perf_counter()\n",
    "\n",
    "j: int = 0\n",
    "for i in range(10_000_000):  # Long operation\n",
    "    j = i ** 2\n",
    "\n",
    "duration = perf_counter() - start_time\n",
    "print(f\"{duration} seconds\")"
   ]
  },
  {
   "cell_type": "markdown",
   "metadata": {},
   "source": [
    "### timeit\n",
    "\n",
    "Try to avoid a number of common traps for measuring execution times"
   ]
  },
  {
   "cell_type": "code",
   "execution_count": null,
   "metadata": {},
   "outputs": [
    {
     "data": {
      "text/plain": [
       "1.8552540000528097"
      ]
     },
     "execution_count": 10,
     "metadata": {},
     "output_type": "execute_result"
    }
   ],
   "source": [
    "from timeit import timeit\n",
    "\n",
    "def long_pow():\n",
    "    j: int = 0\n",
    "    for i in range(1000_000):  # Long operation\n",
    "        j = i ** 2\n",
    "\n",
    "timeit(\"long_pow()\", number=10, globals=globals(), setup='pass')"
   ]
  },
  {
   "cell_type": "markdown",
   "metadata": {},
   "source": [
    "### Call Graph\n",
    "\n",
    "Создает PNG изображение графа вызовов с подсвеченными узкими местами"
   ]
  },
  {
   "cell_type": "code",
   "execution_count": null,
   "metadata": {},
   "outputs": [],
   "source": [
    "from pycallgraph3 import PyCallGraph\n",
    "from pycallgraph3.output import GraphvizOutput\n",
    "\n",
    "def long_pow():\n",
    "    j: int = 0\n",
    "    for i in range(1000_000):  # Long operation\n",
    "        j = i ** 2\n",
    "\n",
    "def short_pow():\n",
    "    j: int = 0\n",
    "    for i in range(1000):  # Short operation\n",
    "        j = i ** 2\n",
    "\n",
    "with PyCallGraph(output=GraphvizOutput()):\n",
    "    # Code to be profiled\n",
    "    long_pow()\n",
    "    short_pow()\n",
    "    # This will generate a file called pycallgraph3.png"
   ]
  },
  {
   "cell_type": "markdown",
   "metadata": {},
   "source": [
    "<img src=\"pycallgraph3.png\" style=\"height:400px\">"
   ]
  },
  {
   "cell_type": "markdown",
   "metadata": {},
   "source": [
    "## asyncio!!!"
   ]
  },
  {
   "cell_type": "markdown",
   "metadata": {},
   "source": [
    "В JavaScript async / await сделаны жадными как Promise. При вызове async функции автоматически создается задача и отправляется в очередь на исполнение в event loop. await, в свою очередь, просто ждёт результат.\n",
    "\n",
    "В питоне асинхронщину задизайнили иначе - лениво.\n",
    "\n",
    "Вызов async функции возвращает объект - корутину, - которая ни чего не делает.\n",
    "\n",
    "asyncio.run() создаёт event loop, запускает (корневую) корутину и блокирует поток до получения результата.\n",
    "\n",
    "await запускает корутину изнутри другой корутины в текущем event loop и ждёт результат.\n",
    "\n",
    "Для запуска корутины без ожидания (как это делает Promise) используется asyncio.create_task(coro). Либо asyncio.gather(*aws), если надо запустить сразу несколько. Нужно только следить, чтобы ссылка на возвращаемое значение сохранялась до конца вычисления, иначе его пожрет GC и все оборвется на самом интересном месте (промис бы отработал до конца не смотря ни на что).\n",
    "\n",
    "В JS только один event loop, поэтому было вполне разумно закопать его внутрь promise / async / await как деталь реализации, упростив работу прикладному программисту. В питоне отзеркалили более ранний вариант корутин на генераторах, дали возможность использовать разные event loop и выставили все кишки наружу."
   ]
  },
  {
   "cell_type": "markdown",
   "metadata": {},
   "source": [
    "## Сборщик мусора\n",
    "\n",
    "Стандартный интерпретатор Python (CPython) использует для сборки мусора два алгоритма: подсчет ссылок (reference counting, неотключаемый механизм) и garbage collector (стандартный модуль gc из Python, отключаемый). Алгоритм подсчета ссылок не умеет определять циклические ссылки.\n",
    "\n",
    "Циклические ссылки могут находиться только в “контейнерных” объектах, т.е. в объектах, которые могут хранить другие объекты, например в списках, словарях, классах и кортежах. GC не следит за простыми и неизменяемыми типами, за исключением кортежей. Некоторые кортежи и словари также исключаются из списка слежки при выполнении определенных условий. Со всеми остальными объектами гарантированно справляется алгоритм подсчета ссылок.\n",
    "\n",
    "В отличие от алгоритма подсчета ссылок, циклический GC не работает постоянно, а запускается периодически. GC разделяет все объекты на 3 поколения. Новые объекты попадают в первое поколение. Если новый объект выживает процесс сборки мусора, то он перемещается в следующее поколение. Чем выше поколение, тем реже оно сканируется. Так как новые объекты зачастую имеют очень маленький срок жизни (являются временными), то имеет смысл опрашивать их чаще, чем те, которые уже прошли через несколько этапов сборки мусора.  \n",
    "В каждом поколенн есть специальный счетчик и порог срабатывания, при достижении которого начинается процесс сборки мусора. Как только в Python создается какой-либо контейнерный объект, он проверяет эти пороги. Если условия срабатывают, то начинается процесс сборки мусора.  \n",
    "Стандартные пороги срабатывания для поколений установлены на 700, 10 и 10 соответственно, но всегда можно изменить их с помощью функций gc.get_threshold и gc.set_threshold.\n",
    "\n",
    "Алгоритм поиска циклических ссылок: говоря кратко, GC проходит по всем объектам из выбранного поколения и временно удаляет все ссылки от каждого объекта. Все объекты, у которых после этого счетчик ссылок меньше двух, считаются недоступными и могут быть удалены.\n",
    "\n",
    "Ручной отлов циклических ссылок возможен благодаря наличию у GC отладочному флагу DEBUG_SAVEALL, с которым все недоступные объекты будут добавлены в список gc.garbage:\n",
    "```python\n",
    "gc.set_debug(gc.DEBUG_SAVEALL)\n",
    "```\n",
    "Список gc.garbage, в свою очередь, можно визуализировать с помощью objgraph:\n",
    "\n",
    "<img src=\"garbage.svg\" style=\"height:350px\">\n",
    "\n",
    "В других интерпретаторах Python имеются другие механизмы сборки мусора, например, в интерпретаторе PyPy отсутствует алгоритм постоянного подсчета ссылок. Из-за этого, например, содержимое файла может быть обновлено только после прохода GC, а не тогда, когда файл был закрыт в программе."
   ]
  },
  {
   "cell_type": "markdown",
   "metadata": {},
   "source": [
    "### GIL\n",
    "\n",
    "Global Interpreter Lock - собенность интерпретатора, когда одновременно может исполняться только один тред, остальные треды в это время простаивают.  \n",
    "\n",
    "GIL позволяет безопасно согласовывать изменения данных. Без этого, например, если один тред удалит все элемены из списка, а второй начнет итерацию по нему, произойдет ошибка. Аналогично, сборщик мусора может начать некорректно подсчитывать ссылки. Проблему можно решить, установив блокировки на все разделяемые структуры данных, но это привнесло бы дополнительные сложности: оверхед по коду, потерю производительности, возможные deadlocks. GIL позволяет осуществлять простую интеграцию C-библиотек, которые зачастую тоже не потокобезопасны, а также обеспечивает быструю работу однопоточных скриптов.\n",
    "\n",
    "GIL работает так: на каждый тред выделяется некоторый квант времени. Он измеряется в машинных единицах “тиках” и по умолчанию равен 100. Как только на тред было потрачено 100 тиков, интерпретатор бросает этот тред и переключается на второй, тратит 100 тактов на него, затем третий, и так по кругу. Этот алгоритм гаранитрует, что всем тредам будет выделено ресурсов поровну.\n",
    "\n",
    "Проблема в том, что из-за GIL далеко не все задачи могут быть решены в тредах. Напротив, их использование чаще всего снижает быстродействие программы. С использованием тредов требуется следить за доступом к общим ресурсам: словарям, файлам, соединением к БД.\n",
    "\n",
    "Как обойти ограничения, накладываемые GIL?  \n",
    "Вариант 1 - использовать альтернативные интерпретаторы Python, например PyPy.  \n",
    "Вариант 2 - уход от многопоточности в сторону мультипроцессности, используя модуль multiprocessing. Последний вариант подробно разобран ниже."
   ]
  },
  {
   "cell_type": "code",
   "execution_count": 1,
   "metadata": {},
   "outputs": [
    {
     "name": "stdout",
     "output_type": "stream",
     "text": [
      "Count time 3.81453800201416\n"
     ]
    }
   ],
   "source": [
    "# Однопоточное приложение\n",
    "import time\n",
    "\n",
    "COUNT = 100_000_000\n",
    "\n",
    "def countdown(n):\n",
    "    while n > 0:\n",
    "        n -= 1\n",
    "\n",
    "start = time.time()\n",
    "countdown(COUNT)\n",
    "end = time.time()\n",
    "\n",
    "print(\"Count time\", end - start)"
   ]
  },
  {
   "cell_type": "code",
   "execution_count": 2,
   "metadata": {},
   "outputs": [
    {
     "name": "stdout",
     "output_type": "stream",
     "text": [
      "Count time 3.8378489017486572\n"
     ]
    }
   ],
   "source": [
    "# Многопоточное приложение, время выполнения будет больше, чем у однопоточного, т. к. добавятся временные затраты на переключение потоков\n",
    "import time\n",
    "from threading import Thread\n",
    "\n",
    "COUNT = 100_000_000\n",
    "\n",
    "def countdown(n):\n",
    "    while n > 0:\n",
    "        n -= 1\n",
    "\n",
    "t1 = Thread(target=countdown, args=(COUNT//2,))\n",
    "t2 = Thread(target=countdown, args=(COUNT//2,))\n",
    "\n",
    "start = time.time()\n",
    "t1.start()\n",
    "t2.start()\n",
    "t1.join()\n",
    "t2.join()\n",
    "end = time.time()\n",
    "\n",
    "print(\"Count time\", end - start)"
   ]
  },
  {
   "cell_type": "code",
   "execution_count": 3,
   "metadata": {},
   "outputs": [],
   "source": [
    "# Многопроцессорное приложение\n",
    "import time\n",
    "import multiprocessing as mp\n",
    "\n",
    "COUNT = 100_000_000\n",
    "\n",
    "\n",
    "def countdown(n):\n",
    "    while n > 0:\n",
    "        n -= 1\n",
    "\n",
    "if __name__ ==  '__main__':\n",
    "    pool = mp.Pool()\n",
    "    start = time.time()\n",
    "    pool.apply_async(countdown, args=(COUNT // 2,))\n",
    "    pool.apply_async(countdown, args=(COUNT // 2,))\n",
    "    pool.close()\n",
    "    pool.join()\n",
    "    end = time.time()\n",
    "    print(\"Count time\", end - start)"
   ]
  },
  {
   "cell_type": "markdown",
   "metadata": {},
   "source": [
    "Count time 2.0029137134552"
   ]
  },
  {
   "cell_type": "markdown",
   "metadata": {},
   "source": [
    "## Как передаются значения аргументов в функцию или метод?\n",
    "Как передаются аргументы функций в Python (by value or reference)?  "
   ]
  },
  {
   "cell_type": "markdown",
   "metadata": {},
   "source": [
    "Arguments\n",
    "---------\n",
    "### Inside Function Call\n",
    " \n",
    "<function>(<positional_args>)                  # f(0, 0)\n",
    "<function>(<keyword_args>)                     # f(x=0, y=0)\n",
    "<function>(<positional_args>, <keyword_args>)  # f(0, y=0)\n",
    "\n",
    "### Inside Function Definition\n",
    " \n",
    "def f(<nondefault_args>):                      # def f(x, y):\n",
    "def f(<default_args>):                         # def f(x=0, y=0):\n",
    "def f(<nondefault_args>, <default_args>):      # def f(x, y=0):\n",
    " \n",
    "A function has its default values evaluated when it's first encountered in the scope.\n",
    "Any changes to default values that are mutable will persist between invocations.\n",
    "\n",
    "Splat Operator\n",
    "--------------\n",
    "### Inside Function Call\n",
    "Splat expands a collection into positional arguments, while splatty-splat expands a dictionary into keyword arguments.\n",
    " \n",
    "args   = (1, 2)\n",
    "kwargs = {'x': 3, 'y': 4, 'z': 5}\n",
    "func(*args, **kwargs)\n",
    " \n",
    "\n",
    "#### Is the same as:\n",
    " \n",
    "func(1, 2, x=3, y=4, z=5)\n",
    " \n",
    "\n",
    "### Inside Function Definition\n",
    "Splat combines zero or more positional arguments into a tuple, while splatty-splat combines zero or more keyword arguments into a dictionary.\n",
    " \n",
    "def add(*a):\n",
    "    return sum(a)\n",
    " \n",
    "\n",
    " \n",
    ">>> add(1, 2, 3)\n",
    "6\n",
    " \n",
    "\n",
    "#### Legal argument combinations:\n",
    " \n",
    "def f(*, x, y, z):          # f(x=1, y=2, z=3)\n",
    "def f(x, *, y, z):          # f(x=1, y=2, z=3) | f(1, y=2, z=3)\n",
    "def f(x, y, *, z):          # f(x=1, y=2, z=3) | f(1, y=2, z=3) | f(1, 2, z=3)\n",
    " \n",
    "\n",
    " \n",
    "def f(*args):               # f(1, 2, 3)\n",
    "def f(x, *args):            # f(1, 2, 3)\n",
    "def f(*args, z):            # f(1, 2, z=3)\n",
    " \n",
    "\n",
    " \n",
    "def f(**kwargs):            # f(x=1, y=2, z=3)\n",
    "def f(x, **kwargs):         # f(x=1, y=2, z=3) | f(1, y=2, z=3)\n",
    "def f(*, x, **kwargs):      # f(x=1, y=2, z=3)\n",
    " \n",
    "\n",
    " \n",
    "def f(*args, **kwargs):     # f(x=1, y=2, z=3) | f(1, y=2, z=3) | f(1, 2, z=3) | f(1, 2, 3)\n",
    "def f(x, *args, **kwargs):  # f(x=1, y=2, z=3) | f(1, y=2, z=3) | f(1, 2, z=3) | f(1, 2, 3)\n",
    "def f(*args, y, **kwargs):  # f(x=1, y=2, z=3) | f(1, y=2, z=3)\n",
    " \n",
    "\n",
    "### Other Uses\n",
    " \n",
    "<list>  = [*<collection> [, ...]]\n",
    "<set>   = {*<collection> [, ...]}\n",
    "<tuple> = (*<collection>, [...])\n",
    "<dict>  = {**<dict> [, ...]}\n",
    " \n",
    "\n",
    " \n",
    "head, *body, tail = <collection>\n",
    " \n",
    "\n",
    "### Partial\n",
    " \n",
    "from functools import partial\n",
    "<function> = partial(<function> [, <arg_1>, <arg_2>, ...])\n",
    " \n",
    "\n",
    " \n",
    ">>> import operator as op\n",
    ">>> multiply_by_3 = partial(op.mul, 3)\n",
    ">>> multiply_by_3(10)\n",
    "30\n",
    " \n",
    "Partial is also useful in cases when function needs to be passed as an argument because it enables us to set its arguments beforehand.\n",
    "A few examples being: `'defaultdict(<function>)'`, `'iter(<function>, to_exclusive)'` and dataclass's `'field(default_factory=<function>)'`.\n",
    "\n",
    "### Non-Local\n",
    "If variable is being assigned to anywhere in the scope, it is regarded as a local variable, unless it is declared as a 'global' or a 'nonlocal'.\n",
    "\n",
    " \n",
    "def get_counter():\n",
    "    i = 0\n",
    "    def out():\n",
    "        nonlocal i\n",
    "        i += 1\n",
    "        return i\n",
    "    return out\n",
    " \n",
    "\n",
    " \n",
    ">>> counter = get_counter()\n",
    ">>> counter(), counter(), counter()\n",
    "(1, 2, 3)\n"
   ]
  },
  {
   "cell_type": "markdown",
   "metadata": {},
   "source": [
    "Iterable Duck Types\n",
    "-------------------\n",
    "### Iterable\n",
    "Only required method is iter(). It should return an iterator of object's items.\n",
    "Contains() automatically works on any object that has iter() defined.\n",
    " \n",
    "class MyIterable:\n",
    "    def __init__(self, a):\n",
    "        self.a = a\n",
    "    def __iter__(self):\n",
    "        return iter(self.a)\n",
    "    def __contains__(self, el):\n",
    "        return el in self.a\n",
    " \n",
    ">>> obj = MyIterable([1, 2, 3])\n",
    ">>> [el for el in obj]\n",
    "[1, 2, 3]\n",
    ">>> 1 in obj\n",
    "True"
   ]
  },
  {
   "cell_type": "markdown",
   "metadata": {},
   "source": [
    "#### Discrepancies between glossary definitions and abstract base classes:\n",
    "Glossary defines iterable as any object with iter() or getitem() and sequence as any object with len() and getitem(). It does not define collection.\n",
    "Passing ABC Iterable to isinstance() or issubclass() checks whether object/class has iter(), while ABC Collection checks for iter(), contains() and len()."
   ]
  },
  {
   "cell_type": "markdown",
   "metadata": {},
   "source": [
    "### ABC Sequence\n",
    "It's a richer interface than the basic sequence.\n",
    "Extending it generates iter(), contains(), reversed(), index() and count().\n",
    "Unlike `'abc.Iterable'` and `'abc.Collection'`, it is not a duck type. That is why `'issubclass(MySequence, abc.Sequence)'` would return False even if MySequence had all the methods defined.\n",
    " \n",
    "from collections import abc\n",
    "\n",
    "class MyAbcSequence(abc.Sequence):\n",
    "    def __init__(self, a):\n",
    "        self.a = a\n",
    "    def __len__(self):\n",
    "        return len(self.a)\n",
    "    def __getitem__(self, i):\n",
    "        return self.a[i]\n",
    "\n",
    "#### Table of required and automatically available special methods:\n",
    " text\n",
    "+------------+------------+------------+------------+--------------+\n",
    "|            |  Iterable  | Collection |  Sequence  | abc.Sequence |\n",
    "+------------+------------+------------+------------+--------------+\n",
    "| iter()     |    REQ     |    REQ     |    Yes     |     Yes      |\n",
    "| contains() |    Yes     |    Yes     |    Yes     |     Yes      |\n",
    "| len()      |            |    REQ     |    REQ     |     REQ      |\n",
    "| getitem()  |            |            |    REQ     |     REQ      |\n",
    "| reversed() |            |            |    Yes     |     Yes      |\n",
    "| index()    |            |            |            |     Yes      |\n",
    "| count()    |            |            |            |     Yes      |\n",
    "+------------+------------+------------+------------+--------------+\n",
    " \n",
    "Other ABCs that generate missing methods are: MutableSequence, Set, MutableSet, Mapping and MutableMapping.\n",
    "Names of their required methods are stored in `'<abc>.__abstractmethods__'`."
   ]
  },
  {
   "cell_type": "markdown",
   "metadata": {},
   "source": [
    "### Итераторы\n",
    "\n",
    "\n",
    "\n",
    "Iterator\n",
    "--------\n",
    " \n",
    "<iter> = iter(<collection>)                 # `iter(<iter>)` returns unmodified iterator.\n",
    "<iter> = iter(<function>, to_exclusive)     # A sequence of return values until 'to_exclusive'.\n",
    "<el>   = next(<iter> [, default])           # Raises StopIteration or returns 'default' on end.\n",
    "<list> = list(<iter>)                       # Returns a list of iterator's remaining elements."
   ]
  },
  {
   "cell_type": "markdown",
   "metadata": {},
   "source": [
    "Enumerate\n",
    "---------\n",
    " \n",
    "for i, el in enumerate(<collection> [, i_start]):\n",
    "    ..."
   ]
  },
  {
   "cell_type": "markdown",
   "metadata": {},
   "source": [
    "### Генераторы\n",
    "https://xakep.ru/2014/10/06/generatora-iteratory-python/  \n",
    "\n",
    "Итерация и генераторы\n",
    "В чем отличие [x for x in y] от (x for x in y)?\n",
    "\n",
    "Первое выражение возвращает список, второе – генератор.\n",
    "\n",
    "Что особенного в генераторе?\n",
    "\n",
    "Генератор хранит в памяти не все элементы, а только внутреннее состояние для вычисления очередного элемента. На каждом шаге можно вычислить только следующий элемент, но не предыдущий. Пройти генератор в цикле можно только один раз.\n",
    "\n",
    "Как объявить генератор?\n",
    "\n",
    "использовать синтаксис (x for x in seq)\n",
    "оператор yield в теле функции вместо return\n",
    "встроенная функция iter, которая вызывает у объекта метод __iter__(). Этот метод должен возвращать генератор.\n",
    "Как получить из генератора список?\n",
    "\n",
    "Передать его в конструктор списка: list(x for x in some_seq). Важно, что после этого по генератору уже нельзя будет итерироваться.\n",
    "\n",
    "Можно ли извлечь элемент генератора по индексу?\n",
    "\n",
    "Нет, будет ошибка. Генератор не поддерживает метод __getitem__.\n",
    "\n",
    "\n",
    "Здесь важно, чтобы кандидат понимал различие и мог с той или иной степенью погружения рассказать про эти различия. Если кратко, то итератор в Python – это любой объект, который использует метод next() для получения следующего значения последовательности. Генератор – функция, которая производит или выдает последовательность значений с использованием метода yield. Концептуально, итератор — это механизм поэлементного обхода данных, а генератор позволяет отложено создавать результат при итерации. Генератор может создавать результат на основе какого-то алгоритма или брать элементы из источника данных (коллекция, файлы, сетевое подключения и др.) и изменять их."
   ]
  },
  {
   "cell_type": "markdown",
   "metadata": {},
   "source": [
    "\n",
    "### Декораторы\n",
    "\n",
    "Что такое декораторы?\n",
    "\n",
    "Декоратор в широком смысле – паттерн проектирования, когда один объект изменяет поведение другого. В Питоне декоратор, как правило, это функция A, которая принимает функцию B и возвращает функцию C. При этом функция C задействует в себе функцию B.\n",
    "\n",
    "Задекорировать функцию значит заменить ее на результат работы декоратора.\n",
    "\n",
    "Что может быть декоратором? К чему может быть применен декоратор?\n",
    "\n",
    "Декоратором может быть любой вызываемый объект: функция, лямбда, класс, экземпляр класса. В последнем случае определите метод __call__.\n",
    "\n",
    "Применять декоратор можно к любому объекту. Чаще всего к функциям, методам и классам. Декорирование встречается настолько часто, что под него выделен особый оператор @.\n",
    "\n",
    "def auth_only(view):\n",
    "    ...\n",
    "\n",
    "@auth_only\n",
    "def dashboard(request):\n",
    "    ...\n",
    "Если бы оператора декорирования не существовало, мы бы записали код выше так:\n",
    "\n",
    "def auth_only(view):\n",
    "    ...\n",
    "\n",
    "def dashboard(request):\n",
    "    ...\n",
    "\n",
    "dashboard = auth_only(dashboard)\n",
    "Что будет, если декоратор не возвращает ничего?\n",
    "\n",
    "Если в теле функции нет оператора return, вызов вернет None. Помним, результат декоратора замещает декорируемый объект. В нашем случае декоратор вернет None и функция, которую мы декорируем, тоже станет None. При попытке вызвать ее после декорирования получим ошибку NoneType is not callable.\n",
    "\n",
    "В чем отличие @foobar от @foobar()?\n",
    "\n",
    "Первое – обычное декорирование функцией foobar.\n",
    "\n",
    "Второй случай – декорирование функцией, которую вернет вызов foobar. По-другому это называется параметрический декоратор или фабрика декораторов. См. следующий вопрос.\n",
    "\n",
    "Что такое фабрика декораторов?\n",
    "\n",
    "Это функция, которая возвращает декоратор. Такой декоратор редко помещают в отдельную переменную. Вместо этого декорируют результатом вызова фабрики декораторов.\n",
    "\n",
    "Например, вам нужен декоратор для проверки прав. Логика проверки одинакова, но прав может быть много. Чтобы не плодить копипасту, напишем фабрику декораторов.\n",
    "\n",
    "from functools import wraps\n",
    "\n",
    "def has_perm(perm):\n",
    "    def decorator(view):\n",
    "        @wraps(view)\n",
    "        def wrapper(request):\n",
    "            if perm in request.user.permissions:\n",
    "                return view(request)\n",
    "            else:\n",
    "                return HTTPRedirect('/login')\n",
    "        return wrapper\n",
    "    return decorator\n",
    "\n",
    "@has_perm('view_user')\n",
    "def users(request):\n",
    "    ...\n",
    "Зачем нужен @wraps? functools.wraps\n",
    "\n",
    "wraps – декоратор из стандартной поставки Питона, модуль functools. Он назначает функции-врапперу те же поля __name__, __module__, __doc__, что и у исходной функции, которую вы декорируете. Это нужно для того, чтобы после декорирования функция-враппер не выглядела в стектрейсах как исходная функция.\n",
    "\n",
    "Можно ли использовать несколько декораторов для одной функции?  \n",
    "Можно ли создать декоратор из класса?  \n",
    "\n",
    "!!!Написать параметризированный декоратор, который печатает время выполнения декорированной функции. Параметр декоратора — точность округления в миллисекундах  \n",
    "https://habr.com/ru/post/141411/  \n",
    "https://habr.com/ru/post/141501/\n",
    "\n",
    "Decorator\n",
    "---------\n",
    "A decorator takes a function, adds some functionality and returns it.\n",
    "It can be any [callable](#callable), but is usually implemented as a function that returns a [closure](#closure).\n",
    "\n",
    " \n",
    "@decorator_name\n",
    "def function_that_gets_passed_to_decorator():\n",
    "    ...\n",
    " \n",
    "\n",
    "### Debugger Example\n",
    "Decorator that prints function's name every time it gets called.\n",
    "\n",
    " \n",
    "from functools import wraps\n",
    "\n",
    "def debug(func):\n",
    "    @wraps(func)\n",
    "    def out(*args, **kwargs):\n",
    "        print(func.__name__)\n",
    "        return func(*args, **kwargs)\n",
    "    return out\n",
    "\n",
    "@debug\n",
    "def add(x, y):\n",
    "    return x + y\n",
    " \n",
    "Wraps is a helper decorator that copies the metadata of the passed function (func) to the function it is wrapping (out).\n",
    "Without it `'add.__name__'` would return `'out'`.\n"
   ]
  },
  {
   "cell_type": "markdown",
   "metadata": {},
   "source": [
    "### LRU Cache\n",
    "Decorator that caches function's return values. All function's arguments must be hashable.\n",
    "\n",
    " \n",
    "from functools import lru_cache\n",
    "\n",
    "@lru_cache(maxsize=None)\n",
    "def fib(n):\n",
    "    return n if n < 2 else fib(n-2) + fib(n-1)\n",
    " \n",
    "Default size of the cache is 128 values. Passing `'maxsize=None'` makes it unbounded.\n",
    "CPython interpreter limits recursion depth to 1000 by default. To increase it use `'sys.setrecursionlimit(<depth>)'`."
   ]
  },
  {
   "cell_type": "markdown",
   "metadata": {},
   "source": [
    "### Parametrized Decorator\n",
    "A decorator that accepts arguments and returns a normal decorator that accepts a function.\n",
    " \n",
    "from functools import wraps\n",
    "\n",
    "def debug(print_result=False):\n",
    "    def decorator(func):\n",
    "        @wraps(func)\n",
    "        def out(*args, **kwargs):\n",
    "            result = func(*args, **kwargs)\n",
    "            print(func.__name__, result if print_result else '')\n",
    "            return result\n",
    "        return out\n",
    "    return decorator\n",
    "\n",
    "@debug(print_result=True)\n",
    "def add(x, y):\n",
    "    return x + y\n",
    " \n",
    "Using only `'@debug'` to decorate the add() function would not work here, because debug would then receive the add() function as a 'print_result' argument. Decorators can however manually check if the argument they received is a function and act accordingly."
   ]
  },
  {
   "cell_type": "markdown",
   "metadata": {},
   "source": [
    "### Классы\n",
    "\n",
    "Everything is an object.\n",
    "Every object has a type.\n",
    "Type and class are synonymous.\n",
    "\n",
    "<type> = type(<el>)                          # Or: <el>.__class__\n",
    "<bool> = isinstance(<el>, <type>)            # Or: issubclass(type(<el>), <type>)\n",
    "\n",
    ">>> type('a'), 'a'.__class__, str\n",
    "(<class 'str'>, <class 'str'>, <class 'str'>)\n",
    "\n",
    "Some types do not have built-in names, so they must be imported:\n",
    " \n",
    "from types import FunctionType, MethodType, LambdaType, GeneratorType, ModuleType\n",
    "\n",
    "### Abstract Base Classes\n",
    "Each abstract base class specifies a set of virtual subclasses. These classes are then recognized by isinstance() and issubclass() as subclasses of the ABC, although they are really not. ABC can also manually decide whether or not a specific class is its virtual subclass, usually based on which methods the class has implemented. For instance, Iterable ABC looks for method iter() while Collection ABC looks for methods iter(), contains() and len().\n",
    "\n",
    "Class\n",
    "-----\n",
    " \n",
    "class <name>:\n",
    "    def __init__(self, a):\n",
    "        self.a = a\n",
    "    def __repr__(self):\n",
    "        class_name = self.__class__.__name__\n",
    "        return f'{class_name}({self.a!r})'\n",
    "    def __str__(self):\n",
    "        return str(self.a)\n",
    "\n",
    "    @classmethod\n",
    "    def get_class_name(cls):\n",
    "        return cls.__name__\n",
    " \n",
    "Return value of repr() should be unambiguous and of str() readable.\n",
    "If only repr() is defined, it will also be used for str().\n",
    "\n",
    "#### Str() use cases:\n",
    " \n",
    "print(<el>)\n",
    "f'{<el>}'\n",
    "logging.warning(<el>)\n",
    "csv.writer(<file>).writerow([<el>])\n",
    "raise Exception(<el>)\n",
    " \n",
    "\n",
    "#### Repr() use cases:\n",
    " \n",
    "print/str/repr([<el>])\n",
    "f'{<el>!r}'\n",
    "Z = dataclasses.make_dataclass('Z', ['a']); print/str/repr(Z(<el>))\n",
    ">>> <el>\n",
    " \n",
    "\n",
    "### Constructor Overloading\n",
    " \n",
    "class <name>:\n",
    "    def __init__(self, a=None):\n",
    "        self.a = a\n",
    "\n",
    "### Inheritance\n",
    " \n",
    "class Person:\n",
    "    def __init__(self, name, age):\n",
    "        self.name = name\n",
    "        self.age  = age\n",
    "\n",
    "class Employee(Person):\n",
    "    def __init__(self, name, age, staff_num):\n",
    "        super().__init__(name, age)\n",
    "        self.staff_num = staff_num\n",
    "\n",
    "### Multiple Inheritance\n",
    " \n",
    "class A: pass\n",
    "class B: pass\n",
    "class C(A, B): pass\n",
    "\n",
    "MRO determines the order in which parent classes are traversed when searching for a method:\n",
    " \n",
    ">>> C.mro()\n",
    "[<class 'C'>, <class 'A'>, <class 'B'>, <class 'object'>]\n",
    "\n",
    "### Property\n",
    "Pythonic way of implementing getters and setters.\n",
    " \n",
    "class Person:\n",
    "    @property\n",
    "    def name(self):\n",
    "        return ' '.join(self._name)\n",
    "\n",
    "    @name.setter\n",
    "    def name(self, value):\n",
    "        self._name = value.split()\n",
    "\n",
    ">>> person = Person()\n",
    ">>> person.name = '\\t Guido  van Rossum \\n'\n",
    ">>> person.name\n",
    "'Guido van Rossum'\n",
    "\n",
    "#### Inline:\n",
    " \n",
    "from dataclasses import make_dataclass\n",
    "<class> = make_dataclass('<class_name>', <coll_of_attribute_names>)\n",
    "<class> = make_dataclass('<class_name>', <coll_of_tuples>)\n",
    "<tuple> = ('<attr_name>', <type> [, <default_value>])\n",
    "\n",
    "#### Rest of type annotations (CPython interpreter ignores them all):\n",
    " \n",
    "def func(<arg_name>: <type> [= <obj>]) -> <type>:\n",
    "<var_name>: typing.List/Set/Iterable/Sequence/Optional[<type>]\n",
    "<var_name>: typing.Dict/Tuple/Union[<type>, ...]\n",
    "\n",
    "### Slots\n",
    "Mechanism that restricts objects to attributes listed in 'slots' and significantly reduces their memory footprint.\n",
    "\n",
    "class MyClassWithSlots:\n",
    "    __slots__ = ['a']\n",
    "    def __init__(self):\n",
    "        self.a = 1\n",
    "\n",
    "### Copy\n",
    " \n",
    "from copy import copy, deepcopy\n",
    "<object> = copy(<object>)\n",
    "<object> = deepcopy(<object>)\n",
    "\n",
    "Duck Types\n",
    "----------\n",
    "A duck type is an implicit type that prescribes a set of special methods. Any object that has those methods defined is considered a member of that duck type.\n",
    "\n",
    "### Comparable\n",
    "If eq() method is not overridden, it returns `'id(self) == id(other)'`, which is the same as `'self is other'`.\n",
    "That means all objects compare not equal by default.\n",
    "Only the left side object has eq() method called, unless it returns NotImplemented, in which case the right object is consulted.\n",
    "Ne() automatically works on any object that has eq() defined.\n",
    "\n",
    "class MyComparable:\n",
    "    def __init__(self, a):\n",
    "        self.a = a\n",
    "    def __eq__(self, other):\n",
    "        if isinstance(other, type(self)):\n",
    "            return self.a == other.a\n",
    "        return NotImplemented\n",
    "\n",
    "### Hashable\n",
    "Hashable object needs both hash() and eq() methods and its hash value should never change.\n",
    "Hashable objects that compare equal must have the same hash value, meaning default hash() that returns `'id(self)'` will not do.\n",
    "That is why Python automatically makes classes unhashable if you only implement eq().\n",
    "\n",
    "class MyHashable:\n",
    "    def __init__(self, a):\n",
    "        self._a = a\n",
    "    @property\n",
    "    def a(self):\n",
    "        return self._a\n",
    "    def __eq__(self, other):\n",
    "        if isinstance(other, type(self)):\n",
    "            return self.a == other.a\n",
    "        return NotImplemented\n",
    "    def __hash__(self):\n",
    "        return hash(self.a)\n",
    "\n",
    "### Sortable\n",
    "With 'total_ordering' decorator, you only need to provide eq() and one of lt(), gt(), le() or ge() special methods and the rest will be automatically generated.\n",
    "Functions sorted() and min() only require lt() method, while max() only requires gt(). However, it is best to define them all so that confusion doesn't arise in other contexts.\n",
    "When two lists, strings or dataclasses are compared, their values get compared in order until a pair of unequal values is found. The comparison of this two values is then returned. The shorter sequence is considered smaller in case of all values being equal.\n",
    "\n",
    "from functools import total_ordering\n",
    "\n",
    "@total_ordering\n",
    "class MySortable:\n",
    "    def __init__(self, a):\n",
    "        self.a = a\n",
    "    def __eq__(self, other):\n",
    "        if isinstance(other, type(self)):\n",
    "            return self.a == other.a\n",
    "        return NotImplemented\n",
    "    def __lt__(self, other):\n",
    "        if isinstance(other, type(self)):\n",
    "            return self.a < other.a\n",
    "        return NotImplemented\n",
    "\n",
    "### Iterator\n",
    "Any object that has methods next() and iter() is an iterator.\n",
    "Next() should return next item or raise StopIteration.\n",
    "Iter() should return 'self'.\n",
    " \n",
    "class Counter:\n",
    "    def __init__(self):\n",
    "        self.i = 0\n",
    "    def __next__(self):\n",
    "        self.i += 1\n",
    "        return self.i\n",
    "    def __iter__(self):\n",
    "        return self\n",
    "\n",
    ">>> counter = Counter()\n",
    ">>> next(counter), next(counter), next(counter)\n",
    "(1, 2, 3)\n",
    "\n",
    "#### Python has many different iterator objects:\n",
    "Sequence iterators returned by the [iter()](#iterator) function, such as list\\_iterator and set\\_iterator.\n",
    "Objects returned by the [itertools](#itertools) module, such as count, repeat and cycle.\n",
    "Generators returned by the [generator functions](#generator) and [generator expressions](#comprehensions).\n",
    "File objects returned by the [open()](#open) function, etc.\n",
    "\n",
    "### Callable\n",
    "All functions and classes have a call() method, hence are callable.\n",
    "When this cheatsheet uses `'<function>'` as an argument, it actually means `'<callable>'`.\n",
    " \n",
    "class Counter:\n",
    "    def __init__(self):\n",
    "        self.i = 0\n",
    "    def __call__(self):\n",
    "        self.i += 1\n",
    "        return self.i\n",
    " \n",
    ">>> counter = Counter()\n",
    ">>> counter(), counter(), counter()\n",
    "(1, 2, 3)\n"
   ]
  },
  {
   "cell_type": "markdown",
   "metadata": {},
   "source": [
    "### Collection\n",
    "Only required methods are iter() and len().\n",
    "This cheatsheet actually means `'<iterable>'` when it uses `'<collection>'`.\n",
    "I chose not to use the name 'iterable' because it sounds scarier and more vague than 'collection'. The only drawback of this decision is that a reader could think a certain function doesn't accept iterators when it does, since iterators are the only built-in objects that are iterable but are not collections.\n",
    " \n",
    "class MyCollection:\n",
    "    def __init__(self, a):\n",
    "        self.a = a\n",
    "    def __iter__(self):\n",
    "        return iter(self.a)\n",
    "    def __contains__(self, el):\n",
    "        return el in self.a\n",
    "    def __len__(self):\n",
    "        return len(self.a)"
   ]
  },
  {
   "cell_type": "markdown",
   "metadata": {},
   "source": [
    "### Sequence\n",
    "Only required methods are len() and getitem().\n",
    "Getitem() should return an item at the passed index or raise IndexError.\n",
    "Iter() and contains() automatically work on any object that has getitem() defined.\n",
    "Reversed() automatically works on any object that has len() and getitem() defined.\n",
    " \n",
    "class MySequence:\n",
    "    def __init__(self, a):\n",
    "        self.a = a\n",
    "    def __iter__(self):\n",
    "        return iter(self.a)\n",
    "    def __contains__(self, el):\n",
    "        return el in self.a\n",
    "    def __len__(self):\n",
    "        return len(self.a)\n",
    "    def __getitem__(self, i):\n",
    "        return self.a[i]\n",
    "    def __reversed__(self):\n",
    "        return reversed(self.a)"
   ]
  },
  {
   "cell_type": "markdown",
   "metadata": {},
   "source": [
    "## Introspection\n",
    "\n",
    "Inspecting code at runtime.\n",
    "\n",
    "### Variables\n",
    " \n",
    "<list> = dir()                             # Names of local variables (incl. functions).\n",
    "<dict> = vars()                            # Dict of local variables. Also locals().\n",
    "<dict> = globals()                         # Dict of global variables.\n",
    " \n",
    "\n",
    "### Attributes\n",
    " \n",
    "<list> = dir(<object>)                     # Names of object's attributes (incl. methods).\n",
    "<dict> = vars(<object>)                    # Dict of writable attributes. Also <obj>.__dict__.\n",
    "<bool> = hasattr(<object>, '<attr_name>')  # Checks if getattr() raises an AttributeError.\n",
    "value  = getattr(<object>, '<attr_name>')  # Raises AttributeError if attribute is missing.\n",
    "setattr(<object>, '<attr_name>', value)    # Only works on objects with '__dict__' attribute.\n",
    "delattr(<object>, '<attr_name>')           # Same. Also `del <object>.<attr_name>`.\n",
    " \n",
    "\n",
    "### Parameters\n",
    " \n",
    "from inspect import signature\n",
    "<Sig>  = signature(<function>)             # Function's Signature object.\n",
    "<dict> = <Sig>.parameters                  # Dict of function's Parameter objects.\n",
    "<str>  = <Param>.name                      # Parameter's name.\n",
    "<memb> = <Param>.kind                      # Member of ParameterKind enum.\n",
    "\n",
    "(использование dir(), dir, hasattr(), getattr())\n",
    "\n",
    "Как получить список атрибутов объекта?\n",
    "\n",
    "Функция dir возвращает список строк – полей объекта. Поле __dict__ содержит словарь вида {поле -> значение}."
   ]
  },
  {
   "cell_type": "markdown",
   "metadata": {},
   "source": [
    "Operator\n",
    "--------\n",
    "Module of functions that provide the functionality of operators.\n",
    " \n",
    "import operator as op\n",
    "<el>      = op.add/sub/mul/truediv/floordiv/mod(<el>, <el>)  # +, -, *, /, //, %\n",
    "<int/set> = op.and_/or_/xor(<int/set>, <int/set>)            # &, |, ^\n",
    "<bool>    = op.eq/ne/lt/le/gt/ge(<sortable>, <sortable>)     # ==, !=, <, <=, >, >=\n",
    "<func>    = op.itemgetter/attrgetter/methodcaller(<obj>)     # [index/key], .name, .name()\n",
    " \n",
    "\n",
    " \n",
    "elementwise_sum  = map(op.add, list_a, list_b)\n",
    "sorted_by_second = sorted(<collection>, key=op.itemgetter(1))\n",
    "sorted_by_both   = sorted(<collection>, key=op.itemgetter(1, 0))\n",
    "product_of_elems = functools.reduce(op.mul, <collection>)\n",
    "union_of_sets    = functools.reduce(op.or_, <coll_of_sets>)\n",
    "first_element    = op.methodcaller('pop', 0)(<list>)\n",
    " \n",
    "Binary operators require objects to have and(), or(), xor() and invert() special methods, unlike logical operators that work on all types of objects.\n",
    "Also: `'<bool> = <bool> &|^ <bool>'` and `'<int> = <bool> &|^ <int>'`."
   ]
  },
  {
   "cell_type": "markdown",
   "metadata": {},
   "source": [
    "### Одинарное (_) и двойное (__) подчеркивания. Name mangling.\n",
    "\n",
    "Python не использует спецификаторы доступа, такие как private, public, protected и т. д. Однако, в нем есть имитации поведения переменных путем использования одинарного или двойного подчеркивания в качестве префикса к именам переменных. По умолчанию переменные без подчеркивания являются общедоступными.\n",
    "\n",
    "Поле класса с одним лидирующим подчеркиванием говорит о том, что параметр используется только внутри класса. При этом он доступен для обращения извне.\n",
    "\n",
    "```python\n",
    "class Foo(object):\n",
    "    def __init__(self):\n",
    "        self._bar = 42\n",
    "\n",
    "Foo()._bar\n",
    "42\n",
    "```\n",
    "\n",
    "Современные IDE вроде PyCharm подсвечивают обращение к полю с подчеркиванием, но ошибки в процессе исполнения не будет.\n",
    "\n",
    "Поля с двойным подчеркиванием доступны внутри класса, но извне доступны только при обращении к полю вида _<ClassName>__<fieldName> (name mangling). Значение скрытого поля вне класса получить можно, но это смотрится уродливо.\n",
    "\n",
    "```python\n",
    "class Foo(object):\n",
    "    def __init__(self):\n",
    "        self.__bar = 42\n",
    "\n",
    "Foo().__bar\n",
    "  AttributeError: 'Foo' object has no attribute '__bar'\n",
    "\n",
    "Foo()._Foo__bar\n",
    "42\n",
    "```\n",
    "\n",
    "В целом, джентельменское соглашение пайтон-программистов подразумевает (простое именование для приватных переменных или использование одинарного подчеркивания для переменных, которые **очень** нежелательно вытаскивать за пределы класса) + использование методов для доступа к переменным\n",
    "```python\n",
    "class Stack(object):\n",
    "\n",
    "    def __init__(self):\n",
    "        self._storage = []\n",
    "\n",
    "    def push(self, value):\n",
    "        self._storage.append(value)\n",
    "```\n"
   ]
  },
  {
   "cell_type": "markdown",
   "metadata": {},
   "source": [
    "## Что такое MRO? Какая разница между MRO2 и MR3 (diamond problem)?!!!\n",
    "\n",
    "Возможно ли множественное наследование? Что такое MRO?\n",
    "\n",
    "Да, можно указать более одного родителя в классе потомка.\n",
    "\n",
    "MRO – method resolution order, порядок разрешения методов. Алгоритм, по которому следует искать метод в случае, если у класса два и более родителей. Алгоритм линеаризует граф наследования. Коротко можно описать так: ищи слева направо. Поэтому чем левее стоит класс, тем больше у него приоритет при поиске метода."
   ]
  },
  {
   "cell_type": "markdown",
   "metadata": {},
   "source": [
    "Metaprogramming\n",
    "---------------\n",
    "Code that generates code.\n",
    "\n",
    "### Type\n",
    "Type is the root class. If only passed an object it returns its type (class). Otherwise it creates a new class.\n",
    "\n",
    " \n",
    "<class> = type('<class_name>', <tuple_of_parents>, <dict_of_class_attributes>)\n",
    " \n",
    "\n",
    " \n",
    ">>> Z = type('Z', (), {'a': 'abcde', 'b': 12345})\n",
    ">>> z = Z()"
   ]
  },
  {
   "cell_type": "markdown",
   "metadata": {},
   "source": [
    "## Метаклассы!!!  \n",
    "\n",
    "Что такое метакласс, переменная цикла?\n",
    "Какие задачи решали с помощью метаклассов?\n",
    "\n",
    "### Meta Class\n",
    "A class that creates classes.\n",
    "\n",
    " \n",
    "def my_meta_class(name, parents, attrs):\n",
    "    attrs['a'] = 'abcde'\n",
    "    return type(name, parents, attrs)\n",
    " \n",
    "\n",
    "#### Or:\n",
    " \n",
    "class MyMetaClass(type):\n",
    "    def __new__(cls, name, parents, attrs):\n",
    "        attrs['a'] = 'abcde'\n",
    "        return type.__new__(cls, name, parents, attrs)\n",
    " \n",
    "New() is a class method that gets called before init(). If it returns an instance of its class, then that instance gets passed to init() as a 'self' argument.\n",
    "It receives the same arguments as init(), except for the first one that specifies the desired type of the returned instance (MyMetaClass in our case).\n",
    "Like in our case, new() can also be called directly, usually from a new() method of a child class (`def __new__(cls): return super().__new__(cls)`).\n",
    "The only difference between the examples above is that my\\_meta\\_class() returns a class of type type, while MyMetaClass() returns a class of type MyMetaClass.\n",
    "\n",
    "### Metaclass Attribute\n",
    "Right before a class is created it checks if it has the 'metaclass' attribute defined. If not, it recursively checks if any of his parents has it defined and eventually comes to type().\n",
    "\n",
    " \n",
    "class MyClass(metaclass=MyMetaClass):\n",
    "    b = 12345\n",
    " \n",
    "\n",
    " \n",
    ">>> MyClass.a, MyClass.b\n",
    "('abcde', 12345)\n",
    " \n",
    "\n",
    "### Type Diagram\n",
    " \n",
    "type(MyClass)     == MyMetaClass     # MyClass is an instance of MyMetaClass.\n",
    "type(MyMetaClass) == type            # MyMetaClass is an instance of type.\n",
    " \n",
    "\n",
    " text\n",
    "+-------------+-------------+\n",
    "|   Classes   | Metaclasses |\n",
    "+-------------+-------------|\n",
    "|   MyClass --> MyMetaClass |\n",
    "|             |     v       |\n",
    "|    object -----> type <+  |\n",
    "|             |     ^ +--+  |\n",
    "|     str ----------+       |\n",
    "+-------------+-------------+\n",
    " \n",
    "\n",
    "### Inheritance Diagram\n",
    " \n",
    "MyClass.__base__     == object       # MyClass is a subclass of object.\n",
    "MyMetaClass.__base__ == type         # MyMetaClass is a subclass of type.\n",
    " \n",
    "\n",
    " text\n",
    "+-------------+-------------+\n",
    "|   Classes   | Metaclasses |\n",
    "+-------------+-------------|\n",
    "|   MyClass   | MyMetaClass |\n",
    "|      v      |     v       |\n",
    "|    object <----- type     |\n",
    "|      ^      |             |\n",
    "|     str     |             |\n",
    "+-------------+-------------+\n",
    " \n",
    "\n",
    "\n",
    "https://proglib.io/p/metaclasses-in-python  \n",
    "https://habr.com/ru/post/145835/  "
   ]
  },
  {
   "cell_type": "markdown",
   "metadata": {},
   "source": [
    "## PEP8\n",
    "\n",
    "Пробовал flake8 + black, остановился на линтере, встроенном в Pycharm + mypy."
   ]
  },
  {
   "cell_type": "markdown",
   "metadata": {},
   "source": [
    "Разница между is и ==?  \n",
    "Как создается объект в Python, разница между __init __() и __new __()?  \n",
    "В чем разница между потоками и процессами?  \n",
    "Какие есть виды импорта?  \n",
    "Что такое класс, итератор, генератор?  \n",
    "В чем разница между итераторами и генераторами?  \n",
    "В чем разница между staticmethod и classmethod?  \n",
    "Как работают dict comprehension, list comprehension и set comprehension?  \n"
   ]
  },
  {
   "cell_type": "markdown",
   "metadata": {},
   "source": [
    "### lambda-функции\n",
    "\n",
    "Это анонимные функции. Они не резервируют имени в пространстве имен. Лямбды часто передают в функции map, reduce, filter.\n",
    "\n",
    "Лямбды в Питоне могут состоять только из одного выражения. Используя синтаксис скобок, можно оформить тело лямбды в несколько строк.\n",
    "\n",
    "Допустимы ли следующие выражения?\n",
    "\n",
    "nope = lambda: pass\n",
    "riser = lambda x: raise Exception(x)\n",
    "Нет, при загрузке модуля выскочит исключение SyntaxError. В теле лямбды может быть только выражение. pass и raise являются операторами."
   ]
  },
  {
   "cell_type": "markdown",
   "metadata": {},
   "source": [
    "\n",
    "### *args, **kwargs\n",
    "\n",
    "Выражения *args и **kwargs объявляют в сигнатуре функции. Они означают, что внутри функции будут доступны переменные с именами args и kwargs (без звездочек). Можно использовать другие имена, но это считается дурным тоном.\n",
    "\n",
    "args – это кортеж, который накапливает позиционные аргументы. kwargs – словарь позиционных аргументов, где ключ – имя параметра, значение – значение параметра.\n",
    "\n",
    "Важно: если в функцию не передано никаких параметров, переменные будут соответственно равны пустому кортежу и пустому словарю, а не None."
   ]
  },
  {
   "cell_type": "markdown",
   "metadata": {},
   "source": [
    "Как работает thread locals?  \n",
    "Что такое type annotation?  \n",
    "Что такое @property?  \n",
    "Каким образом можно запустить код на Python параллельно?  \n",
    "Как работать с stdlib?  \n",
    "Что такое дескрипторы?  \n",
    "\n",
    "Какой будет результат операции -12 % 10?  \n",
    "Какой будет результат операции -12 // 10?  \n",
    "Какая последовательность вызова операторов в выражении a * b * c?  \n",
    "Что делает функция id()?  \n",
    "Для чего зарезервировано ключевое слово yield?  \n",
    "В чем разница между __iter__ и __next__?\n",
    "Что такое синхронный код? А асинхронный? Как написать асинхронное приложение?\n",
    "Что такое проверка типов? Какие есть типы в Python?\n",
    "\n",
    "Как можно расширить зону видимости глобальных переменных на другие модули?\n",
    "Как создать класс без инструкции class?\n",
    "\n",
    "Как внедрить в программу расширения, написанные на языках C или C++? Что позволяет использовать библиотеки C-языков, что дает возможность управления ресурсами на более низком уровне? Конечно же, кандидат должен знать, что за такое отвечает интерпретатор CPython.\n"
   ]
  },
  {
   "cell_type": "markdown",
   "metadata": {},
   "source": [
    "\n",
    "Почему def foo(bar=[]): плохо? Приведите пример плохого случая. Как исправить?\n",
    "Почему нельзя сделать пустой список аргументом по умолчанию?  \n",
    "\n",
    "Функция создается однажды при загрузке модуля. Именованные параметры и их дефолтные значения тоже создаются один раз и хранятся в одном из полей объекта-функции.\n",
    "\n",
    "В нашем примере bar равен пустому списку. Список – изменяемая коллекция, поэтому значение bar может изменяться от вызова к вызову. Пример:\n",
    "\n",
    "def foo(bar=[]):\n",
    "    bar.append(1)\n",
    "    return bar\n",
    "foo()\n",
    "[1]\n",
    "foo()\n",
    "[1, 1]\n",
    "foo()\n",
    "[1, 1, 1]\n",
    "Хорошим тоном считается указывать параметру пустое неизменяемое значение, например 0, None, '', False. В теле функции проверять на заполненность и создавать новую коллекцию:\n",
    "\n",
    "def foo(bar=None):\n",
    "    if bar is None:\n",
    "        bar = []\n",
    "    bar.append(1)\n",
    "    return bar\n",
    "foo()\n",
    "[1]\n",
    "foo()\n",
    "[1]\n",
    "foo()\n",
    "[1]\n"
   ]
  },
  {
   "cell_type": "markdown",
   "metadata": {},
   "source": [
    "\n",
    "### Классы, объекты\n",
    "\n",
    "Что такое магические методы, для чего нужны?\n",
    "\n",
    "Магическими метода называют методы, имена которых начинаются и заканчиваются двойным подчеркиванием. Магические они потому, что почти никогда не вызываются явно. Их вызывают встроенные функции или синтаксические конструкции. Например, функция len() вызывает метод __len__() переданного объекта. Метод __add__(self, other) вызывается автоматически при сложении оператором +.\n",
    "\n",
    "Перечислим некоторые магические методы:\n",
    "\n",
    "__init__: конструктор класса  \n",
    "__add__: сложение с другим объектом  \n",
    "__eq__: проверка на равенство с другим объектом  \n",
    "__cmp__: сравнение (больше, меньше, равно)  \n",
    "__iter__: при подстановке объекта в цикл  \n",
    "\n",
    "Как в классе сослаться на родительский класс?\n",
    "\n",
    "Функция super принимает класс и экземпляр:\n",
    "\n",
    "```python\n",
    "class NextClass(FirstClass):\n",
    "    def __init__(self, x):\n",
    "        super(NextClass, self).__init__()\n",
    "        self.x = x\n",
    "```"
   ]
  },
  {
   "cell_type": "markdown",
   "metadata": {},
   "source": [
    "### Контекстный менеджер\n",
    "\n",
    "В питоне есть оператор with. Размещенный внутри код выполняется с особенностью: до и после гарантированно срабатывают события входа в блок with и выхода из него. Объект, который определяет логику событий, называется контекстным менеджером.\n",
    "\n",
    "На уровне класса события определены методами __enter__ и __exit__. Первый срабатывает в тот момент, когда ход исполнения программы переходит внутрь with. Метод может вернуть значение. Оно будет доступно низлежащему внутри блока with коду.\n",
    "\n",
    "__exit__ срабатывает в момент выхода блока, в т.ч. и в случае исключения. В этом случае в метод будет передана тройка значений (exc_class, exc_instance, traceback).\n",
    "\n",
    "Самый распространённый контекстный менеджер – класс, порожденный функцией open. Он гарантирует, что файл будет закрыт даже в том случае, если внутри блока возникнет ошибка.\n",
    "\n",
    "Желательно выходить из контекстного менеджера как можно быстрее, чтобы освобождать контекст и ресурсы.\n",
    "\n",
    "```python\n",
    "with open('file.txt') as f:\n",
    "    data = f.read()\n",
    "process_data(data)\n",
    "```\n",
    "\n",
    "В примере выше мы вышли из блока with сразу же после прочтения файла. Обработка данных происходит в основном блоке программы.\n",
    "\n",
    "Контекстные менеджеры можно использовать для временной замены параметров, переменных окружения, транзакций БД.\n",
    "\n",
    "Какие функции нужно переопределить в классе А, чтобы экземпляры этого класса могли реализовать протокол контекстного менеджера?\n",
    "\n",
    "Напишем свой контекстный менеджер:\n",
    "\n",
    "### Context Manager\n",
    "Enter() should lock the resources and optionally return an object.\n",
    "Exit() should release the resources.\n",
    "Any exception that happens inside the with block is passed to the exit() method.\n",
    "If it wishes to suppress the exception it must return a true value.\n",
    " \n",
    "class MyOpen:\n",
    "    def __init__(self, filename):\n",
    "        self.filename = filename\n",
    "    def __enter__(self):\n",
    "        self.file = open(self.filename)\n",
    "        return self.file\n",
    "    def __exit__(self, exc_type, exception, traceback):\n",
    "        self.file.close()\n",
    "\n",
    ">>> with open('test.txt', 'w') as file:\n",
    "...     file.write('Hello World!')\n",
    ">>> with MyOpen('test.txt') as file:\n",
    "...     print(file.read())\n",
    "Hello World!"
   ]
  },
  {
   "cell_type": "markdown",
   "metadata": {},
   "source": [
    "\n",
    "Прокомментировать выражение object() == object()\n",
    "\n",
    "Всегда ложь, поскольку по умолчанию объекты сравниваются по полю id (адрес в памяти), если только не переопределен метод __eq__.\n",
    "\n",
    "Как удаляется объект?"
   ]
  },
  {
   "cell_type": "markdown",
   "metadata": {},
   "source": [
    "\n",
    "### \\_\\_slots\\_\\_\n",
    "\n",
    "Классы хранят поля и их значения в секретном словаре dict. Поскольку словарь – изменяемая структура, вы можете на лету добавлять и удалять из класса поля. Параметр slots в классе жестко фиксирует набор полей класса. Слоты используются когда у класса может быть очень много полей, например, в некоторых ORM, либо когда критична производительность, потому что доступ к слоту срабатывает быстрее, чем поиск в словаре.\n",
    "\n",
    "Слоты активно используются в библиотеках requests и falcon.\n",
    "\n",
    "Недостатки: нельзя присвоить классу поле, которого нет в слотах. Не работают методы __getattr__ и __setattr__."
   ]
  },
  {
   "cell_type": "markdown",
   "metadata": {},
   "source": [
    "\n",
    "### Многопоточность\n",
    "\n",
    "Многопоточность достигается модулем Threading. Это нативные Posix-треды, такие треды исполняются операционной системой, а не виртуальной машиной.\n",
    "\n",
    "В чем отличие тредов от мультипроцессинга?\n",
    "\n",
    "Главное отличие в разделении памяти. Процессы независимы друг от друга, имеют раздельные адресные пространства, идентификаторы, ресурсы. Треды исполняются в совместном адресном пространстве, имеют общий доступ к памяти, переменным, загруженным модулям.\n",
    "\n",
    "Какие задачи хорошо параллелятся, какие плохо?\n",
    "\n",
    "Те задачи, которые порождают долгий IO. Когда тред упирается в ожидание сокета или диска, интерпретатор бросает этот тред и стартует следующий. Это значит, не будет простоя из-за ожидания. Наоборот, если ходить в сеть в одном треде (в цикле), то каждый раз придется ждать ответа.\n",
    "\n",
    "Однако, если затем в треде обрабатывает полученные данные, то выполнятся будет только он один. Это не только не даст прироста в скорости, но и замедлит программу из-за переключения на другие треды.\n",
    "\n",
    "Короткий ответ: хорошо ложатся на треды задачи по работе с сетью. Например, выкачать сто урлов. Полученные данные обрабатывайте вне тредов.\n",
    "\n",
    "Нужно посчитать 100 уравнений. Делать это в тредах или нет?\n",
    "\n",
    "Нет, потому что в этой задаче нет ввода-вывода. Интерпретатор только будет тратить лишнее время на переключение тредов. Сложные математические задачи лучше выносить в отдельные процессы, либо использовать фреймворк для распределенных задач Celery, либо подключать как C-библиотеки.\n",
    "\n",
    "Понимание что такое heap dump и thread dump.\n",
    "\n",
    "понимание многопоточности, способов ей управлять и проблем, с этим связанных (синхронизации, локи, race condition и т.д.);"
   ]
  },
  {
   "cell_type": "markdown",
   "metadata": {},
   "source": [
    "\n"
   ]
  },
  {
   "cell_type": "markdown",
   "metadata": {},
   "source": [
    "### Копирование объектов\n",
    "\n",
    "В Python оператор присваивания (=) не копирует объекты. Вместо этого он создает связь между существующим объектом и именем целевой переменной. Чтобы создать копии объекта в Python, необходимо использовать модуль copy. Более того, существует два способа создания копий для данного объекта с помощью модуля copy.\n",
    "\n",
    "Shallow Copy – это побитовая копия объекта. Созданный скопированный объект имеет точную копию значений в исходном объекте. Если одно из значений является ссылкой на другие объекты, копируются только адреса ссылок на них.\n",
    "Deep Copy – рекурсивно копирует все значения от исходного объекта к целевому, т. е. дублирует даже объекты, на которые ссылается исходный объект."
   ]
  },
  {
   "cell_type": "markdown",
   "metadata": {},
   "source": [
    "## Источники  \n",
    "Официальная документация Python [docs.python.org](https://docs.python.org/), включающая [The Python Standard Library](https://docs.python.org/3/library/index.html).  \n",
    "Весьма подробное руководство (совсем уж базовый синтаксис не включен): [Comprehensive Python Cheatsheet](https://github.com/gto76/python-cheatsheet).  \n",
    "Руководство с включением базового синтаксиса: [Python Cheatsheet](https://github.com/wilfredinni/python-cheatsheet). Включает практические Jupiter [Notebooks](https://github.com/wilfredinni/python-cheatsheet/tree/master/jupyter_notebooks).  \n",
    "Сипсок библиотек и фреймворков: [Awesome Python](https://github.com/vinta/awesome-python).  \n",
    "Около-питоновские практические советы (pip, virtualenv, pyInstaller и т. д.): [\"The Hitchhiker’s Guide to Python\"](https://github.com/realpython/python-guide).  \n",
    "Мануал для начинающих дата-сайентистов: [Joel Grus, \"Data Science from Scratch\"](https://github.com/joelgrus/data-science-from-scratch).  \n",
    "Руководство для начинающих: [\"Python Notes for Professionals\"](https://goalkicker.com/PythonBook/).  \n",
    "Руководство для опытных программистов: [\"Python 3 Patterns, Recipes and Idioms\"](https://python-3-patterns-idioms-test.readthedocs.io/en/latest/index.html).  "
   ]
  }
 ],
 "metadata": {
  "interpreter": {
   "hash": "26de051ba29f2982a8de78e945f0abaf191376122a1563185a90213a26c5da77"
  },
  "kernelspec": {
   "display_name": "Python 3.10.0 64-bit",
   "language": "python",
   "name": "python3"
  },
  "language_info": {
   "codemirror_mode": {
    "name": "ipython",
    "version": 3
   },
   "file_extension": ".py",
   "mimetype": "text/x-python",
   "name": "python",
   "nbconvert_exporter": "python",
   "pygments_lexer": "ipython3",
   "version": "3.10.0"
  },
  "orig_nbformat": 4
 },
 "nbformat": 4,
 "nbformat_minor": 2
}
